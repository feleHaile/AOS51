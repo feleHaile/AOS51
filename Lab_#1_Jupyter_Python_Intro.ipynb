{
 "cells": [
  {
   "cell_type": "markdown",
   "metadata": {},
   "source": [
    "# AOS 51 Lab, Spring 2018, Lab #1\n",
    "---\n",
    "\n",
    "# Lab overview\n",
    "\n",
    "The overall goal of the AOS51 lab is to teach the Python programming language for climate data analysis and visualizations. \n",
    "\n",
    "Throughout the course, we will use real data sets to gain experience on actual climate phenomenon happening around us. \n",
    "\n",
    "We will cover the following topics:\n",
    "* Coding/writing in JupyterHub\n",
    "* Mathetmatical and statistical operations using NumPy/SciPy\n",
    "* Analyzing text and CSV files using Pandas\n",
    "* Array manipulation and working with netCDF files\n",
    "* Simple plots (line charts, bar charts, scatter plots)\n",
    "* Maps\n",
    "\n",
    "The lab will be offered two per week, please attend one of them:\n",
    "\n",
    "* Monday, 5-6pm\n",
    "* Wednesday, 5-6pm \n",
    "\n",
    "There will be three take-home assignments, which will be shared at least one week before they are due. Students are encouraged to work collaboratively on the problems, but each student needs to submit their own code to me. \n",
    "\n",
    "Lab assignment due dates:\n",
    "* Exercise #1: 4/20/18\n",
    "* Exercise #2: 5/11/18\n",
    "* Exercise #3: 5/25/18 \n",
    "\n",
    "A final lab project will provide students the opportunity to explore in-depth and report on a current climate change topic. More details will be shared later in the quarter. \n",
    "\n",
    "Final project due date:\n",
    "* 6/6/2018\n",
    "\n",
    "---\n",
    "# Why Python?\n",
    "\n",
    "Before we jump into Python, it is important to justify why we are using it over many other options. \n",
    "\n",
    "Why I love Python for climate data analyses:\n",
    "\n",
    "* Robust mathetmatical and statistical packages\n",
    "* Seamless interface with [netCDF](https://www.unidata.ucar.edu/software/netcdf/) data\n",
    "* Great plotting packages for professional-quality figures\n",
    "* Large and friendly [user-community](http://pyaos.johnny-lin.com/) \n",
    "\n",
    "\n",
    "Why I love Python in general:\n",
    "\n",
    "* Forces clean code by mandating tab indents after loops or conditional statements\n",
    "* Stresses *readability* by humans, not computers\n",
    "* Named after [Monty Python](https://en.wikipedia.org/wiki/Monty_Python)\n",
    "* Used for data analytics and web design in major tech companies and government/scientific organizations:\n",
    "    * Google, Instagram, Spotify, Reddit, Etsy, WebMD, YouTube, Dropbox, and so many more\n",
    "    * NOAA, NASA, EPA, USGS, CIA\n",
    "\n",
    "Optional further reading:\n",
    "* [Incredible Growth of Python](https://stackoverflow.blog/2017/09/06/incredible-growth-python/)\n",
    "\n",
    "---\n",
    "# Jupyter Hub\n",
    "\n",
    "Born out of [Project Jupyter](http://jupyter.org/), JupyterHub is a web-based interactive platform allowing you to create a \"Notebook\" with Python code and Markdown text in the same place. \n",
    "\n",
    "All lecture notes, lab assignments, and the final lab project will be based in JupyterHub. \n",
    "\n",
    "** Accessing JupyterHub **\n",
    "\n",
    "1. Create a UCLA Gmail address: [g.ucla.edu](g.ucla.edu)\n",
    "\n",
    "2. Enter the JupyterHub portal through this link: [https://jhub.atmos.ucla.edu/](https://jhub.atmos.ucla.edu/)\n",
    "\n",
    "    You'll need to sign-in with your UCLA logon credentials, which mandates two-factor authentication. I downloaded the DuoMobile app, and it works well. \n",
    "    \n",
    "3. Click on the Google Drive triangle icon in the left margin of the page and sign-in with your UCLA Gmail account\n",
    "\n",
    "4. Inside the Drive, enter the \"AOS51\" folder, then enter the \"Lectures\" folder, and double-click to open the file `Lab_#1_Jupyter_Python_Intro.ipynb`\n",
    "    \n",
    "** Working with JupyterHub **\n",
    "\n",
    "There are two modes of JupyterHub we'll use:\n",
    "\n",
    "1. Python code (\"Code\" in the drop down menu)\n",
    "2. Markdown text (\"Markdown\" in the drop down menu)\n",
    "\n",
    "Each piece of code or Markdown text is entered in new cells. \n",
    "\n",
    "New cells are created by clicking on the \"+\" icon near the top of this window.\n",
    "\n",
    "Cells are executed by hitting \"return + shif\", or go to the Run tab and select \"Run Selected Cells\".\n",
    "\n",
    "We'll create a new cell soon to enter some code, but let's review some features of Markdown first:\n",
    "\n",
    "** Markdown **\n",
    "\n",
    "Key options for Markdown:\n",
    "\n",
    "* Hashtags define headers. More hashtags define subheader levels. So a single # is the top level header, ## is the second subheader, and so forth.\n",
    "\n",
    "* Bold text is surrounded by two asterisks.\n",
    "\n",
    "* Italic text is surrounded by single asterisks.\n",
    "\n",
    "* Page breaks are denoted by three dash marks.\n",
    "\n",
    "* In-line code is surrounded by single back-dashes.\n",
    "\n",
    "* Hyperlinks are created by surrounding the tagline with square brackets followed by the URL in parenthesis.\n",
    "\n",
    "* Block quotes are denoted by the inward facing carrot (>).\n",
    "\n",
    "These commands and much more are all located in this [cheatsheet](https://github.com/adam-p/markdown-here/wiki/Markdown-Cheatsheet#emphasis).\n",
    "\n",
    "---"
   ]
  },
  {
   "cell_type": "markdown",
   "metadata": {},
   "source": [
    "# Let's code already"
   ]
  },
  {
   "cell_type": "markdown",
   "metadata": {},
   "source": [
    "Traditionally, the first thing to do when learning a new language is typing the sentence [\"Hello, World\"](https://en.wikipedia.org/wiki/%22Hello,_World!%22_program). \n",
    "\n",
    "We can do that by creating a new cell below this one, making sure we're in \"code\" mode and entering the following:\n",
    "\n",
    "`print('Hello, World')`"
   ]
  },
  {
   "cell_type": "code",
   "execution_count": 2,
   "metadata": {},
   "outputs": [
    {
     "name": "stdout",
     "output_type": "stream",
     "text": [
      "Hello, World\n"
     ]
    }
   ],
   "source": [
    "print('Hello, World')"
   ]
  },
  {
   "cell_type": "markdown",
   "metadata": {},
   "source": [
    "** In-lab exercise **\n",
    "\n",
    "Create a new cell below this one and in light on climate change, print the sentence \"Hello, Warming World\"\n",
    "\n",
    "---"
   ]
  },
  {
   "cell_type": "markdown",
   "metadata": {},
   "source": [
    "# The Python Journey Begins!\n",
    "\n",
    "Let's cover the basic Python capabilities needed for climate data analysis:\n",
    "\n",
    "* Variables\n",
    "* Numbers\n",
    "* Strings\n",
    "* Lists\n",
    "* Dictionaries\n",
    "* Indexing\n",
    "* Slicing\n",
    "* Boolean data types\n",
    "* For loops\n",
    "* If statements"
   ]
  },
  {
   "cell_type": "markdown",
   "metadata": {},
   "source": [
    "## Variables\n",
    "\n",
    "All numbers/strings/lists/ must be declared as *variables* and are assigned a value using the `=` sign. \n",
    "\n",
    "For instance, a variable called \"temperature\" can be assigned the value of \"80\" with the syntax:\n",
    "\n",
    "`temperature = 80`"
   ]
  },
  {
   "cell_type": "markdown",
   "metadata": {},
   "source": [
    "## Numbers\n",
    "\n",
    "There are two types of numbers that we'll work with:\n",
    "\n",
    "1. Integers (whole numbers) or `int` in Python-land\n",
    "\n",
    "2. Floats (numbers with decimals) or `float` in Python-land\n",
    "\n",
    "You can check the type of a number using the `type()` function.\n",
    "\n",
    "Let's demonstrate with some examples."
   ]
  },
  {
   "cell_type": "code",
   "execution_count": 23,
   "metadata": {},
   "outputs": [
    {
     "name": "stdout",
     "output_type": "stream",
     "text": [
      "<class 'int'>\n"
     ]
    }
   ],
   "source": [
    "temperature_int = 75\n",
    "print(type(temperature_int))"
   ]
  },
  {
   "cell_type": "code",
   "execution_count": 24,
   "metadata": {},
   "outputs": [
    {
     "name": "stdout",
     "output_type": "stream",
     "text": [
      "<class 'float'>\n"
     ]
    }
   ],
   "source": [
    "temperature_float = 75.5\n",
    "print(type(temperature_float))"
   ]
  },
  {
   "cell_type": "markdown",
   "metadata": {},
   "source": [
    "We can change between `int` and `float` using the `int()` and `float()` commands."
   ]
  },
  {
   "cell_type": "code",
   "execution_count": 25,
   "metadata": {},
   "outputs": [
    {
     "name": "stdout",
     "output_type": "stream",
     "text": [
      "56\n"
     ]
    }
   ],
   "source": [
    "temperature_2 = 56.2\n",
    "\n",
    "temperature_2_int = int(temperature_2)\n",
    "print(temperature_2_int) "
   ]
  },
  {
   "cell_type": "markdown",
   "metadata": {},
   "source": [
    "Note the rounding that took place when going from float to int!"
   ]
  },
  {
   "cell_type": "code",
   "execution_count": 26,
   "metadata": {},
   "outputs": [
    {
     "name": "stdout",
     "output_type": "stream",
     "text": [
      "45.0\n"
     ]
    }
   ],
   "source": [
    "temperature_3 = 45\n",
    "temperature_3_float = float(45)\n",
    "print(temperature_3_float)"
   ]
  },
  {
   "cell_type": "markdown",
   "metadata": {},
   "source": [
    "## Strings\n",
    "\n",
    "Strings are words or sentences. They are surrounded by single or double quotation marks. Choose whichever you prefer (I like single). \n",
    "\n",
    "Let's demonstrate with some examples. "
   ]
  },
  {
   "cell_type": "code",
   "execution_count": 27,
   "metadata": {},
   "outputs": [
    {
     "name": "stdout",
     "output_type": "stream",
     "text": [
      "<class 'str'>\n"
     ]
    }
   ],
   "source": [
    "month = 'April'\n",
    "print(type(month))"
   ]
  },
  {
   "cell_type": "code",
   "execution_count": 28,
   "metadata": {},
   "outputs": [
    {
     "name": "stdout",
     "output_type": "stream",
     "text": [
      "AOS51 lab is the best class EVER\n"
     ]
    }
   ],
   "source": [
    "feeling = 'AOS51 lab is the best class EVER'\n",
    "print(feeling)"
   ]
  },
  {
   "cell_type": "markdown",
   "metadata": {},
   "source": [
    "## Lists\n",
    "\n",
    "Lists are a collection of items separated by commas and contained by square brackets. They can be all numbers or numbers and strings. "
   ]
  },
  {
   "cell_type": "code",
   "execution_count": 29,
   "metadata": {},
   "outputs": [
    {
     "name": "stdout",
     "output_type": "stream",
     "text": [
      "['March', 'April', 'May']\n"
     ]
    }
   ],
   "source": [
    "spring = ['March', 'April', 'May']\n",
    "print(spring)"
   ]
  },
  {
   "cell_type": "code",
   "execution_count": 4,
   "metadata": {},
   "outputs": [
    {
     "name": "stdout",
     "output_type": "stream",
     "text": [
      "[65, 70, 75]\n"
     ]
    }
   ],
   "source": [
    "temperatures = [65, 70, 75]\n",
    "print(temperatures)"
   ]
  },
  {
   "cell_type": "code",
   "execution_count": 5,
   "metadata": {},
   "outputs": [
    {
     "name": "stdout",
     "output_type": "stream",
     "text": [
      "['March', 65, 'April', 70, 'May', 75]\n"
     ]
    }
   ],
   "source": [
    "spring_temperatures = ['March', 65, 'April', 70, 'May', 75]\n",
    "print(spring_temperatures)"
   ]
  },
  {
   "cell_type": "markdown",
   "metadata": {},
   "source": [
    "Determine the length of a list using the `len()` function"
   ]
  },
  {
   "cell_type": "code",
   "execution_count": 12,
   "metadata": {},
   "outputs": [
    {
     "name": "stdout",
     "output_type": "stream",
     "text": [
      "7\n"
     ]
    }
   ],
   "source": [
    "print(len(temperatures))"
   ]
  },
  {
   "cell_type": "markdown",
   "metadata": {},
   "source": [
    "`append` elements to the end of the list"
   ]
  },
  {
   "cell_type": "code",
   "execution_count": 7,
   "metadata": {},
   "outputs": [
    {
     "name": "stdout",
     "output_type": "stream",
     "text": [
      "[65, 70, 75, 80]\n"
     ]
    }
   ],
   "source": [
    "temperatures.append(80)\n",
    "print(temperatures)"
   ]
  },
  {
   "cell_type": "markdown",
   "metadata": {},
   "source": [
    "`extend` one list with another list"
   ]
  },
  {
   "cell_type": "code",
   "execution_count": 8,
   "metadata": {},
   "outputs": [
    {
     "name": "stdout",
     "output_type": "stream",
     "text": [
      "[65, 70, 75, 80, 90, 95, 100]\n"
     ]
    }
   ],
   "source": [
    "temperatures.extend([90, 95, 100])\n",
    "print(temperatures)"
   ]
  },
  {
   "cell_type": "markdown",
   "metadata": {},
   "source": [
    "Alternatively, we can also add/merge two lists together with list addition"
   ]
  },
  {
   "cell_type": "code",
   "execution_count": 11,
   "metadata": {},
   "outputs": [
    {
     "name": "stdout",
     "output_type": "stream",
     "text": [
      "[800, 900, 1000, 1200, 1300, 1400]\n"
     ]
    }
   ],
   "source": [
    "winter_radiation = [800, 900, 1000]\n",
    "summer_radiation = [1200, 1300, 1400]\n",
    "all_radiation = winter_radiation + summer_radiation\n",
    "print(all_radiation)"
   ]
  },
  {
   "cell_type": "markdown",
   "metadata": {},
   "source": [
    "Obtain the index of a value using `index()`"
   ]
  },
  {
   "cell_type": "code",
   "execution_count": 33,
   "metadata": {},
   "outputs": [
    {
     "data": {
      "text/plain": [
       "2"
      ]
     },
     "execution_count": 33,
     "metadata": {},
     "output_type": "execute_result"
    }
   ],
   "source": [
    "temperatures.index(75)"
   ]
  },
  {
   "cell_type": "markdown",
   "metadata": {},
   "source": [
    "The second index is 75? I thought it would be 70, what gives? Stay tuned. "
   ]
  },
  {
   "cell_type": "markdown",
   "metadata": {},
   "source": [
    "## Dictionaries\n",
    "\n",
    "Dictionaries (or `dict`) map \"keys\" to their corresponding \"values\" (like a word and its definition). Each key/value pair is separated by a colon, each pair is separated by a comma, and the whole set of items are contained by curly brackets. \n",
    "\n",
    "For example, let's create a dictionary mapping average temperature to the months of March, April, and May.\n",
    "\n",
    "| Month | T (degrees F) |\n",
    "| ------|:-----|\n",
    "|March | 65|\n",
    "|April | 70 |\n",
    "|May | 75|"
   ]
  },
  {
   "cell_type": "code",
   "execution_count": 32,
   "metadata": {},
   "outputs": [
    {
     "name": "stdout",
     "output_type": "stream",
     "text": [
      "{'March': 65, 'April': 70, 'May': 75}\n"
     ]
    }
   ],
   "source": [
    "spring_temp_dict = {'March':65, 'April':70, 'May':75}\n",
    "print(spring_temp_dict)"
   ]
  },
  {
   "cell_type": "markdown",
   "metadata": {},
   "source": [
    "You can obtain the `values` or `keys` in a dictionairy using the `values()` and `keys()` functions:"
   ]
  },
  {
   "cell_type": "code",
   "execution_count": 33,
   "metadata": {},
   "outputs": [
    {
     "name": "stdout",
     "output_type": "stream",
     "text": [
      "dict_keys(['March', 'April', 'May'])\n"
     ]
    }
   ],
   "source": [
    "print(spring_temp_dict.keys())"
   ]
  },
  {
   "cell_type": "code",
   "execution_count": 34,
   "metadata": {},
   "outputs": [
    {
     "name": "stdout",
     "output_type": "stream",
     "text": [
      "dict_values([65, 70, 75])\n"
     ]
    }
   ],
   "source": [
    "print(spring_temp_dict.values())"
   ]
  },
  {
   "cell_type": "markdown",
   "metadata": {},
   "source": [
    "Add new elements to the dict with:"
   ]
  },
  {
   "cell_type": "code",
   "execution_count": 35,
   "metadata": {},
   "outputs": [],
   "source": [
    "spring_temp_dict['June'] = 80"
   ]
  },
  {
   "cell_type": "code",
   "execution_count": 36,
   "metadata": {},
   "outputs": [
    {
     "name": "stdout",
     "output_type": "stream",
     "text": [
      "{'March': 65, 'April': 70, 'May': 75, 'June': 80}\n"
     ]
    }
   ],
   "source": [
    "print(spring_temp_dict)"
   ]
  },
  {
   "cell_type": "markdown",
   "metadata": {},
   "source": [
    "## Indexing\n",
    "\n",
    "Indexing refers to the position of an element in a list (or dictionary). \n",
    "\n",
    "** Super important **: Python begins indexing with ZERO, not one. So the first element is the zeroth index. \n",
    "\n",
    "An example to illustrate:"
   ]
  },
  {
   "cell_type": "code",
   "execution_count": 38,
   "metadata": {},
   "outputs": [],
   "source": [
    "rainfall = [2.5, 1.3, 0.0, 0.25, 5.1]"
   ]
  },
  {
   "cell_type": "markdown",
   "metadata": {},
   "source": [
    "Index 0 = 2.5\n",
    "\n",
    "Index 1 = 1.3\n",
    "\n",
    "Index 2 = 0.0\n",
    "\n",
    "Index 3 = 0.25\n",
    "\n",
    "Index 4 = 5.1"
   ]
  },
  {
   "cell_type": "markdown",
   "metadata": {},
   "source": [
    "** In-lab exercise **\n",
    "\n",
    "What is the value of the 3rd index in the `rainfall_2` timeseries below?\n",
    "\n",
    "`rainfall_2 = [10.1, 0.0, 1.4, 6.3, 0.0]`"
   ]
  },
  {
   "cell_type": "markdown",
   "metadata": {},
   "source": [
    "## Slicing \n",
    "\n",
    "Slicing refers to extracting certain elements of a string, a list, or an array (as we'll learn later in the course).\n",
    "\n",
    "** Another super important note: ** Python counts up to, but does not include, the end index in a slice. \n",
    "\n",
    "Here are the basic slicing commands, assuming we're woring with the `rainfall` list above.\n",
    "\n",
    "`rainfall[start:end]` # items start through end-1\n",
    "\n",
    "`rainfall[start:]`    # items start through the rest of the list\n",
    "\n",
    "`rainfall[:end]`      # items from the beginning through end-1\n",
    "\n",
    "`rainfall[:]`         # a copy of the whole list\n",
    "\n",
    "Let's go through examples to demonstrate."
   ]
  },
  {
   "cell_type": "code",
   "execution_count": 40,
   "metadata": {},
   "outputs": [
    {
     "name": "stdout",
     "output_type": "stream",
     "text": [
      "[2.5, 1.3]\n"
     ]
    }
   ],
   "source": [
    "rainfall_first_two_values = rainfall[0:2]\n",
    "print(rainfall_first_two_values)"
   ]
  },
  {
   "cell_type": "code",
   "execution_count": 41,
   "metadata": {},
   "outputs": [
    {
     "name": "stdout",
     "output_type": "stream",
     "text": [
      "[0.0, 0.25, 5.1]\n"
     ]
    }
   ],
   "source": [
    "rainfall_last_three_values = rainfall[2:]\n",
    "print(rainfall_last_three_values)"
   ]
  },
  {
   "cell_type": "code",
   "execution_count": 42,
   "metadata": {},
   "outputs": [
    {
     "name": "stdout",
     "output_type": "stream",
     "text": [
      "[2.5, 1.3, 0.0, 0.25, 5.1]\n"
     ]
    }
   ],
   "source": [
    "rainfall_copy = rainfall[:]\n",
    "print(rainfall_copy)"
   ]
  },
  {
   "cell_type": "markdown",
   "metadata": {},
   "source": [
    "** Negative slicing **\n",
    "\n",
    "You can also work *backwards* in a slice using negative values. "
   ]
  },
  {
   "cell_type": "code",
   "execution_count": 43,
   "metadata": {},
   "outputs": [
    {
     "name": "stdout",
     "output_type": "stream",
     "text": [
      "5.1\n"
     ]
    }
   ],
   "source": [
    "rainfall_final_value = rainfall[-1]\n",
    "print(rainfall_final_value)"
   ]
  },
  {
   "cell_type": "code",
   "execution_count": 46,
   "metadata": {},
   "outputs": [
    {
     "name": "stdout",
     "output_type": "stream",
     "text": [
      "[0.25, 5.1]\n"
     ]
    }
   ],
   "source": [
    "rainfall_last_two_values = rainfall[-2:]\n",
    "print(rainfall_last_two_values)"
   ]
  },
  {
   "cell_type": "markdown",
   "metadata": {},
   "source": [
    "You can also reverse a list quickly using this negative slicing trick with 2 colons"
   ]
  },
  {
   "cell_type": "code",
   "execution_count": 49,
   "metadata": {},
   "outputs": [
    {
     "name": "stdout",
     "output_type": "stream",
     "text": [
      "[5.1, 0.25, 0.0, 1.3, 2.5]\n"
     ]
    }
   ],
   "source": [
    "rainfall_reverse = rainfall[::-1]\n",
    "print(rainfall_reverse)"
   ]
  },
  {
   "cell_type": "markdown",
   "metadata": {},
   "source": [
    "## Boolean data types\n",
    "\n",
    "Named after [George Bool](https://en.wikipedia.org/wiki/George_Boole), Boolean data types simply indicate whether something is `True` or `False`.\n",
    "\n",
    "\"Truthiness\" is tested with the following comparisons:\n",
    "\n",
    "* `>` (greater than)\n",
    "* `>=` (greather than or equal to)\n",
    "* `<` (less than)\n",
    "* `<=` (less than or equal to)\n",
    "* `==` (equal to)\n",
    "\n",
    "Numbers and strings (and lists!) have truthiness to them in Python."
   ]
  },
  {
   "cell_type": "code",
   "execution_count": 13,
   "metadata": {},
   "outputs": [
    {
     "data": {
      "text/plain": [
       "True"
      ]
     },
     "execution_count": 13,
     "metadata": {},
     "output_type": "execute_result"
    }
   ],
   "source": [
    "10 > 3"
   ]
  },
  {
   "cell_type": "code",
   "execution_count": 14,
   "metadata": {},
   "outputs": [
    {
     "data": {
      "text/plain": [
       "False"
      ]
     },
     "execution_count": 14,
     "metadata": {},
     "output_type": "execute_result"
    }
   ],
   "source": [
    "10 < 3"
   ]
  },
  {
   "cell_type": "code",
   "execution_count": 15,
   "metadata": {},
   "outputs": [
    {
     "data": {
      "text/plain": [
       "True"
      ]
     },
     "execution_count": 15,
     "metadata": {},
     "output_type": "execute_result"
    }
   ],
   "source": [
    "10 == 10"
   ]
  },
  {
   "cell_type": "code",
   "execution_count": 16,
   "metadata": {},
   "outputs": [
    {
     "data": {
      "text/plain": [
       "False"
      ]
     },
     "execution_count": 16,
     "metadata": {},
     "output_type": "execute_result"
    }
   ],
   "source": [
    "'Weather' == 'Climate'"
   ]
  },
  {
   "cell_type": "code",
   "execution_count": 17,
   "metadata": {},
   "outputs": [
    {
     "data": {
      "text/plain": [
       "True"
      ]
     },
     "execution_count": 17,
     "metadata": {},
     "output_type": "execute_result"
    }
   ],
   "source": [
    "'Climate' == 'Climate'"
   ]
  },
  {
   "cell_type": "code",
   "execution_count": 19,
   "metadata": {},
   "outputs": [
    {
     "data": {
      "text/plain": [
       "True"
      ]
     },
     "execution_count": 19,
     "metadata": {},
     "output_type": "execute_result"
    }
   ],
   "source": [
    "['Cloud', 'Energy', 'Albedo'] == ['Cloud', 'Energy', 'Albedo'] "
   ]
  },
  {
   "cell_type": "markdown",
   "metadata": {},
   "source": [
    "Zeros and ones have some special Boolean properties to them. We can check that out using the `bool()` function."
   ]
  },
  {
   "cell_type": "code",
   "execution_count": 20,
   "metadata": {},
   "outputs": [
    {
     "data": {
      "text/plain": [
       "False"
      ]
     },
     "execution_count": 20,
     "metadata": {},
     "output_type": "execute_result"
    }
   ],
   "source": [
    "bool(0)"
   ]
  },
  {
   "cell_type": "code",
   "execution_count": 21,
   "metadata": {},
   "outputs": [
    {
     "data": {
      "text/plain": [
       "True"
      ]
     },
     "execution_count": 21,
     "metadata": {},
     "output_type": "execute_result"
    }
   ],
   "source": [
    "bool(1)"
   ]
  },
  {
   "cell_type": "markdown",
   "metadata": {},
   "source": [
    "So, zeros are `False` and ones are `True` in Python-land...this will come in handy down the road."
   ]
  },
  {
   "cell_type": "markdown",
   "metadata": {},
   "source": [
    "## For loops\n",
    "\n",
    "Looping over elements in a lists to analyze its contents is a core function of climate data analyses. \n",
    "\n",
    "This is accomplished using the `for` command in Python. By design, Python mandates that lines after a `for` command must be indent one tab length or else it with throw an error message. Jupyter automatically indents for you. \n",
    "\n",
    "It is easiest to demonstrate `for` loops with an example. \n",
    "\n",
    "The `temp_2017` list stores monthly average temperatures (degrees F) over California for 2017."
   ]
  },
  {
   "cell_type": "code",
   "execution_count": 23,
   "metadata": {},
   "outputs": [],
   "source": [
    "temp_2017 = [42.1, 47.3, 53.4, 55.6, 63.4, 72.8, 78.8, 77.8, 69.8, 61.9, 53.4, 47.4]"
   ]
  },
  {
   "cell_type": "markdown",
   "metadata": {},
   "source": [
    "Let's loop over `temp_2017` and first print each element"
   ]
  },
  {
   "cell_type": "code",
   "execution_count": 24,
   "metadata": {},
   "outputs": [
    {
     "name": "stdout",
     "output_type": "stream",
     "text": [
      "42.1\n",
      "47.3\n",
      "53.4\n",
      "55.6\n",
      "63.4\n",
      "72.8\n",
      "78.8\n",
      "77.8\n",
      "69.8\n",
      "61.9\n",
      "53.4\n",
      "47.4\n"
     ]
    }
   ],
   "source": [
    "for t in temp_2017:\n",
    "    print(t)"
   ]
  },
  {
   "cell_type": "markdown",
   "metadata": {},
   "source": [
    "Let's break that down for a second. We're saying for every element called `t` in the list `temp_2017`, print `t`. \n",
    "\n",
    "Note that `for` statements end with `:` and that all following lines are indented by one tab space."
   ]
  },
  {
   "cell_type": "markdown",
   "metadata": {},
   "source": [
    "## Conditional Statements\n",
    "\n",
    "In this course, we'll only use conditional statements revolving around the word \"if\".\n",
    "\n",
    "`if` statements also end in `:` and all subsequent lines are indented by one tab space, unless that subsequent line is another conditional statement.  \n",
    "\n",
    "We first test the initial condition using `if` and can then test the counter-condition using `elif` (else-if).\n",
    "\n",
    "Returning the the `temp_2017` list above, let's explore `if` and `elif` statements."
   ]
  },
  {
   "cell_type": "code",
   "execution_count": 28,
   "metadata": {},
   "outputs": [
    {
     "name": "stdout",
     "output_type": "stream",
     "text": [
      "January was colder than February\n"
     ]
    }
   ],
   "source": [
    "jan_2017 = 42.1\n",
    "feb_2017 = 47.3\n",
    "\n",
    "if jan_2017 > feb_2017:\n",
    "    print('January was warmner than February')\n",
    "elif jan_2017 < feb_2017:\n",
    "    print('January was colder than February')"
   ]
  },
  {
   "cell_type": "markdown",
   "metadata": {},
   "source": [
    "** Blending for loops with conditional statements **\n",
    "\n",
    "Oftentimes, we'll want to loop over elements in a list and then apply some conditional statements on it. \n",
    "\n",
    "Such as:\n",
    "\n",
    "> Loop through 2017 monthly temperatures and divide them into new lists storing values in the 40s, 50s, 60s, and 70s."
   ]
  },
  {
   "cell_type": "code",
   "execution_count": 30,
   "metadata": {},
   "outputs": [
    {
     "name": "stdout",
     "output_type": "stream",
     "text": [
      "[42.1, 47.3, 47.4]\n",
      "[53.4, 55.6, 53.4]\n",
      "[63.4, 69.8, 61.9]\n",
      "[72.8, 78.8, 77.8]\n"
     ]
    }
   ],
   "source": [
    "# First we need to create new and empty lists to store values in the 40s, 50s, 60s, and 70s\n",
    "temp_40 = []\n",
    "temp_50 = []\n",
    "temp_60 = []\n",
    "temp_70 = []\n",
    "\n",
    "for t in temp_2017:\n",
    "    if 40.0 <= t < 50.0:\n",
    "        temp_40.append(t)\n",
    "    elif 50.0 <= t < 60.0:\n",
    "        temp_50.append(t)\n",
    "    elif 60.0 <= t < 70.0:\n",
    "        temp_60.append(t)\n",
    "    elif 70.0 <= t < 80.0:\n",
    "        temp_70.append(t)\n",
    "\n",
    "print(temp_40)\n",
    "print(temp_50)\n",
    "print(temp_60)\n",
    "print(temp_70)"
   ]
  }
 ],
 "metadata": {
  "kernelspec": {
   "display_name": "Python 3",
   "language": "python",
   "name": "python3"
  },
  "language_info": {
   "codemirror_mode": {
    "name": "ipython",
    "version": 3
   },
   "file_extension": ".py",
   "mimetype": "text/x-python",
   "name": "python",
   "nbconvert_exporter": "python",
   "pygments_lexer": "ipython3",
   "version": "3.5.4"
  }
 },
 "nbformat": 4,
 "nbformat_minor": 2
}
