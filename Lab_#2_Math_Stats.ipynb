{
 "cells": [
  {
   "cell_type": "markdown",
   "metadata": {},
   "source": [
    "# AOS 51 Lab, Spring 2018, Lab #2\n",
    "---\n",
    "\n",
    "Lab #1 recap:\n",
    "* Lists are cool, but limiting\n",
    "* For loops allow us to iterate over time series\n",
    "* If statements test for meeting conditions\n",
    "\n",
    "Topics covered in Lab #2:\n",
    "\n",
    "* Mathematical operations in Python\n",
    "* Arrays vs. lists\n",
    "* Math/stats on arrays using the Numerical Python (NumPy) package\n",
    "* Correlations and linear regression using the Scientific Python (SciPy) package\n",
    "---"
   ]
  },
  {
   "cell_type": "markdown",
   "metadata": {},
   "source": [
    "# Mathematical Operations\n",
    "\n",
    "The following mathematical operations are built into Python:\n",
    "\n",
    "* `+` (addition)\n",
    "* `-` (subtraction)\n",
    "* `*` (multiplication)\n",
    "* `/` (divison)\n",
    "* `**` (exponent) "
   ]
  },
  {
   "cell_type": "code",
   "execution_count": 2,
   "metadata": {},
   "outputs": [
    {
     "name": "stdout",
     "output_type": "stream",
     "text": [
      "4.1\n"
     ]
    }
   ],
   "source": [
    "rain1 = 1.3\n",
    "rain2 = 2.8\n",
    "\n",
    "print(rain1+rain2)"
   ]
  },
  {
   "cell_type": "code",
   "execution_count": 3,
   "metadata": {},
   "outputs": [
    {
     "name": "stdout",
     "output_type": "stream",
     "text": [
      "1.4999999999999998\n"
     ]
    }
   ],
   "source": [
    "print(rain2-rain1)"
   ]
  },
  {
   "cell_type": "code",
   "execution_count": 4,
   "metadata": {},
   "outputs": [
    {
     "name": "stdout",
     "output_type": "stream",
     "text": [
      "3.6399999999999997\n"
     ]
    }
   ],
   "source": [
    "print(rain2*rain1)"
   ]
  },
  {
   "cell_type": "code",
   "execution_count": 5,
   "metadata": {},
   "outputs": [
    {
     "name": "stdout",
     "output_type": "stream",
     "text": [
      "0.46428571428571436\n"
     ]
    }
   ],
   "source": [
    "print(rain1/rain2)"
   ]
  },
  {
   "cell_type": "code",
   "execution_count": 6,
   "metadata": {},
   "outputs": [
    {
     "name": "stdout",
     "output_type": "stream",
     "text": [
      "7.839999999999999\n"
     ]
    }
   ],
   "source": [
    "print(rain2**2)"
   ]
  },
  {
   "cell_type": "code",
   "execution_count": 7,
   "metadata": {},
   "outputs": [
    {
     "name": "stdout",
     "output_type": "stream",
     "text": [
      "1.6733200530681511\n"
     ]
    }
   ],
   "source": [
    "print(rain2**(1/2)) # square root"
   ]
  },
  {
   "cell_type": "markdown",
   "metadata": {},
   "source": [
    "Simple enough, but we don't need a computer to perform math on 2 data points. The whole purpose of learing Python is to perform math/stats on big data sets, beyond what you could do with a calculator. \n",
    "\n",
    "---"
   ]
  },
  {
   "cell_type": "markdown",
   "metadata": {},
   "source": [
    "# The problem with lists\n",
    "\n",
    "Let's remind ourselves of what happens when we add two lists together:"
   ]
  },
  {
   "cell_type": "code",
   "execution_count": 8,
   "metadata": {},
   "outputs": [
    {
     "name": "stdout",
     "output_type": "stream",
     "text": [
      "[1.1, 0.4, 0.4, 1.6]\n"
     ]
    }
   ],
   "source": [
    "list1 = [1.1, 0.4]\n",
    "list2 = [0.4, 1.6]\n",
    "print(list1 + list2)"
   ]
  },
  {
   "cell_type": "markdown",
   "metadata": {},
   "source": [
    "The two lists are concatenated (glued together), rather than adding each element between the lists and creating a new list of [1.5, 2].\n",
    "\n",
    "What if want to just add a single value to all elements in`list1`?"
   ]
  },
  {
   "cell_type": "code",
   "execution_count": 9,
   "metadata": {},
   "outputs": [
    {
     "ename": "TypeError",
     "evalue": "can only concatenate list (not \"float\") to list",
     "output_type": "error",
     "traceback": [
      "\u001b[0;31m---------------------------------------------------------------------------\u001b[0m",
      "\u001b[0;31mTypeError\u001b[0m                                 Traceback (most recent call last)",
      "\u001b[0;32m<ipython-input-9-71d97d4238c3>\u001b[0m in \u001b[0;36m<module>\u001b[0;34m()\u001b[0m\n\u001b[0;32m----> 1\u001b[0;31m \u001b[0mprint\u001b[0m\u001b[0;34m(\u001b[0m\u001b[0mlist1\u001b[0m \u001b[0;34m+\u001b[0m \u001b[0;36m5.0\u001b[0m\u001b[0;34m)\u001b[0m\u001b[0;34m\u001b[0m\u001b[0m\n\u001b[0m",
      "\u001b[0;31mTypeError\u001b[0m: can only concatenate list (not \"float\") to list"
     ]
    }
   ],
   "source": [
    "print(list1 + 5.0)"
   ]
  },
  {
   "cell_type": "markdown",
   "metadata": {},
   "source": [
    "Python does not allow this seemingly simple task! Why? You can only concatenate another list to an existing list.\n",
    "\n",
    "What about simple subtraction of a value from a list?"
   ]
  },
  {
   "cell_type": "code",
   "execution_count": 10,
   "metadata": {},
   "outputs": [
    {
     "ename": "TypeError",
     "evalue": "unsupported operand type(s) for -: 'list' and 'float'",
     "output_type": "error",
     "traceback": [
      "\u001b[0;31m---------------------------------------------------------------------------\u001b[0m",
      "\u001b[0;31mTypeError\u001b[0m                                 Traceback (most recent call last)",
      "\u001b[0;32m<ipython-input-10-7c7f8b2dd71e>\u001b[0m in \u001b[0;36m<module>\u001b[0;34m()\u001b[0m\n\u001b[0;32m----> 1\u001b[0;31m \u001b[0mprint\u001b[0m\u001b[0;34m(\u001b[0m\u001b[0mlist1\u001b[0m \u001b[0;34m-\u001b[0m \u001b[0;36m5.0\u001b[0m\u001b[0;34m)\u001b[0m\u001b[0;34m\u001b[0m\u001b[0m\n\u001b[0m",
      "\u001b[0;31mTypeError\u001b[0m: unsupported operand type(s) for -: 'list' and 'float'"
     ]
    }
   ],
   "source": [
    "print(list1 - 5.0)"
   ]
  },
  {
   "cell_type": "markdown",
   "metadata": {},
   "source": [
    "Nope. Python does not allow the operand \"-\" between a list (`list1`) and a float (`-5.0`).\n",
    "\n",
    "This is annoying. How can we perform simple arithmetic on a series of values?!\n",
    "\n",
    "---"
   ]
  },
  {
   "cell_type": "markdown",
   "metadata": {},
   "source": [
    "# Arrays\n",
    "\n",
    "Lists are great for simple exercises like looping through a 1-D data set and storing certain elements of the data.\n",
    "\n",
    "But for most climate analyses, we need to with *arrays*. Arrays are N-dimensional containers of data. Climate data is often 3D (time x latitude x longitude) or 4D (time x elevation x latitude x longitude).\n",
    "\n",
    "We'll learn the basics of array-based programming using 1D arrays today, then advance to multi-dimensional datasets next week. \n",
    "\n",
    "---"
   ]
  },
  {
   "cell_type": "markdown",
   "metadata": {},
   "source": [
    "# Numpy arrays \n",
    "\n",
    "Array-based programming is performed with a package called [Numerical Python package](http://www.numpy.org/), or `numpy`.\n",
    "\n",
    "Numpy needs to be imported into the Notebook to access all of its tools. \n",
    "\n",
    "### Importing packages\n",
    "\n",
    "There are 3 ways to import `numpy` (or any other Python package).\n",
    "\n",
    "1. Import the entire package\n",
    "\n",
    "    `import numpy`\n",
    "\n",
    "2. Import the entire package and give it a short nickname\n",
    "\n",
    "   `import numpy as np`\n",
    "\n",
    "3. Import a specific module (e.g. the linear algebra (linalg) from the package\n",
    "\n",
    "    `from numpy import linalg`\n",
    "\n",
    "If you import a package correctly, you'll simply receive no error messages. Let's import `numpy` and give it the nickname `np`."
   ]
  },
  {
   "cell_type": "code",
   "execution_count": 11,
   "metadata": {},
   "outputs": [],
   "source": [
    "import numpy as np"
   ]
  },
  {
   "cell_type": "markdown",
   "metadata": {},
   "source": [
    "Woo! No error messages. What happens if we accidentally misspell it?"
   ]
  },
  {
   "cell_type": "code",
   "execution_count": 12,
   "metadata": {},
   "outputs": [
    {
     "ename": "ModuleNotFoundError",
     "evalue": "No module named 'numpyy'",
     "output_type": "error",
     "traceback": [
      "\u001b[0;31m---------------------------------------------------------------------------\u001b[0m",
      "\u001b[0;31mModuleNotFoundError\u001b[0m                       Traceback (most recent call last)",
      "\u001b[0;32m<ipython-input-12-b135159c0eda>\u001b[0m in \u001b[0;36m<module>\u001b[0;34m()\u001b[0m\n\u001b[0;32m----> 1\u001b[0;31m \u001b[0;32mimport\u001b[0m \u001b[0mnumpyy\u001b[0m \u001b[0;32mas\u001b[0m \u001b[0mnp\u001b[0m\u001b[0;34m\u001b[0m\u001b[0m\n\u001b[0m",
      "\u001b[0;31mModuleNotFoundError\u001b[0m: No module named 'numpyy'"
     ]
    }
   ],
   "source": [
    "import numpyy as np"
   ]
  },
  {
   "cell_type": "markdown",
   "metadata": {},
   "source": [
    "Python can't find a 'numpyy' package/module, raising the `ModuleNotFoundError` message. "
   ]
  },
  {
   "cell_type": "markdown",
   "metadata": {},
   "source": [
    "You only need to import packages once, and all packages should be imported at the top of scripts/Notebooks. "
   ]
  },
  {
   "cell_type": "markdown",
   "metadata": {},
   "source": [
    "### Creating a Numpy array\n",
    "\n",
    "Recall the following list from Lab #1:"
   ]
  },
  {
   "cell_type": "code",
   "execution_count": 13,
   "metadata": {},
   "outputs": [],
   "source": [
    "temp_2017 = [42.1, 47.3, 53.4, 55.6, 63.4, 72.8, 78.8, 77.8, 69.8, 61.9, 53.4, 47.4]"
   ]
  },
  {
   "cell_type": "markdown",
   "metadata": {},
   "source": [
    "Let's change it into an array using the [np.array()](https://docs.scipy.org/doc/numpy/reference/generated/numpy.array.html) function. \n",
    "\n",
    "The period between `np` and `array` means that we are accessing the `array` command from `numpy` (which we've renamed as `np`)"
   ]
  },
  {
   "cell_type": "code",
   "execution_count": 14,
   "metadata": {},
   "outputs": [
    {
     "name": "stdout",
     "output_type": "stream",
     "text": [
      "<class 'numpy.ndarray'>\n"
     ]
    }
   ],
   "source": [
    "temp_2017_arr = np.array(temp_2017)\n",
    "\n",
    "# Print the type() to confirm it is an array\n",
    "print(type(temp_2017_arr))"
   ]
  },
  {
   "cell_type": "markdown",
   "metadata": {},
   "source": [
    "What do we see above for the `type()` of `temp_2017_arr`? A numpy N-Dimensional array or simply `numpy.ndarray`."
   ]
  },
  {
   "cell_type": "markdown",
   "metadata": {},
   "source": [
    "### Length of lists = shape of arrays\n",
    "\n",
    "Similar to the `len()` function for lists, we can use the [np.shape()](https://docs.scipy.org/doc/numpy/reference/generated/numpy.ndarray.shape.html) function to obtain information about the length of dimensions in arrays."
   ]
  },
  {
   "cell_type": "code",
   "execution_count": 15,
   "metadata": {},
   "outputs": [
    {
     "name": "stdout",
     "output_type": "stream",
     "text": [
      "(12,)\n"
     ]
    }
   ],
   "source": [
    "print(np.shape(temp_2017_arr))"
   ]
  },
  {
   "cell_type": "markdown",
   "metadata": {},
   "source": [
    "`np.shape()` returns a tuple (similar to a list, but uses parentheses instead of brackets) storing the length of each dimension in the array, separated by commas. \n",
    "\n",
    "Since `temp_2017_arr` is 1-dimensional, there are no other dimensions to report after the first one (with a length of 12), leading to the trailing comma. \n",
    "\n",
    "We'll work with multi-dimensional arrays soon!"
   ]
  },
  {
   "cell_type": "markdown",
   "metadata": {},
   "source": [
    "### Arithmetic on arrays\n",
    "\n",
    "Unlike lists, we can perform arithmetic on arrays."
   ]
  },
  {
   "cell_type": "code",
   "execution_count": 16,
   "metadata": {},
   "outputs": [
    {
     "name": "stdout",
     "output_type": "stream",
     "text": [
      "[ 47.1  52.3  58.4  60.6  68.4  77.8  83.8  82.8  74.8  66.9  58.4  52.4]\n"
     ]
    }
   ],
   "source": [
    "print(temp_2017_arr + 5.0)"
   ]
  },
  {
   "cell_type": "code",
   "execution_count": 17,
   "metadata": {},
   "outputs": [
    {
     "name": "stdout",
     "output_type": "stream",
     "text": [
      "[ 17.1  22.3  28.4  30.6  38.4  47.8  53.8  52.8  44.8  36.9  28.4  22.4]\n"
     ]
    }
   ],
   "source": [
    "print(temp_2017_arr - 25.0)"
   ]
  },
  {
   "cell_type": "code",
   "execution_count": 18,
   "metadata": {},
   "outputs": [
    {
     "name": "stdout",
     "output_type": "stream",
     "text": [
      "[ 10.525  11.825  13.35   13.9    15.85   18.2    19.7    19.45   17.45\n",
      "  15.475  13.35   11.85 ]\n"
     ]
    }
   ],
   "source": [
    "print(temp_2017_arr * 0.25)"
   ]
  },
  {
   "cell_type": "code",
   "execution_count": 19,
   "metadata": {},
   "outputs": [
    {
     "name": "stdout",
     "output_type": "stream",
     "text": [
      "[ 21.05  23.65  26.7   27.8   31.7   36.4   39.4   38.9   34.9   30.95\n",
      "  26.7   23.7 ]\n"
     ]
    }
   ],
   "source": [
    "print(temp_2017_arr / 2.)"
   ]
  },
  {
   "cell_type": "code",
   "execution_count": 20,
   "metadata": {},
   "outputs": [
    {
     "name": "stdout",
     "output_type": "stream",
     "text": [
      "[ 1772.41  2237.29  2851.56  3091.36  4019.56  5299.84  6209.44  6052.84\n",
      "  4872.04  3831.61  2851.56  2246.76]\n"
     ]
    }
   ],
   "source": [
    "print(temp_2017_arr**2)"
   ]
  },
  {
   "cell_type": "markdown",
   "metadata": {},
   "source": [
    "Arithmetic over 2 arrays is performed element-wise: "
   ]
  },
  {
   "cell_type": "code",
   "execution_count": 21,
   "metadata": {},
   "outputs": [
    {
     "name": "stdout",
     "output_type": "stream",
     "text": [
      "[ 12.  18.  30.]\n"
     ]
    }
   ],
   "source": [
    "arr1 = np.array([10.0, 15.0, 20.0])\n",
    "arr2 = np.array([2.0, 3.0, 10.0])\n",
    "print(arr1 + arr2)"
   ]
  },
  {
   "cell_type": "code",
   "execution_count": 22,
   "metadata": {},
   "outputs": [
    {
     "name": "stdout",
     "output_type": "stream",
     "text": [
      "[  8.  12.  10.]\n"
     ]
    }
   ],
   "source": [
    "print(arr1 - arr2)"
   ]
  },
  {
   "cell_type": "code",
   "execution_count": 23,
   "metadata": {},
   "outputs": [
    {
     "name": "stdout",
     "output_type": "stream",
     "text": [
      "[ 5.  5.  2.]\n"
     ]
    }
   ],
   "source": [
    "print(arr1 / arr2)"
   ]
  },
  {
   "cell_type": "code",
   "execution_count": 24,
   "metadata": {},
   "outputs": [
    {
     "name": "stdout",
     "output_type": "stream",
     "text": [
      "[  14.   24.  120.]\n"
     ]
    }
   ],
   "source": [
    "print(arr1 + (arr2**2))"
   ]
  },
  {
   "cell_type": "markdown",
   "metadata": {},
   "source": [
    "What happens if you try to add two arrays of different shapes?"
   ]
  },
  {
   "cell_type": "code",
   "execution_count": 25,
   "metadata": {},
   "outputs": [
    {
     "ename": "ValueError",
     "evalue": "operands could not be broadcast together with shapes (3,) (4,) ",
     "output_type": "error",
     "traceback": [
      "\u001b[0;31m---------------------------------------------------------------------------\u001b[0m",
      "\u001b[0;31mValueError\u001b[0m                                Traceback (most recent call last)",
      "\u001b[0;32m<ipython-input-25-b30daa7da499>\u001b[0m in \u001b[0;36m<module>\u001b[0;34m()\u001b[0m\n\u001b[1;32m      1\u001b[0m \u001b[0marr3\u001b[0m \u001b[0;34m=\u001b[0m \u001b[0mnp\u001b[0m\u001b[0;34m.\u001b[0m\u001b[0marray\u001b[0m\u001b[0;34m(\u001b[0m\u001b[0;34m[\u001b[0m\u001b[0;36m7.0\u001b[0m\u001b[0;34m,\u001b[0m \u001b[0;36m12.5\u001b[0m\u001b[0;34m,\u001b[0m \u001b[0;34m-\u001b[0m\u001b[0;36m3.5\u001b[0m\u001b[0;34m,\u001b[0m \u001b[0;34m-\u001b[0m\u001b[0;36m9.0\u001b[0m\u001b[0;34m]\u001b[0m\u001b[0;34m)\u001b[0m\u001b[0;34m\u001b[0m\u001b[0m\n\u001b[0;32m----> 2\u001b[0;31m \u001b[0mprint\u001b[0m\u001b[0;34m(\u001b[0m\u001b[0marr2\u001b[0m \u001b[0;34m+\u001b[0m \u001b[0marr3\u001b[0m\u001b[0;34m)\u001b[0m\u001b[0;34m\u001b[0m\u001b[0m\n\u001b[0m",
      "\u001b[0;31mValueError\u001b[0m: operands could not be broadcast together with shapes (3,) (4,) "
     ]
    }
   ],
   "source": [
    "arr3 = np.array([7.0, 12.5, -3.5, -9.0])\n",
    "print(arr2 + arr3)"
   ]
  },
  {
   "cell_type": "markdown",
   "metadata": {},
   "source": [
    "Python raises a `ValueError` and explains to us that it is impossible to add something with shape (3,) to shape (4,). "
   ]
  },
  {
   "cell_type": "markdown",
   "metadata": {},
   "source": [
    "### Summing arrays\n",
    "\n",
    "Numpy also has functions to sum elements in arrays."
   ]
  },
  {
   "cell_type": "code",
   "execution_count": 26,
   "metadata": {},
   "outputs": [
    {
     "name": "stdout",
     "output_type": "stream",
     "text": [
      "3.06\n"
     ]
    }
   ],
   "source": [
    "# Simple summation\n",
    "daily_precip = np.array([0.01, 0.00, 0.25, 0.00, 1.3, 1.5, 0.00])\n",
    "weekly_total = np.sum(daily_precip)\n",
    "print(weekly_total)"
   ]
  },
  {
   "cell_type": "code",
   "execution_count": 28,
   "metadata": {},
   "outputs": [
    {
     "name": "stdout",
     "output_type": "stream",
     "text": [
      "[ 0.01  0.01  0.26  0.26  1.56  3.06  3.06]\n"
     ]
    }
   ],
   "source": [
    "# Cumulation summatation\n",
    "cumulative_totals = np.cumsum(daily_precip)\n",
    "print(cumulative_totals)"
   ]
  },
  {
   "cell_type": "markdown",
   "metadata": {},
   "source": [
    "** In-class exercise **\n",
    "\n",
    "2017 monthly total precipitation over Los Angeles:\n",
    "\n",
    "| Month | PR (in) |\n",
    "|---|---|\n",
    "|Jan| 7.44|\n",
    "|Feb| 4.05\n",
    "|Mar| 0.08|\n",
    "|Apr| 0.38|\n",
    "|May| 0.13|\n",
    "|Jun| 0.00|\n",
    "|Jul| 0.00|\n",
    "|Aug| 0.00|\n",
    "|Sep| 0.08|\n",
    "|Oct| 0.00|\n",
    "|Nov| 0.10|\n",
    "|Dec| 0.01|\n",
    "\n",
    "\n",
    "\n",
    "1. Create an array called `la_precip_2017` storing these monthly precipitation amounts.\n",
    "2. Double-check that this array has a single dimension of length 12. \n",
    "3. How much precipitation accumulated through May?\n",
    "4. Slice `la_precip_2017` into two and form new arrays called `janjune_2017` and `julydec_2017`\n",
    "5. Use a boolean statement to prove that January-June is wetter than July-Dec. "
   ]
  },
  {
   "cell_type": "markdown",
   "metadata": {},
   "source": [
    "### Statistics on arrays\n",
    "\n",
    "The following statistics are also part of the `numpy` package that we'll frequently use in the lab:\n",
    "\n",
    "* Average or mean: `np.mean()`\n",
    "* Minimum: `np.min()`\n",
    "* Maximum: `np.max()`\n",
    "* Median: `np.median()`\n",
    "* Standard deviation: `np.std()`"
   ]
  },
  {
   "cell_type": "code",
   "execution_count": 24,
   "metadata": {},
   "outputs": [
    {
     "name": "stdout",
     "output_type": "stream",
     "text": [
      "60.3083333333\n"
     ]
    }
   ],
   "source": [
    "print(np.mean(temp_2017_arr))"
   ]
  },
  {
   "cell_type": "code",
   "execution_count": 25,
   "metadata": {},
   "outputs": [
    {
     "name": "stdout",
     "output_type": "stream",
     "text": [
      "42.1\n"
     ]
    }
   ],
   "source": [
    "print(np.min(temp_2017_arr))"
   ]
  },
  {
   "cell_type": "code",
   "execution_count": 26,
   "metadata": {},
   "outputs": [
    {
     "name": "stdout",
     "output_type": "stream",
     "text": [
      "78.8\n"
     ]
    }
   ],
   "source": [
    "print(np.max(temp_2017_arr))"
   ]
  },
  {
   "cell_type": "code",
   "execution_count": 27,
   "metadata": {},
   "outputs": [
    {
     "name": "stdout",
     "output_type": "stream",
     "text": [
      "58.75\n"
     ]
    }
   ],
   "source": [
    "print(np.median(temp_2017_arr))"
   ]
  },
  {
   "cell_type": "code",
   "execution_count": 28,
   "metadata": {},
   "outputs": [
    {
     "name": "stdout",
     "output_type": "stream",
     "text": [
      "11.8712859689\n"
     ]
    }
   ],
   "source": [
    "print(np.std(temp_2017_arr))"
   ]
  },
  {
   "cell_type": "markdown",
   "metadata": {},
   "source": [
    "In addition to locating the min/max values in arrays, we often care about the corresponding min/max indices.\n",
    "\n",
    "For example:\n",
    ">What month in 2017 had the highest temperature?\n",
    "\n",
    "To answer this, we can use the [np.argmax()](https://docs.scipy.org/doc/numpy-1.14.0/reference/generated/numpy.argmax.html) or [np.argmin()](https://docs.scipy.org/doc/numpy/reference/generated/numpy.argmin.html) functions, which returns the *index* associated with the max/min value."
   ]
  },
  {
   "cell_type": "code",
   "execution_count": 29,
   "metadata": {},
   "outputs": [
    {
     "name": "stdout",
     "output_type": "stream",
     "text": [
      "6\n"
     ]
    }
   ],
   "source": [
    "warmest_month = np.argmax(temp_2017_arr)\n",
    "print(warmest_month)"
   ]
  },
  {
   "cell_type": "markdown",
   "metadata": {},
   "source": [
    "So, index 6 (or month 7 - July) in `temp_2017_arr` has the maximum value. \n",
    "\n",
    "We can confirm quickly:"
   ]
  },
  {
   "cell_type": "code",
   "execution_count": 30,
   "metadata": {},
   "outputs": [
    {
     "name": "stdout",
     "output_type": "stream",
     "text": [
      "78.8\n",
      "78.8\n"
     ]
    }
   ],
   "source": [
    "print(temp_2017_arr[warmest_month]) \n",
    "print(np.max(temp_2017_arr))"
   ]
  },
  {
   "cell_type": "code",
   "execution_count": 32,
   "metadata": {},
   "outputs": [
    {
     "name": "stdout",
     "output_type": "stream",
     "text": [
      "True\n"
     ]
    }
   ],
   "source": [
    "# Using Boolean relationships to double-check\n",
    "print(temp_2017_arr[warmest_month] == np.max(temp_2017_arr))"
   ]
  },
  {
   "cell_type": "markdown",
   "metadata": {},
   "source": [
    "** In-class exercise **"
   ]
  },
  {
   "cell_type": "code",
   "execution_count": 36,
   "metadata": {},
   "outputs": [],
   "source": [
    "# Hourly windspeed (mph) at LAX from midnight-11pm on April 11, 2018\n",
    "windspeed = [3.5, 3.5, 3.5, 3.5, 4.6, 4.6, 4.6, 4.6, 6.9, 4.6, \n",
    "             3.5, 11.5, 10.4, 9.2, 6.9, 15.0, 16.1, 20.7, 23.0, \n",
    "             21.9, 18.4, 18.4, 3.5, 12.7]"
   ]
  },
  {
   "cell_type": "markdown",
   "metadata": {},
   "source": [
    "\n",
    "1. Create a new variable called `windspeed_arr` that changes the list `windspeed` to an array.\n",
    "2. What is the mean, min, and max, median, and standard deviation of `windspeed_arr`?\n",
    "3. Using `np.argmax()`, what was the windiest hour?\n",
    "\n",
    "---"
   ]
  },
  {
   "cell_type": "markdown",
   "metadata": {},
   "source": [
    "# Advanced statistics using Scipy\n",
    "\n",
    "Scientific Python or [Scipy](https://www.scipy.org/) contains a vast set of advanced statistical tools for climate data analyses. \n",
    "\n",
    "Today, we'll focus on two common statistical procedures:\n",
    "\n",
    "1. Correlation\n",
    "2. Linear regression\n",
    "\n",
    "Both can be performed using the `stats` toolbox in the `scipy` package. Let's import this package:"
   ]
  },
  {
   "cell_type": "code",
   "execution_count": 42,
   "metadata": {},
   "outputs": [],
   "source": [
    "from scipy import stats"
   ]
  },
  {
   "cell_type": "markdown",
   "metadata": {},
   "source": [
    "### Correlation\n",
    "\n",
    "The [Pearson](https://en.wikipedia.org/wiki/Karl_Pearson) correlation coefficient measures the linear relationship between two datasets. \n",
    "\n",
    "The coefficient, abbreviated as \"r\", ranges between -1 and +1:\n",
    "\n",
    "* r = 0 indicates no correlation\n",
    "* r = +1 indicates total positive correlation \n",
    "* r = -1 indicates total negative correlation\n",
    "\n",
    "Correlations are also associated with a p-value that tests for statistical significance of the correlation. The sample size of the datasets, and of course their potential relationships, influence the p_value. \n",
    "\n",
    "If the p-value is less than or equal to a desired significance level (usually 95% or 99%), then you can conclude that the correlation is very likely different from 0.\n",
    "\n",
    "For example, is the p_value is < 0.05, then the correlation is said to be statistically significant at the 95% level. \n",
    "\n",
    "Let's demonstrate with an example using the [scipy.stats.pearsonr](https://docs.scipy.org/doc/scipy-0.14.0/reference/generated/scipy.stats.pearsonr.html) function:"
   ]
  },
  {
   "cell_type": "code",
   "execution_count": 43,
   "metadata": {},
   "outputs": [
    {
     "name": "stdout",
     "output_type": "stream",
     "text": [
      "0.834420478781 0.000737073922618\n"
     ]
    }
   ],
   "source": [
    "# Los Angeles monthly minimum and maximum temperatures during 2017 (degrees F)\n",
    "min_temp_2017 = np.array([48.8, 51.8, 52.8, 55.4, 57.1, 60.9, 65.8, 66.8, 64.6, 62.5, 57.3, 50.2])\n",
    "max_temp_2017 = np.array([62.7, 62.6, 69.3, 71.9, 69.4, 72.6, 77.5, 77.3, 78.5, 80.4, 73.7, 72.4])\n",
    "\n",
    "r_value, p_value = stats.pearsonr(min_temp_2017, max_temp_2017)\n",
    "print(r_value, p_value)"
   ]
  },
  {
   "cell_type": "markdown",
   "metadata": {},
   "source": [
    "So, the correlation coefficient is 0.8, indicating a strong positive linear relationship between minimum and maximum temperatures over LA. \n",
    "\n",
    "Additionally, the p_value is 0.0007, which is much less than 0.01, or statistically significant at the 99% level.\n",
    "\n",
    "Note how I assigned two variables - `r_value` and `p_value` - on one line in the correlation procedure. This is permitted on functions that return more than one output (as the `pearsonr` function does). \n",
    "\n",
    "We could have simply assigned one variable, for example `corr`, to contain all the information returned from the  `pearsonr` function and then unpacked the tuple (again, they're basically lists that use parentheses instead of brackets):"
   ]
  },
  {
   "cell_type": "code",
   "execution_count": 44,
   "metadata": {},
   "outputs": [
    {
     "name": "stdout",
     "output_type": "stream",
     "text": [
      "0.834420478781 0.000737073922618\n"
     ]
    }
   ],
   "source": [
    "corr = stats.pearsonr(min_temp_2017, max_temp_2017)\n",
    "\n",
    "# Two ways to unpack `corr`:\n",
    "r_value = corr[0]\n",
    "p_value = corr[1]\n",
    "\n",
    "# Alternatively,\n",
    "r_value, p_value = corr\n",
    "\n",
    "print(r_value, p_value)"
   ]
  },
  {
   "cell_type": "markdown",
   "metadata": {},
   "source": [
    "If you accidentally try to assign more variables than returned outputs (or elements in a tuple/list), Python will simply raise an error telling you that:"
   ]
  },
  {
   "cell_type": "code",
   "execution_count": 45,
   "metadata": {},
   "outputs": [
    {
     "ename": "ValueError",
     "evalue": "not enough values to unpack (expected 3, got 2)",
     "output_type": "error",
     "traceback": [
      "\u001b[0;31m---------------------------------------------------------------------------\u001b[0m",
      "\u001b[0;31mValueError\u001b[0m                                Traceback (most recent call last)",
      "\u001b[0;32m<ipython-input-45-ac0438d3aa0e>\u001b[0m in \u001b[0;36m<module>\u001b[0;34m()\u001b[0m\n\u001b[0;32m----> 1\u001b[0;31m \u001b[0mr_value\u001b[0m\u001b[0;34m,\u001b[0m \u001b[0mp_value\u001b[0m\u001b[0;34m,\u001b[0m \u001b[0mz_value\u001b[0m \u001b[0;34m=\u001b[0m \u001b[0mstats\u001b[0m\u001b[0;34m.\u001b[0m\u001b[0mpearsonr\u001b[0m\u001b[0;34m(\u001b[0m\u001b[0mmin_temp_2017\u001b[0m\u001b[0;34m,\u001b[0m \u001b[0mmax_temp_2017\u001b[0m\u001b[0;34m)\u001b[0m\u001b[0;34m\u001b[0m\u001b[0m\n\u001b[0m",
      "\u001b[0;31mValueError\u001b[0m: not enough values to unpack (expected 3, got 2)"
     ]
    }
   ],
   "source": [
    "r_value, p_value, z_value = stats.pearsonr(min_temp_2017, max_temp_2017)"
   ]
  },
  {
   "cell_type": "markdown",
   "metadata": {},
   "source": [
    "Python expected to have 3 items to unpack into `r_value`, `p_value`, and `z_value`, but `pearsonr` only returns r- and p-values. "
   ]
  },
  {
   "cell_type": "markdown",
   "metadata": {},
   "source": [
    "### Linear regression"
   ]
  },
  {
   "cell_type": "markdown",
   "metadata": {},
   "source": [
    "Another common statistical operation in climate science is [linear regression](https://en.wikipedia.org/wiki/Linear_regression).\n",
    "\n",
    "Linear regression models the relationship between a dependent variable \"y\" and one (or more) independent variables denoted \"x\". \n",
    "\n",
    "Using linear regression, we can compute the slope of a best-fitted line between, for example, temperature observations (dependent variable) over some time period (independent variable). The slope is equivalent to the trend of temperature over time.  \n",
    "\n",
    "Let's demonstrate with an important question:\n",
    "\n",
    ">What is the trend of annual temperatures across California over the past 50 years (1968-2017)?\n",
    "\n",
    "**(1)** Examine the time series (unit: degrees F) and do some sanity checks."
   ]
  },
  {
   "cell_type": "code",
   "execution_count": 46,
   "metadata": {},
   "outputs": [],
   "source": [
    "temp_1968_2017 = np.array([57.6, 57.5, 57.8, 56.2, 57.3, 57.3, 57.6, 56.3, 57.5, 58.0, 57.6, 57.7, \n",
    "                           58.1, 59.3, 56.3, 57.6, 58.2, 57.3, 58.9, 58.3, 58.7, 58.1, 58.0, 58.1, \n",
    "                           59.3, 57.7, 58.0, 58.9, 59.6, 59.1, 56.7, 58.0, 58.8, 59.1, 58.8, 59.4, \n",
    "                           58.9, 58.6, 58.6, 58.9, 58.9, 58.8, 57.7, 57.4, 59.5, 59.3, 61.4, 60.8, \n",
    "                           60.1, 60.3])"
   ]
  },
  {
   "cell_type": "markdown",
   "metadata": {},
   "source": [
    "Confirming the time series is 50 years long:"
   ]
  },
  {
   "cell_type": "code",
   "execution_count": 47,
   "metadata": {},
   "outputs": [
    {
     "name": "stdout",
     "output_type": "stream",
     "text": [
      "(50,)\n"
     ]
    }
   ],
   "source": [
    "print(np.shape(temp_1968_2017))"
   ]
  },
  {
   "cell_type": "markdown",
   "metadata": {},
   "source": [
    "Visually inspect the data to give yourself a ballpark idea of what to expect before executing the code.\n",
    "\n",
    "In the late 1960's, California temperatures were ~57 degrees F. By 2015-2017, temperatures increased to ~60 degrees F, or roughly a 3 degree increase over 50 years. Let's keep that estimate in mind to serve as a sanity check on the code output."
   ]
  },
  {
   "cell_type": "markdown",
   "metadata": {},
   "source": [
    "** (2) ** Gather our y (dependent) and x (independent) variables\n",
    "\n",
    "We already have our y variable, `temp_1968_2017`. \n",
    "\n",
    "We still need our x variable, in this case, an array of years spanning 1968-2017. \n",
    "\n",
    "We could create a new array and type in every year using:\n",
    "\n",
    "`years = np.array([1968, 1969, 1970, ..., 2017])`\n",
    "\n",
    "That's tedious! Luckily, [np.arange()](https://docs.scipy.org/doc/numpy/reference/generated/numpy.arange.html) is a numpy function that creates an array storing a range of numbers.  "
   ]
  },
  {
   "cell_type": "code",
   "execution_count": 48,
   "metadata": {},
   "outputs": [
    {
     "name": "stdout",
     "output_type": "stream",
     "text": [
      "[1968 1969 1970 1971 1972 1973 1974 1975 1976 1977 1978 1979 1980 1981 1982\n",
      " 1983 1984 1985 1986 1987 1988 1989 1990 1991 1992 1993 1994 1995 1996 1997\n",
      " 1998 1999 2000 2001 2002 2003 2004 2005 2006 2007 2008 2009 2010 2011 2012\n",
      " 2013 2014 2015 2016]\n"
     ]
    }
   ],
   "source": [
    "years = np.arange(1968,2017)\n",
    "print(years)"
   ]
  },
  {
   "cell_type": "markdown",
   "metadata": {},
   "source": [
    "Why does this array end with 2016 when we entered 2017 as the final value?\n",
    "\n",
    "Like slicing, **Python counts up to but does not include the final value in a range!**\n",
    "\n",
    "Thus, we need to modify `years` to have an end value of 2018, so it includes 2017."
   ]
  },
  {
   "cell_type": "code",
   "execution_count": 49,
   "metadata": {},
   "outputs": [
    {
     "name": "stdout",
     "output_type": "stream",
     "text": [
      "[1968 1969 1970 1971 1972 1973 1974 1975 1976 1977 1978 1979 1980 1981 1982\n",
      " 1983 1984 1985 1986 1987 1988 1989 1990 1991 1992 1993 1994 1995 1996 1997\n",
      " 1998 1999 2000 2001 2002 2003 2004 2005 2006 2007 2008 2009 2010 2011 2012\n",
      " 2013 2014 2015 2016 2017]\n"
     ]
    }
   ],
   "source": [
    "years = np.arange(1968,2018)\n",
    "print(years)"
   ]
  },
  {
   "cell_type": "markdown",
   "metadata": {},
   "source": [
    "Note: many Python programmers create ranges with a \"+1\" tacked onto the final value instead of using a final value with one added to it:\n",
    "\n",
    "`years = np.arange(1968,2017+1)`"
   ]
  },
  {
   "cell_type": "markdown",
   "metadata": {},
   "source": [
    "** (3) ** Use the [scipy.stats.linregress](https://docs.scipy.org/doc/scipy-0.14.0/reference/generated/scipy.stats.linregress.html) funtion to compute the trend.\n",
    "\n",
    "This function uses a [least-squares approach](https://en.wikipedia.org/wiki/Ordinary_least_squares) to compute the regression line.\n",
    "\n",
    "The general syntax of the `lineregress` function is:\n",
    "\n",
    "`slope, intercept, r_value, p_value, std_err = stats.linregress(x, y)`\n",
    "\n",
    "This says \"return the slope, interecept, r_value, p_value, and std_err by performing a linear regression of the variables x and y.\"\n",
    "\n",
    "* slope = slope (or trend) of the regression line\n",
    "\n",
    "* intercept = intercept of the regression line\n",
    "\n",
    "* r-value = correlation coefficient\n",
    "\n",
    "* p-value = two-sided p-value for a hypothesis test whose null hypothesis is that the slope is zero\n",
    "\n",
    "* stderr = standard error of the estimate\n",
    "\n",
    "Let's enter our `x` (`years`) and `y` (`temp_1968_2017`) arrays and compute the slope of the regression line."
   ]
  },
  {
   "cell_type": "code",
   "execution_count": 50,
   "metadata": {},
   "outputs": [
    {
     "name": "stdout",
     "output_type": "stream",
     "text": [
      "0.0514621848739\n"
     ]
    }
   ],
   "source": [
    "slope, intercept, r_value, p_value, std_err = stats.linregress(years, temp_1968_2017)\n",
    "print(slope)"
   ]
  },
  {
   "cell_type": "markdown",
   "metadata": {},
   "source": [
    "The slope is approximately 0.05 degrees F per year, or 0.5 degrees F per decade, or 2.5 degrees F per 50 years (close to our estimate!)"
   ]
  },
  {
   "cell_type": "markdown",
   "metadata": {},
   "source": [
    "Optional further reading:\n",
    "\n",
    "[Super nerdy comparison of the many ways to perform linear regressions using Python](https://medium.freecodecamp.org/data-science-with-python-8-ways-to-do-linear-regression-and-measure-their-speed-b5577d75f8b)\n",
    "\n",
    "[NOAA summary of global temperature trends](https://www.climate.gov/news-features/understanding-climate/climate-change-global-temperature)"
   ]
  },
  {
   "cell_type": "markdown",
   "metadata": {},
   "source": [
    "** In-class exercise **\n",
    "\n",
    "Let's explore how annual *maximum* temperature over California has changed over the past 50 years. "
   ]
  },
  {
   "cell_type": "code",
   "execution_count": 51,
   "metadata": {},
   "outputs": [],
   "source": [
    "tmax_1968_2017 = np.array([ 70.0,  69.7,  70.3,  68.6,  69.6,  69.4,  \n",
    "        70.2,  68.7,  70.5, 70.6,  69.6,  70.1,  70.5,  71.6,  67.9,  \n",
    "        68.6,  70.4,  69.9, 71.2,  70.8,  71.7,  71.1,  70.9,  70.8,  \n",
    "        71.5,  69.8,  70.6, 71.0,  71.9,  71.5,  68.2,  70.8,  71.2,  \n",
    "        71.7,  72. ,  71.8, 71.4,  70.8,  71.3,  72. ,  71.9,  71.7,  \n",
    "        69.8,  70. ,  72.5, 72.6,  74.2,  73.4,  72.5,  72.7])"
   ]
  },
  {
   "cell_type": "markdown",
   "metadata": {},
   "source": [
    "1. What is the difference in Tmax between the 1968-1972 average and the 2013-2017 average (i.e. the first 5 years and last 5 years of the time series)?\n",
    "2. What is the trend of Tmax over this time period? How does it compare to Tavg? \n",
    "\n",
    "---"
   ]
  },
  {
   "cell_type": "markdown",
   "metadata": {},
   "source": [
    "** A taste of what's to come **\n",
    "\n",
    "In a few weeks, we'll learn to plot data. \n",
    "\n",
    "No need to understand the code below yet, this is just meant to visualize the temperature time series and trendline, and hopefully get you amped on what's to come."
   ]
  },
  {
   "cell_type": "code",
   "execution_count": 57,
   "metadata": {},
   "outputs": [
    {
     "data": {
      "image/png": "[encoded data removed]",
      "text/plain": [
       "<Figure size 576x360 with 1 Axes>"
      ]
     },
     "metadata": {},
     "output_type": "display_data"
    }
   ],
   "source": [
    "import seaborn\n",
    "import matplotlib.pyplot as plt\n",
    "\n",
    "regression_line = slope*years + intercept\n",
    "\n",
    "fig = plt.figure(figsize=(8,5))\n",
    "\n",
    "ax = fig.add_subplot(1,1,1)\n",
    "ax.plot(years, temp_1968_2017, color='black', linestyle='solid', marker='o', label='Annual temperature')\n",
    "ax.plot(years, regression_line, color='magenta', linestyle='dashed', linewidth=2, label='Trendline')\n",
    "ax.set_ylabel('Temperature (F)')\n",
    "ax.set_xlim(1965, 2020)\n",
    "ax.set_title('1968-2017 California Annual Temperature')\n",
    "\n",
    "plt.legend(loc='upper left', frameon=False)\n",
    "plt.show()"
   ]
  },
  {
   "cell_type": "markdown",
   "metadata": {},
   "source": [
    "---\n",
    "Optional further reading:\n",
    "\n",
    "[The identification of distinct patterns in California temperature trends](The identification of distinct patterns in California temperature trends) "
   ]
  }
 ],
 "metadata": {
  "kernelspec": {
   "display_name": "Python 3",
   "language": "python",
   "name": "python3"
  },
  "language_info": {
   "codemirror_mode": {
    "name": "ipython",
    "version": 3
   },
   "file_extension": ".py",
   "mimetype": "text/x-python",
   "name": "python",
   "nbconvert_exporter": "python",
   "pygments_lexer": "ipython3",
   "version": "3.5.4"
  }
 },
 "nbformat": 4,
 "nbformat_minor": 2
}
