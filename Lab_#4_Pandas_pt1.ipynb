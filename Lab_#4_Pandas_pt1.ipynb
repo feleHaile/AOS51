{
 "cells": [
  {
   "cell_type": "markdown",
   "metadata": {},
   "source": [
    "# AOS 51, Spring 2018, Lab #4\n",
    "\n",
    "# Pandas part 1 \n",
    "\n",
    "For the past three weeks, we have learned the essentials of lists, arrays, loops, if statements, arithmetic, and statistics using core Python capabilties and the Numpy/Scipy packages. \n",
    "\n",
    "These skills provide a foundation to now launch into specialized packages designed for powerful, efficienct, and enjoyable data analysis. \n",
    "\n",
    "The first package we'll use is called [Pandas](https://pandas.pydata.org/). We'll analyze and plot climate data using Pandas for the next few weeks. \n",
    "\n",
    "Pandas is not only one of the most popular packages for 2D climate data analyses, but it is widely used in the business and technology sectors (like crunching all of your personal data and embarrassing posts at [Facebook](https://www.fastcompany.com/3030877/businesses-can-now-use-the-same-stats-language-as-universities-thanks-to-pandas)).\n",
    "\n",
    "Let's begin!\n",
    "\n",
    "---"
   ]
  },
  {
   "cell_type": "markdown",
   "metadata": {},
   "source": [
    "Like numpy and scipy, we need to import Pandas. By convention, we'll rename Pandas as \"pd\". (Similar to how we named numpy as np.) "
   ]
  },
  {
   "cell_type": "code",
   "execution_count": 33,
   "metadata": {},
   "outputs": [],
   "source": [
    "import pandas as pd"
   ]
  },
  {
   "cell_type": "markdown",
   "metadata": {},
   "source": [
    "# Pandas Series\n",
    "\n",
    "There are two data structures in Pandas:\n",
    "\n",
    "1. Series - 1D time series of climate data\n",
    "2. DataFrame - 2D matrix of climate data\n",
    "\n",
    "Today, we'll just work with Series.\n",
    "\n",
    "### Creating a Series\n",
    "\n",
    "You can generate a [Series](https://pandas.pydata.org/pandas-docs/stable/generated/pandas.Series.html#pandas.Series) in pandas by simply feeding the `pd.Series()` function a `list` of values: "
   ]
  },
  {
   "cell_type": "code",
   "execution_count": 34,
   "metadata": {},
   "outputs": [
    {
     "data": {
      "text/plain": [
       "0    23.000\n",
       "1   -15.600\n",
       "2     0.000\n",
       "3    -0.005\n",
       "dtype: float64"
      ]
     },
     "execution_count": 34,
     "metadata": {},
     "output_type": "execute_result"
    }
   ],
   "source": [
    "pd.Series([23.0, -15.6, 0.0, -.005])"
   ]
  },
  {
   "cell_type": "markdown",
   "metadata": {},
   "source": [
    "Since all values in this Series are float numbers, Pandas let's us know that the datatype (\"dtype\") is float64.\n",
    "\n",
    "Note that Pandas has automatically created an **index** as the left-most column. This index is simply a range of integers corresponding to the number of elements in the Series (or you can think of this as the row index).\n",
    "\n",
    "Of course, like everything in Python, Pandas index also begins with zero, not one.\n",
    "\n",
    "Series can contain all numbers, all strings, or a mix:"
   ]
  },
  {
   "cell_type": "code",
   "execution_count": 4,
   "metadata": {},
   "outputs": [
    {
     "data": {
      "text/plain": [
       "0             City\n",
       "1      Los Angeles\n",
       "2             Date\n",
       "3       2018-04-24\n",
       "4    Soil Moisture\n",
       "5             5.25\n",
       "6            units\n",
       "7               mm\n",
       "dtype: object"
      ]
     },
     "execution_count": 4,
     "metadata": {},
     "output_type": "execute_result"
    }
   ],
   "source": [
    "pd.Series(['City', 'Los Angeles', 'Date', '2018-04-24', 'Soil Moisture', 5.25, 'units', 'mm'])"
   ]
  },
  {
   "cell_type": "markdown",
   "metadata": {},
   "source": [
    "Since we have a mix of strings and a float here, the datatype is simply an \"object\"."
   ]
  },
  {
   "cell_type": "markdown",
   "metadata": {},
   "source": [
    "---\n",
    "** In-class exercise **\n",
    "\n",
    "Create a Series storing the last 6 annual-mean temperatures over Las Vegas, NV (for the record, I am *not* a fan of this city):\n",
    "\n",
    "| Year | Temp (F)|\n",
    "|---|---|\n",
    "|2012|71.2|\n",
    "|2013|69.8|\n",
    "|2014|72.0|\n",
    "|2015|71.8|\n",
    "|2016|71.6|\n",
    "|2017|72.3|\n",
    "\n",
    "---"
   ]
  },
  {
   "cell_type": "markdown",
   "metadata": {},
   "source": [
    "### Modifying the Index of a Series\n",
    "\n",
    "Sometimes, we don't want to have an index of integers. We can modify it by specifying what is `data` and what is an `index`: "
   ]
  },
  {
   "cell_type": "code",
   "execution_count": 5,
   "metadata": {},
   "outputs": [
    {
     "data": {
      "text/plain": [
       "A    23.000\n",
       "B   -15.600\n",
       "C     0.000\n",
       "D    -0.005\n",
       "dtype: float64"
      ]
     },
     "execution_count": 5,
     "metadata": {},
     "output_type": "execute_result"
    }
   ],
   "source": [
    "pd.Series(data=[23.0, -15.6, 0.0, -.005], index=['A', 'B', 'C', 'D'])"
   ]
  },
  {
   "cell_type": "code",
   "execution_count": 6,
   "metadata": {},
   "outputs": [
    {
     "data": {
      "text/plain": [
       "5     23.000\n",
       "10   -15.600\n",
       "15     0.000\n",
       "20    -0.005\n",
       "dtype: float64"
      ]
     },
     "execution_count": 6,
     "metadata": {},
     "output_type": "execute_result"
    }
   ],
   "source": [
    "pd.Series(data=[23.0, -15.6, 0.0, -.005], index=[5, 10, 15, 20])"
   ]
  },
  {
   "cell_type": "markdown",
   "metadata": {},
   "source": [
    "---\n",
    "** In-class exercise **\n",
    "\n",
    "Adjust the Series you created above so that the index represents the range of years corresponding to the Las Vegas temperatures.\n",
    "\n",
    "---"
   ]
  },
  {
   "cell_type": "markdown",
   "metadata": {},
   "source": [
    "### Creating date ranges and a DateTimeIndex \n",
    "\n",
    "Manually entering dates into our Series Index is tediuous. \n",
    "\n",
    "Usefully, we can create a [pd.date_range](https://pandas.pydata.org/pandas-docs/stable/generated/pandas.date_range.html) to set some dates as our index:"
   ]
  },
  {
   "cell_type": "code",
   "execution_count": 7,
   "metadata": {},
   "outputs": [
    {
     "name": "stdout",
     "output_type": "stream",
     "text": [
      "DatetimeIndex(['2018-04-01', '2018-04-02', '2018-04-03', '2018-04-04'], dtype='datetime64[ns]', freq='D')\n"
     ]
    }
   ],
   "source": [
    "# Generate a DatetimeIndex of 4 days: April 1 - April 4, 2018\n",
    "dates = pd.date_range(start='2018-04-01', end='2018-04-04', freq='D')\n",
    "print(dates)"
   ]
  },
  {
   "cell_type": "code",
   "execution_count": 8,
   "metadata": {},
   "outputs": [
    {
     "data": {
      "text/plain": [
       "2018-04-01    23.000\n",
       "2018-04-02   -15.600\n",
       "2018-04-03     0.000\n",
       "2018-04-04    -0.005\n",
       "Freq: D, dtype: float64"
      ]
     },
     "execution_count": 8,
     "metadata": {},
     "output_type": "execute_result"
    }
   ],
   "source": [
    "# Then set \"dates\" as the index\n",
    "pd.Series(data=[23.0, -15.6, 0.0, -.005], index=dates)"
   ]
  },
  {
   "cell_type": "markdown",
   "metadata": {},
   "source": [
    "#### More on pd.date_range\n",
    "\n",
    "`pd.date_range` is very powerful and flexible. It can create date ranges with [frequency intervals](http://pandas.pydata.org/pandas-docs/stable/timeseries.html#offset-aliases) ranging from nanoseconds to years.\n",
    "\n",
    "Most common to climate data would be date ranges of hours, days, months, and years:"
   ]
  },
  {
   "cell_type": "code",
   "execution_count": 68,
   "metadata": {},
   "outputs": [
    {
     "data": {
      "text/plain": [
       "DatetimeIndex(['2018-04-01 00:00:00', '2018-04-01 01:00:00',\n",
       "\n",
       "               '2018-04-01 02:00:00', '2018-04-01 03:00:00',\n",
       "\n",
       "               '2018-04-01 04:00:00', '2018-04-01 05:00:00',\n",
       "\n",
       "               '2018-04-01 06:00:00', '2018-04-01 07:00:00',\n",
       "\n",
       "               '2018-04-01 08:00:00', '2018-04-01 09:00:00',\n",
       "\n",
       "               '2018-04-01 10:00:00', '2018-04-01 11:00:00',\n",
       "\n",
       "               '2018-04-01 12:00:00', '2018-04-01 13:00:00',\n",
       "\n",
       "               '2018-04-01 14:00:00', '2018-04-01 15:00:00',\n",
       "\n",
       "               '2018-04-01 16:00:00', '2018-04-01 17:00:00',\n",
       "\n",
       "               '2018-04-01 18:00:00', '2018-04-01 19:00:00',\n",
       "\n",
       "               '2018-04-01 20:00:00', '2018-04-01 21:00:00',\n",
       "\n",
       "               '2018-04-01 22:00:00', '2018-04-01 23:00:00',\n",
       "\n",
       "               '2018-04-02 00:00:00'],\n",
       "\n",
       "              dtype='datetime64[ns]', freq='H')"
      ]
     },
     "execution_count": 68,
     "metadata": {},
     "output_type": "execute_result"
    }
   ],
   "source": [
    "# Hourly date range, freq='H'\n",
    "pd.date_range(start='2018-04-01', end='2018-04-02', freq='H')"
   ]
  },
  {
   "cell_type": "code",
   "execution_count": 10,
   "metadata": {},
   "outputs": [
    {
     "data": {
      "text/plain": [
       "DatetimeIndex(['2018-04-01', '2018-04-02', '2018-04-03', '2018-04-04',\n",
       "               '2018-04-05', '2018-04-06', '2018-04-07'],\n",
       "              dtype='datetime64[ns]', freq='D')"
      ]
     },
     "execution_count": 10,
     "metadata": {},
     "output_type": "execute_result"
    }
   ],
   "source": [
    "# Daily date range, freq='D'\n",
    "pd.date_range(start='2018-04-01', end='2018-04-07', freq='D')"
   ]
  },
  {
   "cell_type": "code",
   "execution_count": 11,
   "metadata": {},
   "outputs": [
    {
     "data": {
      "text/plain": [
       "DatetimeIndex(['2018-04-30', '2018-05-31', '2018-06-30', '2018-07-31'], dtype='datetime64[ns]', freq='M')"
      ]
     },
     "execution_count": 11,
     "metadata": {},
     "output_type": "execute_result"
    }
   ],
   "source": [
    "# Monthly date range, dates at the *end* of each month, freq='M' \n",
    "pd.date_range(start='2018-04', end='2018-08', freq='M')"
   ]
  },
  {
   "cell_type": "code",
   "execution_count": 12,
   "metadata": {},
   "outputs": [
    {
     "data": {
      "text/plain": [
       "DatetimeIndex(['2018-04-01', '2018-05-01', '2018-06-01', '2018-07-01',\n",
       "               '2018-08-01'],\n",
       "              dtype='datetime64[ns]', freq='MS')"
      ]
     },
     "execution_count": 12,
     "metadata": {},
     "output_type": "execute_result"
    }
   ],
   "source": [
    "# Monthly date range, dates at the *beginning* of each month, freq='MS' (month start)\n",
    "pd.date_range(start='2018-04', end='2018-08', freq='MS')"
   ]
  },
  {
   "cell_type": "code",
   "execution_count": 13,
   "metadata": {},
   "outputs": [
    {
     "data": {
      "text/plain": [
       "DatetimeIndex(['2012-12-31', '2013-12-31', '2014-12-31', '2015-12-31',\n",
       "               '2016-12-31', '2017-12-31'],\n",
       "              dtype='datetime64[ns]', freq='A-DEC')"
      ]
     },
     "execution_count": 13,
     "metadata": {},
     "output_type": "execute_result"
    }
   ],
   "source": [
    "# Annual date range, dates at the *end* of each year, freq='A'\n",
    "pd.date_range(start='2012', end='2018', freq='A')"
   ]
  },
  {
   "cell_type": "markdown",
   "metadata": {},
   "source": [
    "Note how this range does not include 2018"
   ]
  },
  {
   "cell_type": "code",
   "execution_count": 14,
   "metadata": {},
   "outputs": [
    {
     "data": {
      "text/plain": [
       "DatetimeIndex(['2012-01-01', '2013-01-01', '2014-01-01', '2015-01-01',\n",
       "               '2016-01-01', '2017-01-01', '2018-01-01'],\n",
       "              dtype='datetime64[ns]', freq='AS-JAN')"
      ]
     },
     "execution_count": 14,
     "metadata": {},
     "output_type": "execute_result"
    }
   ],
   "source": [
    "# Annual date range, dates at the *beginning* of each year, freq='AS' (annual start)\n",
    "pd.date_range(start='2012', end='2018', freq='AS')"
   ]
  },
  {
   "cell_type": "markdown",
   "metadata": {},
   "source": [
    "Note how this range now does include 2018"
   ]
  },
  {
   "cell_type": "markdown",
   "metadata": {},
   "source": [
    "---\n",
    "** In-class exercise **\n",
    "\n",
    "1. Create an hourly date range containing all the hours of today's date.\n",
    "\n",
    "   Note: this range will also include midnight of tomorrow\n",
    "2. Create a daily range containing days of the past week, including today. \n",
    "3. Create a monthly date range (start of the month) containing the last 12 months, including this month. \n",
    "4. Create an annual date range (start of the year) containing years from when you were born through 2018.\n",
    "---"
   ]
  },
  {
   "cell_type": "markdown",
   "metadata": {},
   "source": [
    "### Slicing data in a Series\n",
    "\n",
    "We can slice data in a Series two ways:\n",
    "\n",
    "   1. By the data point's position in the Series\n",
    "   2. By the data points' corresponding Index Labels\n",
    "   \n",
    "Let's give a name to the Series we created above that has dates as an index:"
   ]
  },
  {
   "cell_type": "code",
   "execution_count": 16,
   "metadata": {},
   "outputs": [
    {
     "name": "stdout",
     "output_type": "stream",
     "text": [
      "2018-04-01    23.000\n",
      "2018-04-02   -15.600\n",
      "2018-04-03     0.000\n",
      "2018-04-04    -0.005\n",
      "Freq: D, dtype: float64\n"
     ]
    }
   ],
   "source": [
    "s = pd.Series(data=[23.0, -15.6, 0.0, -.005], index=dates)\n",
    "print(s)"
   ]
  },
  {
   "cell_type": "markdown",
   "metadata": {},
   "source": [
    "** 1. Slicing by position **\n",
    "\n",
    "We can slice by position exactly how we do for lists and 1D arrays:"
   ]
  },
  {
   "cell_type": "code",
   "execution_count": 17,
   "metadata": {},
   "outputs": [
    {
     "data": {
      "text/plain": [
       "23.0"
      ]
     },
     "execution_count": 17,
     "metadata": {},
     "output_type": "execute_result"
    }
   ],
   "source": [
    "# First element (zeroth index)\n",
    "s[0]"
   ]
  },
  {
   "cell_type": "code",
   "execution_count": 18,
   "metadata": {},
   "outputs": [
    {
     "data": {
      "text/plain": [
       "-0.0050000000000000001"
      ]
     },
     "execution_count": 18,
     "metadata": {},
     "output_type": "execute_result"
    }
   ],
   "source": [
    "# 4th element (3rd index)\n",
    "s[3]"
   ]
  },
  {
   "cell_type": "code",
   "execution_count": 19,
   "metadata": {},
   "outputs": [
    {
     "data": {
      "text/plain": [
       "2018-04-01    23.0\n",
       "2018-04-02   -15.6\n",
       "Freq: D, dtype: float64"
      ]
     },
     "execution_count": 19,
     "metadata": {},
     "output_type": "execute_result"
    }
   ],
   "source": [
    "# First 2 elements\n",
    "s[0:2]"
   ]
  },
  {
   "cell_type": "code",
   "execution_count": 20,
   "metadata": {},
   "outputs": [
    {
     "data": {
      "text/plain": [
       "2018-04-03    0.000\n",
       "2018-04-04   -0.005\n",
       "Freq: D, dtype: float64"
      ]
     },
     "execution_count": 20,
     "metadata": {},
     "output_type": "execute_result"
    }
   ],
   "source": [
    "# Last 2 elements\n",
    "s[-2:]"
   ]
  },
  {
   "cell_type": "markdown",
   "metadata": {},
   "source": [
    "** 2. Slicing by Index Labels **\n",
    "\n",
    "Since the Series has an Index - in this case a range of dates - we can extract items based on the date labels."
   ]
  },
  {
   "cell_type": "code",
   "execution_count": 21,
   "metadata": {},
   "outputs": [
    {
     "data": {
      "text/plain": [
       "23.0"
      ]
     },
     "execution_count": 21,
     "metadata": {},
     "output_type": "execute_result"
    }
   ],
   "source": [
    "# Element at April 1, 2018\n",
    "s['2018-04-01']"
   ]
  },
  {
   "cell_type": "code",
   "execution_count": 35,
   "metadata": {},
   "outputs": [
    {
     "data": {
      "text/plain": [
       "2018-04-02   -15.600\n",
       "2018-04-03     0.000\n",
       "2018-04-04    -0.005\n",
       "Freq: D, dtype: float64"
      ]
     },
     "execution_count": 35,
     "metadata": {},
     "output_type": "execute_result"
    }
   ],
   "source": [
    "# Elements from April 2 - 4, 2018 (a range of dates)\n",
    "s['2018-04-02':'2018-04-04']"
   ]
  },
  {
   "cell_type": "code",
   "execution_count": 37,
   "metadata": {},
   "outputs": [
    {
     "data": {
      "text/plain": [
       "2018-04-02   NaN\n",
       "2018-04-04   NaN\n",
       "dtype: float64"
      ]
     },
     "execution_count": 37,
     "metadata": {},
     "output_type": "execute_result"
    }
   ],
   "source": [
    "# Elements at 2018-04-02 and 2018-04-04 (a list of dates)\n",
    "s[['2018-04-02', '2018-04-04']]"
   ]
  },
  {
   "cell_type": "markdown",
   "metadata": {},
   "source": [
    "NaNs?! What happened here?\n",
    "\n",
    "Pandas has a quirk when you slice of a list of dates. It can't convert from strings to Timestamps on the fly, so we need to do the conversion ourselves using Pandas [Timestamp](https://pandas.pydata.org/pandas-docs/stable/generated/pandas.Timestamp.html)."
   ]
  },
  {
   "cell_type": "code",
   "execution_count": 38,
   "metadata": {},
   "outputs": [
    {
     "data": {
      "text/plain": [
       "2018-04-02   -15.600\n",
       "2018-04-04    -0.005\n",
       "dtype: float64"
      ]
     },
     "execution_count": 38,
     "metadata": {},
     "output_type": "execute_result"
    }
   ],
   "source": [
    "# Elements at 2018-04-02 and 2018-04-04 (a list of dates)\n",
    "s[[pd.Timestamp('2018-04-02'),pd.Timestamp('2018-04-04')]]"
   ]
  },
  {
   "cell_type": "markdown",
   "metadata": {},
   "source": [
    "---\n",
    "** In-class exercise **\n",
    "\n",
    "California experienced an epic drought from 2012-2017. One way to measure drought is the [Palmer Drought Severity Index](https://climatedataguide.ucar.edu/climate-data/palmer-drought-severity-index-pdsi), which is an aggregate measure of low precipitation and dry soils. PDSI ranges from -10 (most drought-y) to 10 (no drought). \n",
    "\n",
    "Here is the annual-mean PDSI data from 2012-2017:\n",
    "\n",
    "| Date | PDSI |\n",
    "|---|---|\n",
    "|2012| -1.59|\n",
    "|2013| -2.84|\n",
    "|2014| -5.75|\n",
    "|2015| -4.79|\n",
    "|2016| -1.37|\n",
    "|2017| -0.08|\n",
    "\n",
    "1. Create a `pd.date_range` called \"years\" that range from 2012-2017.\n",
    "2. Create a Series called \"PDSI\" containing the PDSI data in table above with \"years\" as the Index. \n",
    "3. Use two different slicing commands to extract PDSI values in 2014.\n",
    "---"
   ]
  },
  {
   "cell_type": "markdown",
   "metadata": {},
   "source": [
    "# Math and Stats on Series\n",
    "\n",
    "Similar to Numpy arrays, we can perform the standard arithmetic (+, -, *, /) and statistics (sum, min, max, mean, median, standard deviation) on Pandas Series:"
   ]
  },
  {
   "cell_type": "code",
   "execution_count": 91,
   "metadata": {},
   "outputs": [
    {
     "data": {
      "text/plain": [
       "2018-04-01    28.000\n",
       "\n",
       "2018-04-02   -10.600\n",
       "\n",
       "2018-04-03     5.000\n",
       "\n",
       "2018-04-04     4.995\n",
       "\n",
       "Freq: D, dtype: float64"
      ]
     },
     "execution_count": 91,
     "metadata": {},
     "output_type": "execute_result"
    }
   ],
   "source": [
    "s + 5.0"
   ]
  },
  {
   "cell_type": "code",
   "execution_count": 92,
   "metadata": {},
   "outputs": [
    {
     "data": {
      "text/plain": [
       "2018-04-01    -77.500\n",
       "\n",
       "2018-04-02   -116.100\n",
       "\n",
       "2018-04-03   -100.500\n",
       "\n",
       "2018-04-04   -100.505\n",
       "\n",
       "Freq: D, dtype: float64"
      ]
     },
     "execution_count": 92,
     "metadata": {},
     "output_type": "execute_result"
    }
   ],
   "source": [
    "s - 100.5"
   ]
  },
  {
   "cell_type": "code",
   "execution_count": 93,
   "metadata": {},
   "outputs": [
    {
     "data": {
      "text/plain": [
       "2018-04-01    34.5000\n",
       "\n",
       "2018-04-02   -23.4000\n",
       "\n",
       "2018-04-03     0.0000\n",
       "\n",
       "2018-04-04    -0.0075\n",
       "\n",
       "Freq: D, dtype: float64"
      ]
     },
     "execution_count": 93,
     "metadata": {},
     "output_type": "execute_result"
    }
   ],
   "source": [
    "s * 1.5"
   ]
  },
  {
   "cell_type": "code",
   "execution_count": 94,
   "metadata": {},
   "outputs": [
    {
     "data": {
      "text/plain": [
       "2018-04-01    2.3000\n",
       "\n",
       "2018-04-02   -1.5600\n",
       "\n",
       "2018-04-03    0.0000\n",
       "\n",
       "2018-04-04   -0.0005\n",
       "\n",
       "Freq: D, dtype: float64"
      ]
     },
     "execution_count": 94,
     "metadata": {},
     "output_type": "execute_result"
    }
   ],
   "source": [
    "s / 10"
   ]
  },
  {
   "cell_type": "code",
   "execution_count": 95,
   "metadata": {},
   "outputs": [
    {
     "data": {
      "text/plain": [
       "7.3950000000000005"
      ]
     },
     "execution_count": 95,
     "metadata": {},
     "output_type": "execute_result"
    }
   ],
   "source": [
    "s.sum()"
   ]
  },
  {
   "cell_type": "code",
   "execution_count": 96,
   "metadata": {},
   "outputs": [
    {
     "data": {
      "text/plain": [
       "1.8487500000000001"
      ]
     },
     "execution_count": 96,
     "metadata": {},
     "output_type": "execute_result"
    }
   ],
   "source": [
    "s.mean()"
   ]
  },
  {
   "cell_type": "code",
   "execution_count": 99,
   "metadata": {},
   "outputs": [
    {
     "data": {
      "text/plain": [
       "-15.6"
      ]
     },
     "execution_count": 99,
     "metadata": {},
     "output_type": "execute_result"
    }
   ],
   "source": [
    "s.min()"
   ]
  },
  {
   "cell_type": "code",
   "execution_count": 100,
   "metadata": {},
   "outputs": [
    {
     "data": {
      "text/plain": [
       "23.0"
      ]
     },
     "execution_count": 100,
     "metadata": {},
     "output_type": "execute_result"
    }
   ],
   "source": [
    "s.max()"
   ]
  },
  {
   "cell_type": "code",
   "execution_count": 101,
   "metadata": {},
   "outputs": [
    {
     "data": {
      "text/plain": [
       "-0.0025"
      ]
     },
     "execution_count": 101,
     "metadata": {},
     "output_type": "execute_result"
    }
   ],
   "source": [
    "s.median()"
   ]
  },
  {
   "cell_type": "code",
   "execution_count": 102,
   "metadata": {},
   "outputs": [
    {
     "data": {
      "text/plain": [
       "15.902709609266802"
      ]
     },
     "execution_count": 102,
     "metadata": {},
     "output_type": "execute_result"
    }
   ],
   "source": [
    "s.std()"
   ]
  },
  {
   "cell_type": "markdown",
   "metadata": {},
   "source": [
    "---\n",
    "**In-class exercise **\n",
    "\n",
    "Using the `PDSI` series from the previous exercise, compute the mean and minimum value during 2012-2017.\n",
    "\n",
    "Since Pandas is built on top of Numpy, we can use the functions `argmax` and `argmin` on Series to locate indices corresponding to the max/min values. For example:\n",
    "\n",
    "`minimum_index = pd.Series([1, 5, 10, 25]).argmin()`\n",
    "   \n",
    "Using `argmin` and `argmax`, what years did the min and max PDSI values occur?\n",
    "\n",
    "---"
   ]
  },
  {
   "cell_type": "markdown",
   "metadata": {},
   "source": [
    "# Resampling date ranges \n",
    "\n",
    "One of the best functions of Pandas is [resample](https://pandas.pydata.org/pandas-docs/stable/generated/pandas.Series.resample.html), which converts the data in the Series with dates as an Index from one frequency to another.\n",
    "\n",
    "The most common resampling for climate analysis is coverting from one frequency (e.g. daily) to a new, lower frequency (e.g. monthly) and then computing some statistics over data binned in the new lower frequency. \n",
    "\n",
    "Let's demonstrate with monthly PDSI values for the years 2012 - 2014:"
   ]
  },
  {
   "cell_type": "code",
   "execution_count": 152,
   "metadata": {},
   "outputs": [
    {
     "data": {
      "text/plain": [
       "2012-01-01   -2.26\n",
       "\n",
       "2012-02-01   -3.17\n",
       "\n",
       "2012-03-01   -2.29\n",
       "\n",
       "2012-04-01   -1.72\n",
       "\n",
       "2012-05-01   -1.95\n",
       "\n",
       "2012-06-01   -1.85\n",
       "\n",
       "2012-07-01   -1.74\n",
       "\n",
       "2012-08-01   -1.58\n",
       "\n",
       "2012-09-01   -1.89\n",
       "\n",
       "2012-10-01   -1.98\n",
       "\n",
       "2012-11-01    0.24\n",
       "\n",
       "2012-12-01    1.08\n",
       "\n",
       "2013-01-01   -0.80\n",
       "\n",
       "2013-02-01   -1.67\n",
       "\n",
       "2013-03-01   -2.45\n",
       "\n",
       "2013-04-01   -2.84\n",
       "\n",
       "2013-05-01   -2.98\n",
       "\n",
       "2013-06-01   -3.28\n",
       "\n",
       "2013-07-01   -3.52\n",
       "\n",
       "2013-08-01   -3.24\n",
       "\n",
       "2013-09-01   -2.60\n",
       "\n",
       "2013-10-01   -2.93\n",
       "\n",
       "2013-11-01   -3.41\n",
       "\n",
       "2013-12-01   -4.38\n",
       "\n",
       "2014-01-01   -5.89\n",
       "\n",
       "2014-02-01   -5.88\n",
       "\n",
       "2014-03-01   -5.58\n",
       "\n",
       "2014-04-01   -5.53\n",
       "\n",
       "2014-05-01   -6.04\n",
       "\n",
       "2014-06-01   -6.75\n",
       "\n",
       "2014-07-01   -7.00\n",
       "\n",
       "2014-08-01   -6.34\n",
       "\n",
       "2014-09-01   -5.52\n",
       "\n",
       "2014-10-01   -5.28\n",
       "\n",
       "2014-11-01   -5.21\n",
       "\n",
       "2014-12-01   -3.96\n",
       "\n",
       "Freq: MS, dtype: float64"
      ]
     },
     "execution_count": 152,
     "metadata": {},
     "output_type": "execute_result"
    }
   ],
   "source": [
    "dates = pd.date_range(start='2012-01', end='2014-12', freq='MS')\n",
    "PDSI_monthly_2012_2014 = pd.Series(data=[-2.26, -3.17, -2.29, -1.72, -1.95, -1.85, -1.74, -1.58, -1.89, -1.98,\n",
    "                              0.24, 1.08, -0.8, -1.67, -2.45, -2.84, -2.98, -3.28, -3.52, -3.24, -2.6,\n",
    "                              -2.93, -3.41, -4.38, -5.89, -5.88, -5.58, -5.53, -6.04, -6.75, -7.0,\n",
    "                              -6.34, -5.52, -5.28, -5.21, -3.96], index=dates)\n",
    "PDSI_monthly_2012_2014"
   ]
  },
  {
   "cell_type": "markdown",
   "metadata": {},
   "source": [
    "The general syntax for resampling and computing statistics over the new frequency is:\n",
    "\n",
    "{name_of_Series}.resample({new frequency}).{statistic}\n",
    "\n",
    "where:\n",
    "   * name of Series = the name of the Series you want to resample\n",
    "   * new frequency = new and lower frequency type (same as we used before, e.g. 'MS', 'AS') \n",
    "   * statistic = mean(), min(), max(), sum(), etc."
   ]
  },
  {
   "cell_type": "code",
   "execution_count": 153,
   "metadata": {},
   "outputs": [
    {
     "data": {
      "text/plain": [
       "2012-01-01   -1.592500\n",
       "\n",
       "2013-01-01   -2.841667\n",
       "\n",
       "2014-01-01   -5.748333\n",
       "\n",
       "Freq: AS-JAN, dtype: float64"
      ]
     },
     "execution_count": 153,
     "metadata": {},
     "output_type": "execute_result"
    }
   ],
   "source": [
    "# Resampling monthly PDSI to annual and computing the mean\n",
    "PDSI_annual_2012_2014 = PDSI_monthly_2012_2014.resample('AS').mean()\n",
    "PDSI_annual_2012_2014"
   ]
  },
  {
   "cell_type": "markdown",
   "metadata": {},
   "source": [
    "Let's confirm that these annual-means are the same as contained in the `PDSI` Series."
   ]
  },
  {
   "cell_type": "code",
   "execution_count": 154,
   "metadata": {},
   "outputs": [
    {
     "data": {
      "text/plain": [
       "2012-01-01   -1.59\n",
       "\n",
       "2013-01-01   -2.84\n",
       "\n",
       "2014-01-01   -5.75\n",
       "\n",
       "Freq: AS-JAN, dtype: float64"
      ]
     },
     "execution_count": 154,
     "metadata": {},
     "output_type": "execute_result"
    }
   ],
   "source": [
    "PDSI['2012-01-01':'2014-01-1']"
   ]
  },
  {
   "cell_type": "markdown",
   "metadata": {},
   "source": [
    "**Yep**"
   ]
  },
  {
   "cell_type": "code",
   "execution_count": 155,
   "metadata": {},
   "outputs": [
    {
     "data": {
      "text/plain": [
       "2012-01-01   -3.17\n",
       "\n",
       "2013-01-01   -4.38\n",
       "\n",
       "2014-01-01   -7.00\n",
       "\n",
       "Freq: AS-JAN, dtype: float64"
      ]
     },
     "execution_count": 155,
     "metadata": {},
     "output_type": "execute_result"
    }
   ],
   "source": [
    "# Resampling monthly PDSI to annual and computing the minimum per year \n",
    "PDSI_2012_2014_annual_min = PDSI_monthly_2012_2014.resample('AS').min()\n",
    "PDSI_2012_2014_annual_min"
   ]
  },
  {
   "cell_type": "code",
   "execution_count": 156,
   "metadata": {},
   "outputs": [
    {
     "data": {
      "text/plain": [
       "2012-01-01    1.08\n",
       "\n",
       "2013-01-01   -0.80\n",
       "\n",
       "2014-01-01   -3.96\n",
       "\n",
       "Freq: AS-JAN, dtype: float64"
      ]
     },
     "execution_count": 156,
     "metadata": {},
     "output_type": "execute_result"
    }
   ],
   "source": [
    "# Resampling monthly PDSI to annual and computing the maximum per year \n",
    "PDSI_2012_2014_annual_max = PDSI_monthly_2012_2014.resample('AS').max()\n",
    "PDSI_2012_2014_annual_max"
   ]
  },
  {
   "cell_type": "markdown",
   "metadata": {},
   "source": [
    "---\n",
    "** In-class exercise **\n",
    "\n",
    "Let's have a look at the 2015-2017 monthly PDSI data for California:"
   ]
  },
  {
   "cell_type": "code",
   "execution_count": 133,
   "metadata": {},
   "outputs": [],
   "source": [
    "dates_2015_2017 = pd.date_range(start='2015-01', end='2017-12', freq='MS')\n",
    "PDSI_monthly_2015_2017 = pd.Series(data=[-4.83, -4.84, -5.67, -5.52, -5.10, -5.14, -4.86, -4.75, -4.48, -4.48, -4.30,\n",
    "                         -3.56, -2.29, -2.98, -2.07, -2.08, -1.88, -1.88, -2.3, -2.55, -2.69, 1.58, 1.26,\n",
    "                         1.4, 3.56, 4.66, -0.48, 0.47, -0.24, -0.28, -0.78, -1.02, -1.02, -1.61, -1.48, -2.69],\n",
    "                        index=dates) "
   ]
  },
  {
   "cell_type": "markdown",
   "metadata": {},
   "source": [
    "1. Resample this data and compute the annual-means for 2015, 2016, and 2017.\n",
    "2. Resample this data and compute the annual-minimums for 2015, 2016, and 2017. \n",
    "---"
   ]
  },
  {
   "cell_type": "markdown",
   "metadata": {},
   "source": [
    "# Plotting Series\n",
    "\n",
    "At long last, we are able to start visualizing our analyzed climate data. \n",
    "\n",
    "We'll learn many plotting types and techniques, and to start, we'll create simple plots of Pandas Series.\n",
    "\n",
    "The basic syntax for [plotting a Series](https://pandas.pydata.org/pandas-docs/stable/generated/pandas.Series.plot.html) is:\n",
    "\n",
    "{name of Series}.plot(kind={plot type}, color={color of lines/bars}, title={plot title}) \n",
    "\n",
    "where:\n",
    "\n",
    "* name of series = name of Series to be plotted\n",
    "* kind = type of plot: 'line', 'bar', 'hist'\n",
    "* color = color of lines/bars: 'red', 'blue', 'green', and so many more - [check out the full list of named colors](https://matplotlib.org/examples/color/named_colors.html)\n",
    "* title = always give your plot a title!\n",
    "\n",
    "Let's create a line plot of the annual-mean 2012-2017 PDSI values using the `PDSI` Series."
   ]
  },
  {
   "cell_type": "code",
   "execution_count": 148,
   "metadata": {},
   "outputs": [
    {
     "data": {
      "text/plain": [
       "<matplotlib.axes._subplots.AxesSubplot at 0x7fd5ff434828>"
      ]
     },
     "execution_count": 148,
     "metadata": {},
     "output_type": "execute_result"
    },
    {
     "data": {
      "image/png": "[encoded data removed]",
      "text/plain": [
       "<Figure size 432x288 with 1 Axes>"
      ]
     },
     "metadata": {},
     "output_type": "display_data"
    }
   ],
   "source": [
    "PDSI.plot(kind='line', color='green', title='2012-2017 Annual PDSI')"
   ]
  },
  {
   "cell_type": "markdown",
   "metadata": {},
   "source": [
    "Let's create a bar chart of monthly 2012-2014 PDSI values using the `PDSI_monthly_2012_2014` Series."
   ]
  },
  {
   "cell_type": "code",
   "execution_count": 157,
   "metadata": {},
   "outputs": [
    {
     "data": {
      "text/plain": [
       "<matplotlib.axes._subplots.AxesSubplot at 0x7fd5fefab2e8>"
      ]
     },
     "execution_count": 157,
     "metadata": {},
     "output_type": "execute_result"
    },
    {
     "data": {
      "image/png": "[encoded data removed]",
      "text/plain": [
       "<Figure size 432x288 with 1 Axes>"
      ]
     },
     "metadata": {},
     "output_type": "display_data"
    }
   ],
   "source": [
    "PDSI_monthly_2012_2014.plot(kind='bar', color='blueviolet', title='2012-2014 Monthly PDSI')"
   ]
  },
  {
   "cell_type": "markdown",
   "metadata": {},
   "source": [
    "---\n",
    "** In-class exercise **\n",
    "\n",
    "Plot 2015-2017 monthly PDSI as a line chart. Give the line a color you love and a title that makes sense. \n",
    "\n",
    "Looking at the plot, are we entering another drought? Why or why not?\n",
    "\n",
    "---"
   ]
  },
  {
   "cell_type": "code",
   "execution_count": null,
   "metadata": {},
   "outputs": [],
   "source": []
  }
 ],
 "metadata": {
  "kernelspec": {
   "display_name": "Python 3",
   "language": "python",
   "name": "python3"
  },
  "language_info": {
   "codemirror_mode": {
    "name": "ipython",
    "version": 3
   },
   "file_extension": ".py",
   "mimetype": "text/x-python",
   "name": "python",
   "nbconvert_exporter": "python",
   "pygments_lexer": "ipython3",
   "version": "3.5.4"
  }
 },
 "nbformat": 4,
 "nbformat_minor": 2
}
