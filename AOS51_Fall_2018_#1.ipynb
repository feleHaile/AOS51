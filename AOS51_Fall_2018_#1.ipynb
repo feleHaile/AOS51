{
 "cells": [
  {
   "cell_type": "markdown",
   "metadata": {},
   "source": [
    "# AOS 51 lab: Data Analysis for Climate Science\n",
    "\n",
    "## Course Overview\n",
    "---\n",
    "\n",
    "**Instructor**: Dr. Neil Berg (Email: nberg@ioes.ucla.edu, Twitter: @Neil_UCLAClim)\n",
    "\n",
    "**Structure**: Four 2-hour computer labs with in-class exercises (ungraded) and a final take-home assignment (graded)\n",
    "\n",
    "**Objectives:**\n",
    "   * Learn the Python programming language for analyzing and visualizing climate data\n",
    "   * Have fun, gain confidence in coding, apply skills to further AOS classes or those in other departments \n",
    "   \n",
    "**Thoughts before we proceed:**\n",
    "\n",
    "**1. Learning any new language is challenging, but anyone can become a great coder through persistent practice.**\n",
    "* Don't worry if concepts aren't clicking immediately. Stay positive, curious, and open to learning. Through each iteration and exercise, you'll increase your understanding and skills.\n",
    "\n",
    "** 2. Learning by doing >>> learning by listening/reading/copying. **\n",
    "* We'll be *doing* a lot of coding in this class, which is much more helpful than simply looking at my code and hearing me talk about it!\n",
    "\n",
    "** 3. Ask questions! **\n",
    "* I gaurantee you aren't the only one with them :)\n",
    "* Also, google anything and everything. Stackoverflow.com is your best friend for coding questions. \n",
    "\n",
    "---\n",
    "\n",
    "## Why Python?\n",
    "\n",
    "Python, R, Julia, Matlab, and many other languages are popular in climate science. So, why are we using Python in this lab? \n",
    "\n",
    "Like many other languags, Python:\n",
    "\n",
    "* Has robust mathetmatical and statistical packages\n",
    "* Has seamless interface with [netCDF](https://www.unidata.ucar.edu/software/netcdf/) data\n",
    "* Has great plotting packages for professional-quality figures\n",
    "* Has a large and friendly [user-community](http://pyaos.johnny-lin.com/) \n",
    "\n",
    "Unlike many other languages, Python:\n",
    "\n",
    "* Is the [most popular of the core climate-data languages](https://insights.stackoverflow.com/survey/2018/#most-popular-technologies)\n",
    "* Is the [fasting growing major programming language](https://stackoverflow.blog/2017/09/06/incredible-growth-python/)\n",
    "* Forces you to write clean code\n",
    "* Stresses *readability* by humans, not computers\n",
    "* Is named after [Monty Python](https://en.wikipedia.org/wiki/Monty_Python)\n",
    "* Is used for data analytics in major tech companies and government/scientific organizations:\n",
    "    * Google, Instagram, Spotify, Reddit, Etsy, WebMD, YouTube, Dropbox, and so many more\n",
    "    * NOAA, NASA, EPA, USGS, CIA\n",
    "---\n",
    "## What is Jupyter Notebook?\n",
    "\n",
    "Born out of [Project Jupyter](http://jupyter.org/), Jupyter is a web-based tool for writing Python code and Markdown text in the same place. \n",
    "\n",
    "** Opening up a Jupyter Notebook **\n",
    "\n",
    "1. Open the Terminal App on your Mac:\n",
    " * command + spacebar and then type in \"Terminal\"\n",
    "2. Create a new Terminal shell (it may automatically do this for you):\n",
    " * command + N\n",
    "3. Enter the directory where you have download the notebook using the \"cd\" (change directory) linux command:\n",
    " * `cd /Users/nberg/Downloads/` [then hit enter] (of course, replace \"nberg\" with your username!)\n",
    "4. Launch Jupyter notebook:\n",
    " * `jupyter-notebook` [then hit enter]\n",
    "5. This will open a new tab on your brower, click on the Jupyter Notebook. \n",
    " * Jupyter Notebooks end with \"ipynb\" (this stands for iPython Notebook, the older name before Jupyter came around).\n",
    "    \n",
    "** Working with Jupyter Notebook **\n",
    "\n",
    "There are two writing modes to toggle between:\n",
    "\n",
    "1. Python code (\"Code\" in the drop down menu)\n",
    "2. [Markdown](https://github.com/adam-p/markdown-here/wiki/Markdown-Cheatsheet#emphasis) text (\"Markdown\" in the drop down menu)\n",
    "\n",
    "Each piece of code or Markdown text is entered in new cells. \n",
    "\n",
    "New cells are created by clicking on the \"+\" icon near the top of this window.\n",
    "\n",
    "Cells are executed by hitting \"return + shif\", or go to the Run tab and select \"Run Selected Cells\".\n",
    "\n",
    "---"
   ]
  },
  {
   "cell_type": "markdown",
   "metadata": {},
   "source": [
    "## Our first Python code"
   ]
  },
  {
   "cell_type": "markdown",
   "metadata": {},
   "source": [
    "Traditionally, the first piece of code to write when learning a new language is \"Hello, World\".\n",
    "\n",
    "We can do that by using the `print()` command to display the string (i.e. words and sentences) \"Hello, World\":"
   ]
  },
  {
   "cell_type": "code",
   "execution_count": 1,
   "metadata": {},
   "outputs": [
    {
     "name": "stdout",
     "output_type": "stream",
     "text": [
      "Hello, World\n"
     ]
    }
   ],
   "source": [
    "print(\"Hello, World\")"
   ]
  },
  {
   "cell_type": "markdown",
   "metadata": {},
   "source": [
    "---\n",
    "** ---- In-class exercise ---- **\n",
    "\n",
    "Print the string \"Can we start working with data already?!\"\n",
    "\n",
    "Instructions:\n",
    "\n",
    "1. Create a new cell beneath this one and make sure you're in \"code\" mode. \n",
    "2. Use the `print()` command to pring the string. \n",
    "   * Note: you can use single or double quotes. They're equivalent and up to the coder, just be consistent!\n",
    "---"
   ]
  },
  {
   "cell_type": "markdown",
   "metadata": {},
   "source": [
    "## Data analysis in Python\n",
    "\n",
    "Now that we've finished our first line of Python code, let's jump a few lightyears ahead into data analysis. \n",
    "\n",
    "There are a few core data analysis packages in Python that we'll use in this course:\n",
    "* NumPy (arrays and matrices)\n",
    "* SciPy (collection of scientific and numerical algorithms)\n",
    "* Pandas (data analysis tools)\n",
    "* Matplotlib (plotting)\n",
    "* Cartopy (mapping)"
   ]
  },
  {
   "cell_type": "markdown",
   "metadata": {},
   "source": [
    "# Lists\n",
    "\n",
    "Data in Python can be stored in \"lists\". They're simply a collection of data points surrounded by square brackets:"
   ]
  },
  {
   "cell_type": "code",
   "execution_count": 2,
   "metadata": {},
   "outputs": [
    {
     "name": "stdout",
     "output_type": "stream",
     "text": [
      "[1, 3, 5, 7, 9]\n"
     ]
    }
   ],
   "source": [
    "data = [1, 3, 5, 7, 9]\n",
    "print(data)"
   ]
  },
  {
   "cell_type": "markdown",
   "metadata": {},
   "source": [
    "Easy enough. But, lists have a major limitation...you can't do arithmetic on them! "
   ]
  },
  {
   "cell_type": "code",
   "execution_count": 3,
   "metadata": {},
   "outputs": [
    {
     "ename": "TypeError",
     "evalue": "can only concatenate list (not \"int\") to list",
     "output_type": "error",
     "traceback": [
      "\u001b[0;31m---------------------------------------------------------------------------\u001b[0m",
      "\u001b[0;31mTypeError\u001b[0m                                 Traceback (most recent call last)",
      "\u001b[0;32m<ipython-input-3-db584df59822>\u001b[0m in \u001b[0;36m<module>\u001b[0;34m()\u001b[0m\n\u001b[0;32m----> 1\u001b[0;31m \u001b[0mprint\u001b[0m\u001b[0;34m(\u001b[0m\u001b[0mdata\u001b[0m \u001b[0;34m+\u001b[0m \u001b[0;36m5\u001b[0m\u001b[0;34m)\u001b[0m\u001b[0;34m\u001b[0m\u001b[0m\n\u001b[0m",
      "\u001b[0;31mTypeError\u001b[0m: can only concatenate list (not \"int\") to list"
     ]
    }
   ],
   "source": [
    "print(data + 5)"
   ]
  },
  {
   "cell_type": "markdown",
   "metadata": {},
   "source": [
    "So, most often, we'll need to work with \"arrays\" of data, rather than lists of data. For that, we need to enter the wonderful world of Numpy. "
   ]
  },
  {
   "cell_type": "markdown",
   "metadata": {},
   "source": [
    "## Numpy\n",
    "\n",
    "Numpy, like all packages in Python, needs to be imported into the script to access all of its tools.\n",
    "\n",
    "Let's import numpy and rename the package to \"np\", which is done by convention. "
   ]
  },
  {
   "cell_type": "code",
   "execution_count": 4,
   "metadata": {},
   "outputs": [],
   "source": [
    "# Comments in Python are denoted by the hashtag symbol\n",
    "\n",
    "# We need to import the numpy and scipy packages\n",
    "# By convention, numpy is renamed to \"np\" after it is imported\n",
    "\n",
    "# Packages only need to be imported once\n",
    "\n",
    "import numpy as np"
   ]
  },
  {
   "cell_type": "markdown",
   "metadata": {},
   "source": [
    "The fundamental data structure of numpy is an `array`. \n",
    "\n",
    "Numpy arrays are created using the `.array()` command within the `numpy` package. \n",
    "\n",
    "For example:"
   ]
  },
  {
   "cell_type": "code",
   "execution_count": 5,
   "metadata": {},
   "outputs": [
    {
     "name": "stdout",
     "output_type": "stream",
     "text": [
      "[1 3 5 7 9]\n",
      "<class 'numpy.ndarray'>\n"
     ]
    }
   ],
   "source": [
    "# Creating an array of 5 elements and assign it to the variable \"sample_array\"\n",
    "sample_array = np.array([1,3,5,7,9])\n",
    "print(sample_array)\n",
    "print(type(sample_array)) # confirm that we are working with a numpy array"
   ]
  },
  {
   "cell_type": "markdown",
   "metadata": {},
   "source": [
    "Note that the array was created by inputting a *list* of values. A list in Python is denoted by square brackets."
   ]
  },
  {
   "cell_type": "markdown",
   "metadata": {},
   "source": [
    "### Array arithmetic\n",
    "\n",
    "Arithmetic on numpy arrays is simple! We can add, subtract, multiple, or divide each element using:\n",
    "\n",
    "* \" + \" for addition\n",
    "* \" - \" for subtraction\n",
    "* \" * \" for multiplication\n",
    "* \" / \" for division"
   ]
  },
  {
   "cell_type": "code",
   "execution_count": 6,
   "metadata": {},
   "outputs": [
    {
     "name": "stdout",
     "output_type": "stream",
     "text": [
      "[11 13 15 17 19]\n"
     ]
    }
   ],
   "source": [
    "print(sample_array + 10)"
   ]
  },
  {
   "cell_type": "code",
   "execution_count": 7,
   "metadata": {},
   "outputs": [
    {
     "name": "stdout",
     "output_type": "stream",
     "text": [
      "[  1.72   5.16   8.6   12.04  15.48]\n"
     ]
    }
   ],
   "source": [
    "print(sample_array * 1.72)"
   ]
  },
  {
   "cell_type": "code",
   "execution_count": 8,
   "metadata": {},
   "outputs": [
    {
     "name": "stdout",
     "output_type": "stream",
     "text": [
      "[-7.6 -6.8 -6.  -5.2 -4.4]\n"
     ]
    }
   ],
   "source": [
    "print((sample_array - 20) / 2.5)"
   ]
  },
  {
   "cell_type": "markdown",
   "metadata": {},
   "source": [
    "Numpy has built-in functions for locating the min, max, mean, and standard deviation of arrays too:"
   ]
  },
  {
   "cell_type": "code",
   "execution_count": 9,
   "metadata": {},
   "outputs": [
    {
     "name": "stdout",
     "output_type": "stream",
     "text": [
      "1 9 5.0 2.82842712475\n"
     ]
    }
   ],
   "source": [
    "print(sample_array.min(), sample_array.max(), sample_array.mean(), sample_array.std())"
   ]
  },
  {
   "cell_type": "markdown",
   "metadata": {},
   "source": [
    "---\n",
    "** ---- In-class exercise ---- **\n",
    "\n",
    "Below is a table of monthly average temperatures for downtown Los Angeles. (Seriously, could we live in a nicer city?!) \n",
    "\n",
    "| Month | Temp (F)|\n",
    "|---|---|\n",
    "|January|58.0|\n",
    "|February|58.9|\n",
    "|March|60.6|\n",
    "|April|63.1|\n",
    "|May|65.8|\n",
    "|June|69.2|\n",
    "|July|73.3|\n",
    "|August|74.3|\n",
    "|September|73.1|\n",
    "|October|68.6|\n",
    "|November|62.4|\n",
    "|December|57.6|\n",
    "\n",
    "Instructions:\n",
    "1. Create a new numpy array called \"temp\" that stores monthly average temperatures in LA.\n",
    "2. Calculate the average temperature across each month and print the result. \n",
    "3. Create a new array called \"temp_C\" that contains the values converted from Fahrenheit to Celsius.\n",
    "    * Note: T_C = (T_F - 32) * (5/9)\n",
    "4. Calculate the maximum temperature in units degrees C and print the results. \n",
    "\n",
    "---"
   ]
  },
  {
   "cell_type": "markdown",
   "metadata": {},
   "source": [
    "# Matplotlib\n",
    "\n",
    "Matplotlib is Python's core plotting package and used to create a [crazy amount of cool plots](https://matplotlib.org/gallery/index.html).\n",
    "\n",
    "Today, we'll learn how to make:\n",
    "* line plots\n",
    "* scatter plots"
   ]
  },
  {
   "cell_type": "markdown",
   "metadata": {},
   "source": [
    "### Importing Matplotlib\n",
    "\n",
    "We need to import Matplotlib to access all of its tools. Actually, we'll just import the \"pyplot\" module of Matplotlib, and then rename it to \"plt\":"
   ]
  },
  {
   "cell_type": "code",
   "execution_count": 10,
   "metadata": {},
   "outputs": [],
   "source": [
    "import matplotlib.pyplot as plt"
   ]
  },
  {
   "cell_type": "markdown",
   "metadata": {},
   "source": [
    "### Line and scatter plots\n",
    "\n",
    "The general syntax is:\n",
    "\n",
    "Line plot: `plt.plot(x, y, [additional arguments])`\n",
    "\n",
    "Scatter plot: `plt.scatter(x, y, [additional arguments])`\n",
    "\n",
    "where `x` = data on the x-axis and `y` = data on the y-axis.\n",
    "\n",
    "Let's demonstrate with examples and exercises:"
   ]
  },
  {
   "cell_type": "code",
   "execution_count": 11,
   "metadata": {},
   "outputs": [
    {
     "data": {
      "image/png": "[encoded data removed]",
      "text/plain": [
       "<matplotlib.figure.Figure at 0x10fa35cc0>"
      ]
     },
     "metadata": {},
     "output_type": "display_data"
    }
   ],
   "source": [
    "# Line plot of monthly average temperatures over LA\n",
    "# x = months, y = temperature\n",
    "months = [1, 2, 3, 4, 5, 6, 7, 8, 9, 10, 11, 12]\n",
    "temps = [58.0, 58.9, 60.6, 63.1, 65.8, 69.2, 73.3, 74.3, 73.1, 68.6, 62.4, 57.6]\n",
    "\n",
    "plt.plot(months, temps, color='dodgerblue')\n",
    "plt.xlabel('Month')\n",
    "plt.ylabel('Temperature (def F)')\n",
    "plt.title('Monthly avg temperature over LA')\n",
    "plt.show()"
   ]
  },
  {
   "cell_type": "markdown",
   "metadata": {},
   "source": [
    "---\n",
    "** ---- In-class exercise ---- **\n",
    "\n",
    "Create a line chart of the last 10 years of California precipitation. \n",
    "\n",
    "| Year | Pr (inches)\n",
    "|---|---|---|\n",
    "|2008| 17.85|\n",
    "|2009| 17.05|\n",
    "|2010| 31.18|\n",
    "|2011| 18.79|\n",
    "|2012| 23.45|\n",
    "|2013| 7.93|\n",
    "|2014| 19.90|\n",
    "|2015| 15.05|\n",
    "|2016| 25.73|\n",
    "|2017| 27.65|\n",
    "\n",
    "1. Create a new cell beneath this one and make sure you are in \"code\" mode. \n",
    "2. Create a list storing the precipitation values. \n",
    "3. Create a list storing a range of years 2008-2017.\n",
    "4. Create a line chart plotting years (x-axis) and precipitation (y-axis). \n",
    "5. Add a y-axis label and a plot title.\n",
    "---"
   ]
  },
  {
   "cell_type": "code",
   "execution_count": 15,
   "metadata": {},
   "outputs": [
    {
     "data": {
      "image/png": "[encoded data removed]",
      "text/plain": [
       "<matplotlib.figure.Figure at 0x1a1a0e99b0>"
      ]
     },
     "metadata": {},
     "output_type": "display_data"
    }
   ],
   "source": [
    "# Scatter plot of sample data \n",
    "data1 = [0.7, 1.3, 2.4, 3.9, 5.5, 7.0, 9.0]\n",
    "data2 = [1.1, 2.5, 2.9, 4.0, 4.9, 8.2, 8.9]\n",
    "\n",
    "plt.scatter(data1, data2, color='violet')\n",
    "plt.xlabel('Data 1')\n",
    "plt.ylabel('Data 2')\n",
    "plt.title('Scatter plot of Data 1 and Data 2')\n",
    "plt.show()"
   ]
  },
  {
   "cell_type": "markdown",
   "metadata": {},
   "source": [
    "---\n",
    "** In-class exercise **\n",
    "\n",
    "Create a scatter plot of the following 10-years of California average and maximum temperature. \n",
    "\n",
    "| Year | Tavg (F) | Tmax (F)|\n",
    "|---|---|---|\n",
    "|2008| 58.9|71.9|\n",
    "|2009| 58.8|71.7|\n",
    "|2010| 57.7|69.8|\n",
    "|2011| 57.4|70.0|\n",
    "|2012| 59.5|72.5|\n",
    "|2013| 59.3|72.6|\n",
    "|2014| 61.4|74.2|\n",
    "|2015| 60.8|73.4|\n",
    "|2016| 60.1|72.5|\n",
    "|2017| 60.3|72.7|\n",
    "\n",
    "1. Create lists of Tavg and Tmax.\n",
    "2. With Tavg on the x-axis and Tmax on the y-axis, create a scatter plot.\n",
    "3. Label the axis and give the plot a title. \n",
    "---"
   ]
  },
  {
   "cell_type": "markdown",
   "metadata": {},
   "source": [
    "# Advanced statistics using Scipy\n",
    "\n",
    "Scientific Python or [Scipy](https://www.scipy.org/) contains a vast set of advanced statistical tools for climate data analyses. \n",
    "\n",
    "Today, we'll focus on two common statistical procedures:\n",
    "\n",
    "1. Correlation\n",
    "2. Linear regression\n",
    "\n",
    "Both can be performed using the `stats` toolbox in the `scipy` package. Let's import this package:"
   ]
  },
  {
   "cell_type": "code",
   "execution_count": 16,
   "metadata": {},
   "outputs": [],
   "source": [
    "from scipy import stats"
   ]
  },
  {
   "cell_type": "markdown",
   "metadata": {},
   "source": [
    "### Correlation\n",
    "\n",
    "The [Pearson](https://en.wikipedia.org/wiki/Karl_Pearson) correlation coefficient measures the linear relationship between two datasets. \n",
    "\n",
    "The coefficient, abbreviated as \"r\", ranges between -1 and +1:\n",
    "\n",
    "* r = 0 indicates no correlation\n",
    "* r = +1 indicates total positive correlation \n",
    "* r = -1 indicates total negative correlation\n",
    "\n",
    "Correlations are also associated with a p-value that tests for statistical significance of the correlation. The sample size of the datasets, and of course their potential relationships, influence the p_value. \n",
    "\n",
    "If the p-value is less than or equal to a desired significance level (usually 95% or 99%), then you can conclude that the correlation is very likely different from 0.\n",
    "\n",
    "For example, is the p_value is < 0.05, then the correlation is said to be statistically significant at the 95% level. \n",
    "\n",
    "Let's demonstrate with an example using the [scipy.stats.pearsonr](https://docs.scipy.org/doc/scipy-0.14.0/reference/generated/scipy.stats.pearsonr.html) function:"
   ]
  },
  {
   "cell_type": "code",
   "execution_count": 17,
   "metadata": {},
   "outputs": [
    {
     "name": "stdout",
     "output_type": "stream",
     "text": [
      "0.834420478781 0.000737073922618\n"
     ]
    }
   ],
   "source": [
    "# Los Angeles monthly minimum and maximum temperatures during 2017 (degrees F)\n",
    "min_temp_2017 = np.array([48.8, 51.8, 52.8, 55.4, 57.1, 60.9, 65.8, 66.8, 64.6, 62.5, 57.3, 50.2])\n",
    "max_temp_2017 = np.array([62.7, 62.6, 69.3, 71.9, 69.4, 72.6, 77.5, 77.3, 78.5, 80.4, 73.7, 72.4])\n",
    "\n",
    "r_value, p_value = stats.pearsonr(min_temp_2017, max_temp_2017)\n",
    "print(r_value, p_value)"
   ]
  },
  {
   "cell_type": "markdown",
   "metadata": {},
   "source": [
    "So, the correlation coefficient is 0.8, indicating a strong positive linear relationship between minimum and maximum temperatures over LA. \n",
    "\n",
    "Additionally, the p_value is 0.0007, which is much less than 0.01, or statistically significant at the 99% level.\n",
    "\n",
    "Note how I assigned two variables - `r_value` and `p_value` - on one line in the correlation procedure. This is permitted on functions that return more than one output (as the `pearsonr` function does). "
   ]
  },
  {
   "cell_type": "markdown",
   "metadata": {},
   "source": [
    "---\n",
    "\n",
    "** ---- In-class exercise ---- **\n",
    "\n",
    "Santa Ana events are dry and warm winds that blow from the Mojave Desert to Los Angeles (and Southern California, in general). Since the Mojave Desert is located at a higher elevation than Los Angeles, air sinks towards the ground and adiabatically compresses and warms as it flows over Los Angeles.\n",
    "\n",
    "During early December 2017, multiple [wildfires](http://www.latimes.com/projects/la-me-thomas-fire-40-days-of-devastation-3d/) were ravaging the greater Los Angeles region. Complicating the control of them was a [major Santa Ana event during December 5, 2017](https://www.washingtonpost.com/news/capital-weather-gang/wp/2017/12/04/santa-ana-winds-have-sparked-a-critical-wildfire-threat-in-southern-california/?utm_term=.05b70fd5486f).\n",
    "\n",
    "Below is the hourly average temperature (unit: degrees F) and relative humidity (unit: %) from midnight to 11pm on December 5, 2017 at LAX."
   ]
  },
  {
   "cell_type": "code",
   "execution_count": 18,
   "metadata": {},
   "outputs": [],
   "source": [
    "temp = np.array([57.9, 57.0, 57.0, 57.0, 55.0, 55.4, 55.9, 55.0, 57.2, 64.4, 66.2, 69.8, \n",
    "                 71.6, 71.6, 73.3, 73.4, 71.6, 68.0, 66.2, 62.6, 62.6, 62.6, 60.8, 55.4])\n",
    "\n",
    "rh = np.array([19, 16, 17, 15, 16, 15, 15, 17, 16, 10, 11, 7, 7, 7, 7, 6, 7, 8, 8, 9, 13, 13, 14, 18])"
   ]
  },
  {
   "cell_type": "markdown",
   "metadata": {},
   "source": [
    "Instructions:\n",
    "\n",
    "1. Create a new cell beneath this one and make sure you are in \"code\" mode. \n",
    "2. Using `pearsonr`, calculate the r-value and p-value between the `temp` and `rh` arrays.\n",
    "3. Is there a strong linear relationship between temperature and RH? Why or why not?\n",
    "\n",
    "---"
   ]
  },
  {
   "cell_type": "markdown",
   "metadata": {},
   "source": [
    "### Linear regression\n",
    "\n",
    "Another common statistical operation in climate science is [linear regression](https://en.wikipedia.org/wiki/Linear_regression).\n",
    "\n",
    "Linear regression models the relationship between a dependent variable \"y\" and one (or more) independent variables denoted \"x\". \n",
    "\n",
    "Using linear regression, we can compute the slope of a best-fitted line between, for example, temperature observations (dependent variable) over some time period (independent variable). The slope is equivalent to the trend of temperature over time.  \n",
    "\n",
    "Let's demonstrate with an important question:\n",
    "\n",
    ">What is the trend of annual temperatures across California over the past 50 years (1968-2017)?"
   ]
  },
  {
   "cell_type": "code",
   "execution_count": 19,
   "metadata": {},
   "outputs": [],
   "source": [
    "# 1968-2017 California temperatures, our dependent \"y\" variable\n",
    "temp_1968_2017 = np.array([57.6, 57.5, 57.8, 56.2, 57.3, 57.3, 57.6, 56.3, 57.5, 58.0, 57.6, 57.7, \n",
    "                           58.1, 59.3, 56.3, 57.6, 58.2, 57.3, 58.9, 58.3, 58.7, 58.1, 58.0, 58.1, \n",
    "                           59.3, 57.7, 58.0, 58.9, 59.6, 59.1, 56.7, 58.0, 58.8, 59.1, 58.8, 59.4, \n",
    "                           58.9, 58.6, 58.6, 58.9, 58.9, 58.8, 57.7, 57.4, 59.5, 59.3, 61.4, 60.8, \n",
    "                           60.1, 60.3])"
   ]
  },
  {
   "cell_type": "markdown",
   "metadata": {},
   "source": [
    "We also need an array of years that span 1968-2017. \n",
    "\n",
    "We could create a new array and type in every year using:\n",
    "\n",
    "`years = np.array([1968, 1969, 1970, ..., 2017])`\n",
    "\n",
    "That's tedious! Luckily, [np.arange()](https://docs.scipy.org/doc/numpy/reference/generated/numpy.arange.html) is a numpy function that creates an array storing a range of numbers.  "
   ]
  },
  {
   "cell_type": "code",
   "execution_count": 20,
   "metadata": {},
   "outputs": [
    {
     "name": "stdout",
     "output_type": "stream",
     "text": [
      "[1968 1969 1970 1971 1972 1973 1974 1975 1976 1977 1978 1979 1980 1981 1982\n",
      " 1983 1984 1985 1986 1987 1988 1989 1990 1991 1992 1993 1994 1995 1996 1997\n",
      " 1998 1999 2000 2001 2002 2003 2004 2005 2006 2007 2008 2009 2010 2011 2012\n",
      " 2013 2014 2015 2016]\n"
     ]
    }
   ],
   "source": [
    "years = np.arange(1968,2017)\n",
    "print(years)"
   ]
  },
  {
   "cell_type": "markdown",
   "metadata": {},
   "source": [
    "Why does this array end with 2016 when we entered 2017 as the final value?\n",
    "\n",
    "**Python counts up to but does not include the final value in a range!**\n",
    "\n",
    "Thus, we need to modify `years` to have an end value of 2018, so it includes 2017."
   ]
  },
  {
   "cell_type": "code",
   "execution_count": 21,
   "metadata": {},
   "outputs": [
    {
     "name": "stdout",
     "output_type": "stream",
     "text": [
      "[1968 1969 1970 1971 1972 1973 1974 1975 1976 1977 1978 1979 1980 1981 1982\n",
      " 1983 1984 1985 1986 1987 1988 1989 1990 1991 1992 1993 1994 1995 1996 1997\n",
      " 1998 1999 2000 2001 2002 2003 2004 2005 2006 2007 2008 2009 2010 2011 2012\n",
      " 2013 2014 2015 2016 2017]\n"
     ]
    }
   ],
   "source": [
    "# 1968-2017 years, our independent \"x\" variable\n",
    "years = np.arange(1968,2018) #alternatively, np.arange(1968,2017+1)\n",
    "print(years)"
   ]
  },
  {
   "cell_type": "markdown",
   "metadata": {},
   "source": [
    "Use the [scipy.stats.linregress](https://docs.scipy.org/doc/scipy-0.14.0/reference/generated/scipy.stats.linregress.html) funtion to compute the trend.\n",
    "\n",
    "The general syntax of the `lineregress` function is:\n",
    "\n",
    "`slope, intercept, r_value, p_value, std_err = stats.linregress(x, y)`\n",
    "\n",
    "This says \"return the slope, interecept, r_value, p_value, and std_err by performing a linear regression of the variables x and y.\"\n",
    "\n",
    "* slope = slope (or trend) of the regression line\n",
    "\n",
    "* intercept = intercept of the regression line\n",
    "\n",
    "* r-value = correlation coefficient\n",
    "\n",
    "* p-value = two-sided p-value for a hypothesis test whose null hypothesis is that the slope is zero\n",
    "\n",
    "* stderr = standard error of the estimate\n",
    "\n",
    "Let's enter our `x` (`years`) and `y` (`temp_1968_2017`) arrays and compute the slope of the regression line."
   ]
  },
  {
   "cell_type": "code",
   "execution_count": 22,
   "metadata": {},
   "outputs": [
    {
     "name": "stdout",
     "output_type": "stream",
     "text": [
      "0.0514621848739\n"
     ]
    }
   ],
   "source": [
    "slope, intercept, r_value, p_value, std_err = stats.linregress(years, temp_1968_2017)\n",
    "print(slope)"
   ]
  },
  {
   "cell_type": "markdown",
   "metadata": {},
   "source": [
    "The slope is approximately 0.05 degrees F per year, or 0.5 degrees F per decade, or 2.5 degrees F per 50 years.\n",
    "\n",
    "In other words, California is warming due to climate change.  "
   ]
  },
  {
   "cell_type": "markdown",
   "metadata": {},
   "source": [
    "---\n",
    "\n",
    "** ---- In-class exercise ---- **\n",
    "\n",
    "\n",
    "Let's explore how annual *maximum* temperature over California has changed over the past 50 years. \n",
    "\n",
    "Below is an array storing 1968-2017 annual maximum temperatures over California. "
   ]
  },
  {
   "cell_type": "code",
   "execution_count": 23,
   "metadata": {},
   "outputs": [],
   "source": [
    "tmax_1968_2017 = np.array([ 70.0,  69.7,  70.3,  68.6,  69.6,  69.4,  \n",
    "        70.2,  68.7,  70.5, 70.6,  69.6,  70.1,  70.5,  71.6,  67.9,  \n",
    "        68.6,  70.4,  69.9, 71.2,  70.8,  71.7,  71.1,  70.9,  70.8,  \n",
    "        71.5,  69.8,  70.6, 71.0,  71.9,  71.5,  68.2,  70.8,  71.2,  \n",
    "        71.7,  72. ,  71.8, 71.4,  70.8,  71.3,  72. ,  71.9,  71.7,  \n",
    "        69.8,  70. ,  72.5, 72.6,  74.2,  73.4,  72.5,  72.7])"
   ]
  },
  {
   "cell_type": "markdown",
   "metadata": {},
   "source": [
    "Instructions:\n",
    "\n",
    "1. Create a new cell beneath this one and make sure you are in \"code\" mode. \n",
    "2. Using the `linregress()` function, compute the trend of 1968-2017 maximum annual temperatures over California.  How does it compare to the trend for average temperatures? \n",
    "\n",
    "---"
   ]
  },
  {
   "cell_type": "markdown",
   "metadata": {},
   "source": [
    "## Pandas\n",
    "\n",
    "Numpy is good, but wouldn't it be better if we could label the arrays with things like the year associated with each temperature in an array? Why yes, that would be better. \n",
    "\n",
    "\n",
    "[Pandas](https://pandas.pydata.org/) allows us to do just that. \n",
    "\n",
    "\n",
    "Let's demonstrate what Pandas looks like in action."
   ]
  },
  {
   "cell_type": "code",
   "execution_count": 24,
   "metadata": {},
   "outputs": [
    {
     "name": "stdout",
     "output_type": "stream",
     "text": [
      "0    50.5\n",
      "1    55.3\n",
      "2    65.0\n",
      "3    74.1\n",
      "4    77.7\n",
      "5    80.9\n",
      "6    77.0\n",
      "7    68.3\n",
      "dtype: float64\n"
     ]
    }
   ],
   "source": [
    "# We import the \"pandas\" package and rename is as \"pd\"\n",
    "import pandas as pd\n",
    "\n",
    "# Create a time series called \"temperature\" using the Pandas Series command\n",
    "temperature = pd.Series([50.5, 55.3, 65.0, 74.1, 77.7, 80.9, 77.0, 68.3])\n",
    "\n",
    "# Print the time series\n",
    "print(temperature)"
   ]
  },
  {
   "cell_type": "markdown",
   "metadata": {},
   "source": [
    "What the heck is the 0,1,2...7 doing there? And what's `dtype: float64`?\n",
    "\n",
    "** Indexing values **\n",
    "\n",
    "Pandas Series returns both **values** and corresponding **indices** of each value like a 2-column table. Python, like most languages, starts counting with 0 not 1. \n",
    "\n",
    "So, 50.5 has an index of 0, 55.3 has an index of 1, and so forth.\n",
    "\n",
    "** Data types **\n",
    "\n",
    "There are [many data types](https://realpython.com/python-data-types/) in Python, but for now all we care about are:\n",
    "\n",
    "* Integers: whole numbers like 5, 10, -100, 5098\n",
    "* Floats: numbers with decimals like 78.0, -109.8, 50.1234\n",
    "\n",
    "Since each of the values in our `temperature` time series have decimals, Pandas tells us that they're all floats (the 64 refers to the 32 vs 64 bit...not important)."
   ]
  },
  {
   "cell_type": "markdown",
   "metadata": {},
   "source": [
    "---\n",
    "** ---- In-class exercise ---- **\n",
    "\n",
    "Here is a table showing the last 6 years of annual-average temperatures over Las Vegas, Nevada. \n",
    "\n",
    "| Year | Temp (F)|\n",
    "|---|---|\n",
    "|2012|71.2|\n",
    "|2013|69.8|\n",
    "|2014|72.0|\n",
    "|2015|71.8|\n",
    "|2016|71.6|\n",
    "|2017|72.3|\n",
    "\n",
    "Instructions: \n",
    "\n",
    "1. Create a new cell beneath this one and make sure you're in \"code\" mode in the drop-down menu.\n",
    "2. Create a Series storing the last 6 annual-average temperatures over Las Vegas, NV.\n",
    "3. Assign this Series to a new variable called \"vegas_temps\".\n",
    "4. Print the Series to confirm that each value is a float.\n",
    "\n",
    "Note: For the record, I am *not* a fan of this city."
   ]
  },
  {
   "cell_type": "markdown",
   "metadata": {},
   "source": [
    "## Modifying the index\n",
    "\n",
    "Having an index of 0, 1, 2, etc., is not that useful to us. Wouldn't it be nice to have an index of say the years corresponding to each temperature? \n",
    "\n",
    "Pandas makes this easy to do:"
   ]
  },
  {
   "cell_type": "code",
   "execution_count": 25,
   "metadata": {},
   "outputs": [
    {
     "name": "stdout",
     "output_type": "stream",
     "text": [
      "2011    50.5\n",
      "2012    55.3\n",
      "2013    65.0\n",
      "2014    74.1\n",
      "2015    77.7\n",
      "2016    80.9\n",
      "2017    77.0\n",
      "2018    68.3\n",
      "dtype: float64\n"
     ]
    }
   ],
   "source": [
    "# Assigning some years to our original \"temperature\" data\n",
    "temperature = pd.Series(data=[50.5, 55.3, 65.0, 74.1, 77.7, 80.9, 77.0, 68.3], \n",
    "                        index=[2011, 2012, 2013, 2014, 2015, 2016, 2017, 2018])\n",
    "print(temperature)"
   ]
  },
  {
   "cell_type": "markdown",
   "metadata": {},
   "source": [
    "To modify the index of a Series, we simply supply the `pd.Series()` function with two arguments: one specifying the `data` values and the other specifying the `index` values. "
   ]
  },
  {
   "cell_type": "markdown",
   "metadata": {},
   "source": [
    "---\n",
    "** ---- In-class exercise --- **\n",
    "\n",
    "Modify `vegas_temps` in the previous exercise so that the indices range from 2012 through 2017. \n",
    "\n",
    "Instructions:\n",
    "\n",
    "1. Create a new cell beneath this one and make sure you are in \"code\" mode.\n",
    "2. Create a Pandas Series that contains the Las Vegas temperatures with their corresponding years as the index in a varible called `vegas_temps`.\n",
    "---"
   ]
  },
  {
   "cell_type": "markdown",
   "metadata": {},
   "source": [
    "## Simple time series statistics\n",
    "\n",
    "Just like Numpy, Pandas has built-in simple statistics for Series:"
   ]
  },
  {
   "cell_type": "code",
   "execution_count": 26,
   "metadata": {},
   "outputs": [
    {
     "name": "stdout",
     "output_type": "stream",
     "text": [
      "Min temp =  50.5 degress F\n",
      "Max temp =  80.9 degrees F\n",
      "Mean temp =  68.6 degrees F\n"
     ]
    }
   ],
   "source": [
    "# Compute the min, max, and mean values in the \"temperatures\" time series\n",
    "# For now, we'll leave the content inside the parenthesis blank\n",
    "min_temp = temperature.min()\n",
    "max_temp = temperature.max()\n",
    "mean_temp = temperature.mean()\n",
    "\n",
    "print(\"Min temp = \", min_temp, \"degress F\")\n",
    "print(\"Max temp = \", max_temp, \"degrees F\")\n",
    "print(\"Mean temp = \", mean_temp, \"degrees F\")"
   ]
  },
  {
   "cell_type": "markdown",
   "metadata": {},
   "source": [
    "---\n",
    "** ---- In-class exercise ---- **\n",
    "\n",
    "Compute the minimum, maximum, and mean, and standard deviation of temperatures for the 2012-2017 Las Vegas time series. \n",
    "\n",
    "Instructions:\n",
    "\n",
    "1. Create a new cell beneath this one and make sure you're in \"code\" mode. \n",
    "2. Write four lines of code to calculate the min, max, mean, and standard deviation of temperatures during 2012-2017.\n",
    "    * Note: the standard deviation command is `.std()`\n",
    "3. Print the results either on four lines or try to print on one line. \n",
    "\n",
    "---"
   ]
  },
  {
   "cell_type": "markdown",
   "metadata": {},
   "source": [
    "## Plotting with Pandas\n",
    "\n",
    "You can use matplotlib to plot Pandas Series, but for even quicker plots, you can use the built-in `plot()` command in Pandas. \n",
    "\n",
    "Let's demonstate with an example:"
   ]
  },
  {
   "cell_type": "code",
   "execution_count": 27,
   "metadata": {},
   "outputs": [
    {
     "data": {
      "text/plain": [
       "<matplotlib.axes._subplots.AxesSubplot at 0x1a1b54c128>"
      ]
     },
     "execution_count": 27,
     "metadata": {},
     "output_type": "execute_result"
    },
    {
     "data": {
      "image/png": "[encoded data removed]",
      "text/plain": [
       "<matplotlib.figure.Figure at 0x1a1a0e9898>"
      ]
     },
     "metadata": {},
     "output_type": "display_data"
    }
   ],
   "source": [
    "# Create a line plot of our 2011-2018 \"temperature\" time series\n",
    "temperature.plot(kind='line', color='violet', title='2011-2018 annual-mean temperatures')"
   ]
  },
  {
   "cell_type": "markdown",
   "metadata": {},
   "source": [
    "`plot()` takes in at-least three arguments:\n",
    "\n",
    "1. `kind` is type of plot to create. It can be 'line', 'bar', 'box', 'scatter', and many more.\n",
    "2. `color` is the color of the displayed data points. There are 156 [named colors to choose from](https://matplotlib.org/examples/color/named_colors.html).\n",
    "3. `title` is of course the title of the plot. It's a good practice to always include a meaningful one. "
   ]
  },
  {
   "cell_type": "markdown",
   "metadata": {},
   "source": [
    "---\n",
    "** ---- In-class exercise ---- **\n",
    "\n",
    "Make a line plot of the 2012-2017 annual-average Las Vegas temperatures.\n",
    "\n",
    "Instructions: \n",
    "\n",
    "1. [Last time I'll say this!] Create a new cell beneath this one and make sure you're in \"code\" mode. \n",
    "2. Use the `plot()` command to create a line plot of the data stored in `vegas_temps`.\n",
    "3. Choose a color you like and that looks good on a white background. Give your figure a meaninful title. \n",
    "\n",
    "---"
   ]
  },
  {
   "cell_type": "markdown",
   "metadata": {},
   "source": [
    "** ---- In-class exercise ---- **\n",
    "\n",
    "Let's put all of our new skills together using a new set of data. Below is a table containing the maximum July temperatures (degrees F) over Los Angeles during 2008-2018.\n",
    "\n",
    "| Year | Temp (F)|\n",
    "|---|---|\n",
    "|2008|74.5|\n",
    "|2009|73.8|\n",
    "|2010|70.5|\n",
    "|2011|73.3|\n",
    "|2012|71.6|\n",
    "|2013|73.9|\n",
    "|2014|77.0|\n",
    "|2015|75.4|\n",
    "|2016|77.4|\n",
    "|2017|77.5|\n",
    "|2018|80.1|\n",
    "\n",
    "Instructions:\n",
    "\n",
    "1. Create a Series of these temperatures with corresponding years as the index in a new variable called \"la_july_temps\".\n",
    "2. Calculate the average temperture for this period and print the results. \n",
    "3. Make a line chart of this data to visualize the short-term trend. \n",
    "---"
   ]
  },
  {
   "cell_type": "markdown",
   "metadata": {},
   "source": [
    "## Creating date ranges and a DatetimeIndex \n",
    "\n",
    "Manually entering dates into our Series Index is tediuous. \n",
    "\n",
    "Usefully, we can create a [pd.date_range](https://pandas.pydata.org/pandas-docs/stable/generated/pandas.date_range.html) to set some dates as our index. When we do this, Pandas calls the index a \"DatetimeIndex\".\n",
    "\n",
    "`pd.date_range` can create date ranges with [frequency intervals](http://pandas.pydata.org/pandas-docs/stable/timeseries.html#offset-aliases) ranging from nanoseconds to years.\n",
    "\n",
    "Most common to climate data would be date ranges in intervals of hours, days, months, and years:"
   ]
  },
  {
   "cell_type": "code",
   "execution_count": 28,
   "metadata": {},
   "outputs": [
    {
     "data": {
      "text/plain": [
       "DatetimeIndex(['2018-09-25 00:00:00', '2018-09-25 01:00:00',\n",
       "               '2018-09-25 02:00:00', '2018-09-25 03:00:00',\n",
       "               '2018-09-25 04:00:00', '2018-09-25 05:00:00',\n",
       "               '2018-09-25 06:00:00', '2018-09-25 07:00:00',\n",
       "               '2018-09-25 08:00:00', '2018-09-25 09:00:00',\n",
       "               '2018-09-25 10:00:00', '2018-09-25 11:00:00',\n",
       "               '2018-09-25 12:00:00', '2018-09-25 13:00:00',\n",
       "               '2018-09-25 14:00:00', '2018-09-25 15:00:00',\n",
       "               '2018-09-25 16:00:00', '2018-09-25 17:00:00',\n",
       "               '2018-09-25 18:00:00', '2018-09-25 19:00:00',\n",
       "               '2018-09-25 20:00:00', '2018-09-25 21:00:00',\n",
       "               '2018-09-25 22:00:00', '2018-09-25 23:00:00',\n",
       "               '2018-09-26 00:00:00'],\n",
       "              dtype='datetime64[ns]', freq='H')"
      ]
     },
     "execution_count": 28,
     "metadata": {},
     "output_type": "execute_result"
    }
   ],
   "source": [
    "# Range of dates incremented by hours ['H'], starting on midnight 9/25 and ending on midnight 9/26\n",
    "pd.date_range(start='2018-09-25', end='2018-09-26', freq='H')"
   ]
  },
  {
   "cell_type": "code",
   "execution_count": 29,
   "metadata": {},
   "outputs": [
    {
     "data": {
      "text/plain": [
       "DatetimeIndex(['2018-09-01', '2018-09-02', '2018-09-03', '2018-09-04',\n",
       "               '2018-09-05', '2018-09-06', '2018-09-07', '2018-09-08',\n",
       "               '2018-09-09', '2018-09-10'],\n",
       "              dtype='datetime64[ns]', freq='D')"
      ]
     },
     "execution_count": 29,
     "metadata": {},
     "output_type": "execute_result"
    }
   ],
   "source": [
    "# Range of dates incremented by days ['D'], starting on 9/1 and ending on 9/10\n",
    "pd.date_range(start='2018-09-01', end='2018-09-10', freq='D')"
   ]
  },
  {
   "cell_type": "code",
   "execution_count": 30,
   "metadata": {},
   "outputs": [
    {
     "data": {
      "text/plain": [
       "DatetimeIndex(['2018-01-31', '2018-02-28', '2018-03-31', '2018-04-30',\n",
       "               '2018-05-31', '2018-06-30', '2018-07-31', '2018-08-31',\n",
       "               '2018-09-30', '2018-10-31', '2018-11-30'],\n",
       "              dtype='datetime64[ns]', freq='M')"
      ]
     },
     "execution_count": 30,
     "metadata": {},
     "output_type": "execute_result"
    }
   ],
   "source": [
    "# Range of dates incremented by the end of the month ['M'] for all of 2018\n",
    "# NOTE: the final month is *not* included here\n",
    "pd.date_range(start='2018-01', end='2018-12', freq='M')"
   ]
  },
  {
   "cell_type": "code",
   "execution_count": 31,
   "metadata": {},
   "outputs": [
    {
     "data": {
      "text/plain": [
       "DatetimeIndex(['2018-01-01', '2018-02-01', '2018-03-01', '2018-04-01',\n",
       "               '2018-05-01', '2018-06-01', '2018-07-01', '2018-08-01',\n",
       "               '2018-09-01', '2018-10-01', '2018-11-01', '2018-12-01'],\n",
       "              dtype='datetime64[ns]', freq='MS')"
      ]
     },
     "execution_count": 31,
     "metadata": {},
     "output_type": "execute_result"
    }
   ],
   "source": [
    "# Range of dates incremented by the start of each month ['MS'] for all of 2018\n",
    "# NOTE: the final month is included here\n",
    "pd.date_range(start='2018-01', end='2018-12', freq='MS')"
   ]
  },
  {
   "cell_type": "code",
   "execution_count": 32,
   "metadata": {},
   "outputs": [
    {
     "data": {
      "text/plain": [
       "DatetimeIndex(['2010-12-31', '2011-12-31', '2012-12-31', '2013-12-31',\n",
       "               '2014-12-31', '2015-12-31', '2016-12-31', '2017-12-31'],\n",
       "              dtype='datetime64[ns]', freq='A-DEC')"
      ]
     },
     "execution_count": 32,
     "metadata": {},
     "output_type": "execute_result"
    }
   ],
   "source": [
    "# Range of dates incremented by the end of each year ['A'] (annual) from 2010-2018\n",
    "# NOTE: the final year is *not* included here\n",
    "pd.date_range(start='2010', end='2018', freq='A')"
   ]
  },
  {
   "cell_type": "code",
   "execution_count": 33,
   "metadata": {},
   "outputs": [
    {
     "data": {
      "text/plain": [
       "DatetimeIndex(['2010-01-01', '2011-01-01', '2012-01-01', '2013-01-01',\n",
       "               '2014-01-01', '2015-01-01', '2016-01-01', '2017-01-01',\n",
       "               '2018-01-01'],\n",
       "              dtype='datetime64[ns]', freq='AS-JAN')"
      ]
     },
     "execution_count": 33,
     "metadata": {},
     "output_type": "execute_result"
    }
   ],
   "source": [
    "# Range of dates incremented by the start of each year ['AS'] (annual start)' from 2010-2018\n",
    "# Note: the final year is included here\n",
    "pd.date_range(start='2010', end='2018', freq='AS')"
   ]
  },
  {
   "cell_type": "markdown",
   "metadata": {},
   "source": [
    "--- \n",
    "\n",
    "** ---- In-class exercse ---- **\n",
    "\n",
    "Let's create a new version of `la_july_temps` where we set the index of years using `pd.date_range()`. For reference, here is the data:\n",
    "\n",
    "| Year | Temp (F)|\n",
    "|---|---|\n",
    "|2008|74.5|\n",
    "|2009|73.8|\n",
    "|2010|70.5|\n",
    "|2011|73.3|\n",
    "|2012|71.6|\n",
    "|2013|73.9|\n",
    "|2014|77.0|\n",
    "|2015|75.4|\n",
    "|2016|77.4|\n",
    "|2017|77.5|\n",
    "|2018|80.1|\n",
    "\n",
    "Instructions:\n",
    "\n",
    "1. Create a new variable called `years` and assign it a range of years starting with 2010 and ending with 2018 (make sure 2018 is included).\n",
    "2. Create a new variable called `temps` and assign it a list of corresponding 2010-2018 July temperatures.\n",
    "3. Create a new Pandas Series called `la_july_temps_v2` with `temps` as the data and `years` as the index. \n",
    "---"
   ]
  },
  {
   "cell_type": "markdown",
   "metadata": {},
   "source": [
    "## Slicing data\n",
    "\n",
    "Slicing means extracting a subset of values in a data set. \n",
    "\n",
    "Slicing in Pandas can be done in two ways:\n",
    "\n",
    "1. By the index value\n",
    "2. By the index label\n",
    "\n",
    "In either case, we use sqaure brackets to denote the list or range of data points to subset. \n",
    "\n",
    "Let's demonstrate slicing with a new time series of rainfall values below."
   ]
  },
  {
   "cell_type": "code",
   "execution_count": 34,
   "metadata": {},
   "outputs": [
    {
     "name": "stdout",
     "output_type": "stream",
     "text": [
      "2018-01-01    1.2\n",
      "2018-02-01    2.9\n",
      "2018-03-01    0.0\n",
      "2018-04-01    0.0\n",
      "2018-05-01    3.3\n",
      "2018-06-01    4.8\n",
      "2018-07-01    5.5\n",
      "Freq: MS, dtype: float64\n"
     ]
    }
   ],
   "source": [
    "# Creating a new Series of data to demonstate slicing\n",
    "rainfall = pd.Series(data=[1.2, 2.9, 0, 0, 3.3, 4.8, 5.5], \n",
    "                     index=pd.date_range(start='2018-01', end='2018-07', freq='MS'))\n",
    "print(rainfall)"
   ]
  },
  {
   "cell_type": "markdown",
   "metadata": {},
   "source": [
    "** Slicing by index value **"
   ]
  },
  {
   "cell_type": "code",
   "execution_count": 35,
   "metadata": {},
   "outputs": [
    {
     "name": "stdout",
     "output_type": "stream",
     "text": [
      "1.2\n"
     ]
    }
   ],
   "source": [
    "# Slice a single value: the first data point (index 0)\n",
    "first = rainfall[0]\n",
    "print(first)"
   ]
  },
  {
   "cell_type": "code",
   "execution_count": 36,
   "metadata": {},
   "outputs": [
    {
     "name": "stdout",
     "output_type": "stream",
     "text": [
      "2018-03-01    0.0\n",
      "2018-07-01    5.5\n",
      "dtype: float64\n"
     ]
    }
   ],
   "source": [
    "# Slice a list of values: the 3rd and 7th data points (index 2 and 6)\n",
    "# In this case, we need to slice using a list - denoted by sqaure brackets - of indices\n",
    "third_seventh = rainfall[[2,6]]\n",
    "print(third_seventh)"
   ]
  },
  {
   "cell_type": "code",
   "execution_count": 37,
   "metadata": {},
   "outputs": [
    {
     "name": "stdout",
     "output_type": "stream",
     "text": [
      "2018-02-01    2.9\n",
      "2018-03-01    0.0\n",
      "2018-04-01    0.0\n",
      "Freq: MS, dtype: float64\n"
     ]
    }
   ],
   "source": [
    "# Slicing a range of continous values: the 2nd, 3rd, and 4th data points (index values 1, 2 and 3)\n",
    "# NOTE: Python does not include the last value in a slicing range, so we need to range through index 4\n",
    "second_third_fourth = rainfall[1:4]\n",
    "print(second_third_fourth)"
   ]
  },
  {
   "cell_type": "markdown",
   "metadata": {},
   "source": [
    "** Slicing by index label **\n",
    "\n",
    "Slicing by index values is tricky since Python starts counting at zero, and doesn't include the last value in a range.\n",
    "\n",
    "Good news: we don't need to do this! We can just slice by the index labels instead. "
   ]
  },
  {
   "cell_type": "code",
   "execution_count": 38,
   "metadata": {},
   "outputs": [
    {
     "name": "stdout",
     "output_type": "stream",
     "text": [
      "2018-01-01    1.2\n",
      "Freq: MS, dtype: float64\n"
     ]
    }
   ],
   "source": [
    "# Slicing a single label: the first month\n",
    "first = rainfall['2018-01']\n",
    "print(first)"
   ]
  },
  {
   "cell_type": "code",
   "execution_count": 39,
   "metadata": {},
   "outputs": [
    {
     "name": "stdout",
     "output_type": "stream",
     "text": [
      "2018-03-01    0.0\n",
      "2018-07-01    5.5\n",
      "dtype: float64\n"
     ]
    }
   ],
   "source": [
    "# Slicing by a list of labels: the 3rd and 7th data points\n",
    "# Note: when feeding a list of non-contunous dates, you need to use the pd.Timestamp() command\n",
    "# to convert the string '2018-03-01' (or any date) to a Datetime value for Pandas to interpret it correctly\n",
    "third_seventh = rainfall[[pd.Timestamp('2018-03'),pd.Timestamp('2018-07')]]\n",
    "print(third_seventh)"
   ]
  },
  {
   "cell_type": "code",
   "execution_count": 40,
   "metadata": {},
   "outputs": [
    {
     "name": "stdout",
     "output_type": "stream",
     "text": [
      "2018-02-01    2.9\n",
      "2018-03-01    0.0\n",
      "2018-04-01    0.0\n",
      "Freq: MS, dtype: float64\n"
     ]
    }
   ],
   "source": [
    "# Slicing by a range of labels: the 2nd, 3rd, and 4th data points\n",
    "# Note: Python does include the final element in the range now, since it is a string, not a number. \n",
    "second_third_fourth = rainfall['2018-02':'2018-04']\n",
    "print(second_third_fourth)"
   ]
  },
  {
   "cell_type": "markdown",
   "metadata": {},
   "source": [
    "---\n",
    "** ---- In-class exercise ---- **\n",
    "\n",
    "OK, slicing is quirky and certainly requires a lot of practice. Let's do some of that now. \n",
    "\n",
    "California experienced an epic drought from 2012-2017. One way to measure drought is the [Palmer Drought Severity Index](https://climatedataguide.ucar.edu/climate-data/palmer-drought-severity-index-pdsi), which is an aggregate measure of low precipitation and dry soils. PDSI ranges from -10 (most drought-y) to 10 (no drought). \n",
    "\n",
    "Here is the annual-mean PDSI data from 2012-2017:\n",
    "\n",
    "| Date | PDSI |\n",
    "|---|---|\n",
    "|2012| -1.59|\n",
    "|2013| -2.84|\n",
    "|2014| -5.75|\n",
    "|2015| -4.79|\n",
    "|2016| -1.37|\n",
    "|2017| -0.08|\n",
    "\n",
    "Instructions:\n",
    "1. Use `pd.date_range` to create a variable called `years` that contains the years from 2012-2017.\n",
    "2. Create a Series called `PDSI` containing the PDSI data in table above with `years` as the Index.\n",
    "3. Slice by labels to subset the 2015 PDSI value.\n",
    "4. Slice by labels to subset the 2013, 2015, and 2017 values.\n",
    "5. Slice by labels to subset the 2012-2016 values.\n",
    "6. Create a bar chart of the 2012-2017 PDSI value.\n",
    "    * Hint: Enter the argument `kind='bar'` into the `plot()` command. \n",
    "---"
   ]
  },
  {
   "cell_type": "markdown",
   "metadata": {},
   "source": [
    "## Resampling date ranges \n",
    "\n",
    "Using `pd.date_range()` not only helps us set the index for climate data sets, but it also allows us to efficiently \"resample\" the data.\n",
    "\n",
    "Resample simply means going from one time frequency to another. For example, taking monthly data and aggregating it into annual data. \n",
    "\n",
    "To do this, we'll use the `pd.resample()` function in Pandas.\n",
    "\n",
    "Let's demonstrate with monthly PDSI values for the years 2012 - 2014:"
   ]
  },
  {
   "cell_type": "code",
   "execution_count": 41,
   "metadata": {},
   "outputs": [
    {
     "name": "stdout",
     "output_type": "stream",
     "text": [
      "2012-01-01   -2.26\n",
      "2012-02-01   -3.17\n",
      "2012-03-01   -2.29\n",
      "2012-04-01   -1.72\n",
      "2012-05-01   -1.95\n",
      "2012-06-01   -1.85\n",
      "2012-07-01   -1.74\n",
      "2012-08-01   -1.58\n",
      "2012-09-01   -1.89\n",
      "2012-10-01   -1.98\n",
      "2012-11-01    0.24\n",
      "2012-12-01    1.08\n",
      "2013-01-01   -0.80\n",
      "2013-02-01   -1.67\n",
      "2013-03-01   -2.45\n",
      "2013-04-01   -2.84\n",
      "2013-05-01   -2.98\n",
      "2013-06-01   -3.28\n",
      "2013-07-01   -3.52\n",
      "2013-08-01   -3.24\n",
      "2013-09-01   -2.60\n",
      "2013-10-01   -2.93\n",
      "2013-11-01   -3.41\n",
      "2013-12-01   -4.38\n",
      "2014-01-01   -5.89\n",
      "2014-02-01   -5.88\n",
      "2014-03-01   -5.58\n",
      "2014-04-01   -5.53\n",
      "2014-05-01   -6.04\n",
      "2014-06-01   -6.75\n",
      "2014-07-01   -7.00\n",
      "2014-08-01   -6.34\n",
      "2014-09-01   -5.52\n",
      "2014-10-01   -5.28\n",
      "2014-11-01   -5.21\n",
      "2014-12-01   -3.96\n",
      "Freq: MS, dtype: float64\n"
     ]
    }
   ],
   "source": [
    "dates = pd.date_range(start='2012-01', end='2014-12', freq='MS')\n",
    "PDSI_monthly_2012_2014 = pd.Series(data=[-2.26, -3.17, -2.29, -1.72, -1.95, -1.85, -1.74, -1.58, -1.89, -1.98,\n",
    "                              0.24, 1.08, -0.8, -1.67, -2.45, -2.84, -2.98, -3.28, -3.52, -3.24, -2.6,\n",
    "                              -2.93, -3.41, -4.38, -5.89, -5.88, -5.58, -5.53, -6.04, -6.75, -7.0,\n",
    "                              -6.34, -5.52, -5.28, -5.21, -3.96], index=dates)\n",
    "print(PDSI_monthly_2012_2014)"
   ]
  },
  {
   "cell_type": "markdown",
   "metadata": {},
   "source": [
    "The general syntax for resampling and computing statistics over the new frequency is:\n",
    "\n",
    "{name_of_Series}.resample({new frequency}).{statistic}\n",
    "\n",
    "where:\n",
    "   * name of Series = the name of the Series you want to resample\n",
    "   * new frequency = new and lower frequency type (same as we used before, e.g. 'MS', 'AS') \n",
    "   * statistic = mean(), min(), max(), sum(), etc."
   ]
  },
  {
   "cell_type": "code",
   "execution_count": 42,
   "metadata": {},
   "outputs": [
    {
     "data": {
      "text/plain": [
       "2012-01-01   -1.592500\n",
       "2013-01-01   -2.841667\n",
       "2014-01-01   -5.748333\n",
       "Freq: AS-JAN, dtype: float64"
      ]
     },
     "execution_count": 42,
     "metadata": {},
     "output_type": "execute_result"
    }
   ],
   "source": [
    "# Resampling monthly PDSI to annual and computing the mean\n",
    "PDSI_annual_2012_2014 = PDSI_monthly_2012_2014.resample('AS').mean()\n",
    "PDSI_annual_2012_2014"
   ]
  },
  {
   "cell_type": "markdown",
   "metadata": {},
   "source": [
    "Let's confirm that these annual-means are the same as contained in the `PDSI` Series."
   ]
  },
  {
   "cell_type": "code",
   "execution_count": 43,
   "metadata": {},
   "outputs": [
    {
     "ename": "NameError",
     "evalue": "name 'PDSI' is not defined",
     "output_type": "error",
     "traceback": [
      "\u001b[0;31m---------------------------------------------------------------------------\u001b[0m",
      "\u001b[0;31mNameError\u001b[0m                                 Traceback (most recent call last)",
      "\u001b[0;32m<ipython-input-43-26d50192bb27>\u001b[0m in \u001b[0;36m<module>\u001b[0;34m()\u001b[0m\n\u001b[0;32m----> 1\u001b[0;31m \u001b[0mPDSI\u001b[0m\u001b[0;34m[\u001b[0m\u001b[0;34m'2012'\u001b[0m\u001b[0;34m:\u001b[0m\u001b[0;34m'2014'\u001b[0m\u001b[0;34m]\u001b[0m\u001b[0;34m\u001b[0m\u001b[0m\n\u001b[0m",
      "\u001b[0;31mNameError\u001b[0m: name 'PDSI' is not defined"
     ]
    }
   ],
   "source": [
    "PDSI['2012':'2014']"
   ]
  },
  {
   "cell_type": "markdown",
   "metadata": {},
   "source": [
    "** YEP **"
   ]
  },
  {
   "cell_type": "markdown",
   "metadata": {},
   "source": [
    "---\n",
    "\n",
    "** ---- In-class exercise ---- **\n",
    "\n",
    "Let's practice resampling, this time going from hourly intervals to daily intervals. \n",
    "\n",
    "Below is a list of 2018-09-01 (midnight) through 2018-09-05 (midnight) hourly windspeed values (unit miles per hour):"
   ]
  },
  {
   "cell_type": "code",
   "execution_count": 44,
   "metadata": {},
   "outputs": [],
   "source": [
    "windspeed = [15, 10, 13, 23, 9, 9, 13, 3, 4, 23, 11, 24, 6, 18, 10, 19, 18, 9, 9, 2, \n",
    "             4, 19, 0, 1, 22, 18, 21, 21, 18, 18, 9, 20, 18, 4, 18, 5, 2, 2, 19, 21, \n",
    "             9, 8, 17, 12, 16, 15, 4, 24, 20, 18, 21, 7, 20, 12, 5, 20, 23, 21, 0, \n",
    "             12, 8, 1, 15, 2, 21, 7, 20, 3, 13, 10, 23, 21, 5, 3, 15, 6, 4, 8, 17, \n",
    "             14, 6, 11, 24, 2, 14, 8, 10, 5, 9, 25, 1, 13, 20, 3, 3, 11, 12]"
   ]
  },
  {
   "cell_type": "markdown",
   "metadata": {},
   "source": [
    "Instructions:\n",
    "\n",
    "1. Create a variable called `hours` and assign it a date range of hours from 2018-09-01 (midnight) trough 2018-09-05 (midnight) \n",
    "2. Create a new Pandas Series called `ws` with the `windspeed` values above and `hours` as the index.\n",
    "3. Compute the daily maximum windspeed using the resample function and assign the results to a new variable called `ws_max`.  \n",
    "4. Compute the daily minimum windspeed using the resample function and assign the results to a new variable called `ws_min`.  \n",
    "5. Print the daily max and min windspeeds for all days. \n",
    "\n",
    "---"
   ]
  },
  {
   "cell_type": "code",
   "execution_count": null,
   "metadata": {},
   "outputs": [],
   "source": []
  }
 ],
 "metadata": {
  "kernelspec": {
   "display_name": "Python 3",
   "language": "python",
   "name": "python3"
  },
  "language_info": {
   "codemirror_mode": {
    "name": "ipython",
    "version": 3
   },
   "file_extension": ".py",
   "mimetype": "text/x-python",
   "name": "python",
   "nbconvert_exporter": "python",
   "pygments_lexer": "ipython3",
   "version": "3.5.4"
  }
 },
 "nbformat": 4,
 "nbformat_minor": 2
}
