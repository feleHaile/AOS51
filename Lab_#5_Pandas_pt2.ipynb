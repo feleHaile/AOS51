{
 "cells": [
  {
   "cell_type": "markdown",
   "metadata": {},
   "source": [
    "# AOS 51, Spring 2018, Lab #5\n",
    "\n",
    "# Pandas part 2 \n",
    "\n",
    "In Lab 4, we focused on Pandas Series. Today, we'll extend our skills into 2D Pandas data sets, which are called DataFrames.\n",
    "\n",
    "---"
   ]
  },
  {
   "cell_type": "code",
   "execution_count": 1,
   "metadata": {},
   "outputs": [],
   "source": [
    "import pandas as pd"
   ]
  },
  {
   "cell_type": "markdown",
   "metadata": {},
   "source": [
    "# Creating DataFrames\n",
    "\n",
    "Recall from Lab #4, that a Pandas Series is simply a 1D time series of data with an Index (e.g. a range of numbers, a range of dates).\n",
    "\n",
    "Here are three Series of monthly mean, max, and min temperatures over LA spanning during 2017:"
   ]
  },
  {
   "cell_type": "code",
   "execution_count": 2,
   "metadata": {},
   "outputs": [],
   "source": [
    "tavg = pd.Series([55.8, 57.2, 61.0, 63.6, 63.3, 66.7, 71.7, 72.0, 71.5, 71.5, 65.6, 61.4])"
   ]
  },
  {
   "cell_type": "code",
   "execution_count": 3,
   "metadata": {},
   "outputs": [],
   "source": [
    "tmax = pd.Series([62.7, 62.6, 69.3, 71.9, 69.4, 72.6, 77.5, 77.3, 78.5, 80.4, 73.7, 72.4])"
   ]
  },
  {
   "cell_type": "code",
   "execution_count": 4,
   "metadata": {},
   "outputs": [],
   "source": [
    "tmin = pd.Series([48.8, 51.8, 52.8, 55.4, 57.1, 60.9, 65.8, 66.8, 64.6, 62.5, 57.3, 50.3])"
   ]
  },
  {
   "cell_type": "markdown",
   "metadata": {},
   "source": [
    "Rather than working on each Series individually, let's combine them into a [Pandas DataFrame](https://pandas.pydata.org/pandas-docs/stable/generated/pandas.DataFrame.html).\n",
    "\n",
    "DataFrames are usually abbreviated as \"df\".\n",
    "\n",
    "An empty DataFrame is initialized with:"
   ]
  },
  {
   "cell_type": "code",
   "execution_count": 8,
   "metadata": {},
   "outputs": [],
   "source": [
    "df = pd.DataFrame()"
   ]
  },
  {
   "cell_type": "markdown",
   "metadata": {},
   "source": [
    "We can populate data into the DataFrame using the syntax:\n",
    "\n",
    "df[{column name}] = {column data}\n",
    "\n",
    "where:\n",
    "   * \"column name\" is the user-specified name of the column\n",
    "   * \"column data\" is the Series (OR list OR 1D numpy array) of data for that column"
   ]
  },
  {
   "cell_type": "markdown",
   "metadata": {},
   "source": [
    "Let's assign the `tavg` Series a column name of \"TAVG\" and input that data into the DataFrame."
   ]
  },
  {
   "cell_type": "code",
   "execution_count": 10,
   "metadata": {},
   "outputs": [],
   "source": [
    "df['TAVG'] = tavg"
   ]
  },
  {
   "cell_type": "code",
   "execution_count": 11,
   "metadata": {},
   "outputs": [
    {
     "data": {
      "text/html": [
       "<div>\n",
       "<table border=\"1\" class=\"dataframe\">\n",
       "  <thead>\n",
       "    <tr style=\"text-align: right;\">\n",
       "      <th></th>\n",
       "      <th>TAVG</th>\n",
       "    </tr>\n",
       "  </thead>\n",
       "  <tbody>\n",
       "    <tr>\n",
       "      <th>0</th>\n",
       "      <td>55.8</td>\n",
       "    </tr>\n",
       "    <tr>\n",
       "      <th>1</th>\n",
       "      <td>57.2</td>\n",
       "    </tr>\n",
       "    <tr>\n",
       "      <th>2</th>\n",
       "      <td>61.0</td>\n",
       "    </tr>\n",
       "    <tr>\n",
       "      <th>3</th>\n",
       "      <td>63.6</td>\n",
       "    </tr>\n",
       "    <tr>\n",
       "      <th>4</th>\n",
       "      <td>63.3</td>\n",
       "    </tr>\n",
       "    <tr>\n",
       "      <th>5</th>\n",
       "      <td>66.7</td>\n",
       "    </tr>\n",
       "    <tr>\n",
       "      <th>6</th>\n",
       "      <td>71.7</td>\n",
       "    </tr>\n",
       "    <tr>\n",
       "      <th>7</th>\n",
       "      <td>72.0</td>\n",
       "    </tr>\n",
       "    <tr>\n",
       "      <th>8</th>\n",
       "      <td>71.5</td>\n",
       "    </tr>\n",
       "    <tr>\n",
       "      <th>9</th>\n",
       "      <td>71.5</td>\n",
       "    </tr>\n",
       "    <tr>\n",
       "      <th>10</th>\n",
       "      <td>65.6</td>\n",
       "    </tr>\n",
       "    <tr>\n",
       "      <th>11</th>\n",
       "      <td>61.4</td>\n",
       "    </tr>\n",
       "  </tbody>\n",
       "</table>\n",
       "</div>"
      ],
      "text/plain": [
       "    TAVG\n",
       "0   55.8\n",
       "1   57.2\n",
       "2   61.0\n",
       "3   63.6\n",
       "4   63.3\n",
       "5   66.7\n",
       "6   71.7\n",
       "7   72.0\n",
       "8   71.5\n",
       "9   71.5\n",
       "10  65.6\n",
       "11  61.4"
      ]
     },
     "execution_count": 11,
     "metadata": {},
     "output_type": "execute_result"
    }
   ],
   "source": [
    "df"
   ]
  },
  {
   "cell_type": "markdown",
   "metadata": {},
   "source": [
    "---\n",
    "** In-class exercise **\n",
    "\n",
    "1. Initialize a new and empty DataFrame called \"temp_df\" \n",
    "2. Populate `temp_df` with three columns of data :\n",
    "   * \"TAVG\" - 2017 monthly average temperatures over LA\n",
    "   * \"TMIN\" - 2017 monthly min temperatures over LA\n",
    "   * \"TMAX\" - 2017 monthly max temperatures over LA\n",
    "\n",
    "---"
   ]
  },
  {
   "cell_type": "code",
   "execution_count": 15,
   "metadata": {},
   "outputs": [],
   "source": [
    "temp_df = pd.DataFrame()\n",
    "temp_df['TAVG'] = tavg\n",
    "temp_df['TMIN'] = tmin\n",
    "temp_df['TMAX'] = tmax"
   ]
  },
  {
   "cell_type": "markdown",
   "metadata": {},
   "source": [
    "# DatetimeIndex for DataFrames"
   ]
  },
  {
   "cell_type": "markdown",
   "metadata": {},
   "source": [
    "Just as we did for Series, we can modify the Index to be a range of dates using the [pd.date_range](https://pandas.pydata.org/pandas-docs/stable/generated/pandas.date_range.html) function and then reset the DataFrame Index to those dates."
   ]
  },
  {
   "cell_type": "markdown",
   "metadata": {},
   "source": [
    "Let's create a date range of months in 2017:"
   ]
  },
  {
   "cell_type": "code",
   "execution_count": 16,
   "metadata": {},
   "outputs": [
    {
     "data": {
      "text/plain": [
       "DatetimeIndex(['2017-01-01', '2017-02-01', '2017-03-01', '2017-04-01',\n",
       "               '2017-05-01', '2017-06-01', '2017-07-01', '2017-08-01',\n",
       "               '2017-09-01', '2017-10-01', '2017-11-01', '2017-12-01'],\n",
       "              dtype='datetime64[ns]', freq='MS')"
      ]
     },
     "execution_count": 16,
     "metadata": {},
     "output_type": "execute_result"
    }
   ],
   "source": [
    "dates = pd.date_range(start='2017-01-01', end='2017-12-01', freq='MS')\n",
    "dates"
   ]
  },
  {
   "cell_type": "markdown",
   "metadata": {},
   "source": [
    "Now we can reset the Index of `temp_df` to those dates with:"
   ]
  },
  {
   "cell_type": "code",
   "execution_count": 17,
   "metadata": {},
   "outputs": [],
   "source": [
    "temp_df.index = dates"
   ]
  },
  {
   "cell_type": "code",
   "execution_count": 18,
   "metadata": {},
   "outputs": [
    {
     "data": {
      "text/html": [
       "<div>\n",
       "<table border=\"1\" class=\"dataframe\">\n",
       "  <thead>\n",
       "    <tr style=\"text-align: right;\">\n",
       "      <th></th>\n",
       "      <th>TAVG</th>\n",
       "      <th>TMIN</th>\n",
       "      <th>TMAX</th>\n",
       "    </tr>\n",
       "  </thead>\n",
       "  <tbody>\n",
       "    <tr>\n",
       "      <th>2017-01-01</th>\n",
       "      <td>55.8</td>\n",
       "      <td>48.8</td>\n",
       "      <td>62.7</td>\n",
       "    </tr>\n",
       "    <tr>\n",
       "      <th>2017-02-01</th>\n",
       "      <td>57.2</td>\n",
       "      <td>51.8</td>\n",
       "      <td>62.6</td>\n",
       "    </tr>\n",
       "    <tr>\n",
       "      <th>2017-03-01</th>\n",
       "      <td>61.0</td>\n",
       "      <td>52.8</td>\n",
       "      <td>69.3</td>\n",
       "    </tr>\n",
       "    <tr>\n",
       "      <th>2017-04-01</th>\n",
       "      <td>63.6</td>\n",
       "      <td>55.4</td>\n",
       "      <td>71.9</td>\n",
       "    </tr>\n",
       "    <tr>\n",
       "      <th>2017-05-01</th>\n",
       "      <td>63.3</td>\n",
       "      <td>57.1</td>\n",
       "      <td>69.4</td>\n",
       "    </tr>\n",
       "    <tr>\n",
       "      <th>2017-06-01</th>\n",
       "      <td>66.7</td>\n",
       "      <td>60.9</td>\n",
       "      <td>72.6</td>\n",
       "    </tr>\n",
       "    <tr>\n",
       "      <th>2017-07-01</th>\n",
       "      <td>71.7</td>\n",
       "      <td>65.8</td>\n",
       "      <td>77.5</td>\n",
       "    </tr>\n",
       "    <tr>\n",
       "      <th>2017-08-01</th>\n",
       "      <td>72.0</td>\n",
       "      <td>66.8</td>\n",
       "      <td>77.3</td>\n",
       "    </tr>\n",
       "    <tr>\n",
       "      <th>2017-09-01</th>\n",
       "      <td>71.5</td>\n",
       "      <td>64.6</td>\n",
       "      <td>78.5</td>\n",
       "    </tr>\n",
       "    <tr>\n",
       "      <th>2017-10-01</th>\n",
       "      <td>71.5</td>\n",
       "      <td>62.5</td>\n",
       "      <td>80.4</td>\n",
       "    </tr>\n",
       "    <tr>\n",
       "      <th>2017-11-01</th>\n",
       "      <td>65.6</td>\n",
       "      <td>57.3</td>\n",
       "      <td>73.7</td>\n",
       "    </tr>\n",
       "    <tr>\n",
       "      <th>2017-12-01</th>\n",
       "      <td>61.4</td>\n",
       "      <td>50.3</td>\n",
       "      <td>72.4</td>\n",
       "    </tr>\n",
       "  </tbody>\n",
       "</table>\n",
       "</div>"
      ],
      "text/plain": [
       "            TAVG  TMIN  TMAX\n",
       "2017-01-01  55.8  48.8  62.7\n",
       "2017-02-01  57.2  51.8  62.6\n",
       "2017-03-01  61.0  52.8  69.3\n",
       "2017-04-01  63.6  55.4  71.9\n",
       "2017-05-01  63.3  57.1  69.4\n",
       "2017-06-01  66.7  60.9  72.6\n",
       "2017-07-01  71.7  65.8  77.5\n",
       "2017-08-01  72.0  66.8  77.3\n",
       "2017-09-01  71.5  64.6  78.5\n",
       "2017-10-01  71.5  62.5  80.4\n",
       "2017-11-01  65.6  57.3  73.7\n",
       "2017-12-01  61.4  50.3  72.4"
      ]
     },
     "execution_count": 18,
     "metadata": {},
     "output_type": "execute_result"
    }
   ],
   "source": [
    "temp_df"
   ]
  },
  {
   "cell_type": "markdown",
   "metadata": {},
   "source": [
    "# Shape of DataFrames\n",
    "\n",
    "Since Pandas is built on top of Numpy, Pandas DataFrames have a \"shape\" attribute to reveal the number of rows and columns in the DataFrame."
   ]
  },
  {
   "cell_type": "code",
   "execution_count": 19,
   "metadata": {},
   "outputs": [
    {
     "data": {
      "text/plain": [
       "(12, 3)"
      ]
     },
     "execution_count": 19,
     "metadata": {},
     "output_type": "execute_result"
    }
   ],
   "source": [
    "temp_df.shape"
   ]
  },
  {
   "cell_type": "markdown",
   "metadata": {},
   "source": [
    "# Slicing DataFrames\n",
    "\n",
    "Now that we have a full DataFrame, we'll want to slice certain rows and/or columns for further analyses. \n"
   ]
  },
  {
   "cell_type": "markdown",
   "metadata": {},
   "source": [
    "** Slicing a single column **\n",
    "\n",
    "Extracting a single column from the DataFrame to work with a Series has the syntax:\n",
    "\n",
    "{user-defined name of Series} = df['{name of column to slice}']\n",
    "\n",
    "As an example, to extract the \"TAVG\" column in `temp_df` and rename this now 1D Series of data to \"tavg\":"
   ]
  },
  {
   "cell_type": "code",
   "execution_count": 21,
   "metadata": {},
   "outputs": [],
   "source": [
    "tavg = temp_df['TAVG']"
   ]
  },
  {
   "cell_type": "markdown",
   "metadata": {},
   "source": [
    "This is simply the flipped version of populating the DataFrame with a Series that we entered at the beginning of this lecture (`temp_df['TAVG'] = tavg`). "
   ]
  },
  {
   "cell_type": "markdown",
   "metadata": {},
   "source": [
    "---\n",
    "** In-class exercise **\n",
    "1. Extract the 'TMIN' and 'TMAX' columns in `temp_df` and assign them the Series names \"tmin\" and \"tmax'.\n",
    "2. Since Pandas inherits all the core Python functions, how can you prove that \"tmin\" and \"tmax\" are Pandas Series data types?\n",
    "---"
   ]
  },
  {
   "cell_type": "markdown",
   "metadata": {},
   "source": [
    "** Generalized slicing techniques**\n",
    "\n",
    "Like Series, we can slice rows/columns either by (1) positions (row numbers) or (2) Index Labels.\n",
    "\n",
    "Unlike Series, we now need to use two functions to slice DataFrames:\n",
    "\n",
    "   1. `df.iloc` = slice by index position (the \"i\" means index location)\n",
    "   2. `df.loc` = slice by index label"
   ]
  },
  {
   "cell_type": "markdown",
   "metadata": {},
   "source": [
    "** 1. Slicing by position (df.iloc) **\n",
    "\n",
    "The general syntax to slice by position is:\n",
    "\n",
    "`df.iloc[{row_selection}]` \n",
    "\n",
    "or with row and column inputs:\n",
    "\n",
    "`df.iloc[{row_selection}, {column_selection}]`\n",
    "\n",
    "where row/column selections can be:\n",
    "\n",
    "   * single value, e.g. [5] \n",
    "   * list of values, e.g. [0,1,2]\n",
    "   * range of values, e.g. [3:6]\n"
   ]
  },
  {
   "cell_type": "markdown",
   "metadata": {},
   "source": [
    "Let's demonstrate with examples of `temp_df`:"
   ]
  },
  {
   "cell_type": "code",
   "execution_count": 88,
   "metadata": {},
   "outputs": [
    {
     "data": {
      "text/plain": [
       "TAVG    55.8\n",
       "TMIN    48.8\n",
       "TMAX    62.7\n",
       "Name: 2017-01-01 00:00:00, dtype: float64"
      ]
     },
     "execution_count": 88,
     "metadata": {},
     "output_type": "execute_result"
    }
   ],
   "source": [
    "# Slice rows by position: 1st row (zeroth row index)\n",
    "temp_df.iloc[0]"
   ]
  },
  {
   "cell_type": "code",
   "execution_count": 89,
   "metadata": {},
   "outputs": [
    {
     "data": {
      "text/html": [
       "<div>\n",
       "<table border=\"1\" class=\"dataframe\">\n",
       "  <thead>\n",
       "    <tr style=\"text-align: right;\">\n",
       "      <th></th>\n",
       "      <th>TAVG</th>\n",
       "      <th>TMIN</th>\n",
       "      <th>TMAX</th>\n",
       "    </tr>\n",
       "  </thead>\n",
       "  <tbody>\n",
       "    <tr>\n",
       "      <th>2017-02-01</th>\n",
       "      <td>57.2</td>\n",
       "      <td>51.8</td>\n",
       "      <td>62.6</td>\n",
       "    </tr>\n",
       "    <tr>\n",
       "      <th>2017-03-01</th>\n",
       "      <td>61.0</td>\n",
       "      <td>52.8</td>\n",
       "      <td>69.3</td>\n",
       "    </tr>\n",
       "    <tr>\n",
       "      <th>2017-04-01</th>\n",
       "      <td>63.6</td>\n",
       "      <td>55.4</td>\n",
       "      <td>71.9</td>\n",
       "    </tr>\n",
       "  </tbody>\n",
       "</table>\n",
       "</div>"
      ],
      "text/plain": [
       "            TAVG  TMIN  TMAX\n",
       "2017-02-01  57.2  51.8  62.6\n",
       "2017-03-01  61.0  52.8  69.3\n",
       "2017-04-01  63.6  55.4  71.9"
      ]
     },
     "execution_count": 89,
     "metadata": {},
     "output_type": "execute_result"
    }
   ],
   "source": [
    "# Slice rows by position: 2nd, 3rd, and 4th rows (1st, 2nd, and 3rd row indices)\n",
    "temp_df.iloc[[1,2,3]]"
   ]
  },
  {
   "cell_type": "code",
   "execution_count": 90,
   "metadata": {},
   "outputs": [
    {
     "data": {
      "text/html": [
       "<div>\n",
       "<table border=\"1\" class=\"dataframe\">\n",
       "  <thead>\n",
       "    <tr style=\"text-align: right;\">\n",
       "      <th></th>\n",
       "      <th>TAVG</th>\n",
       "      <th>TMIN</th>\n",
       "      <th>TMAX</th>\n",
       "    </tr>\n",
       "  </thead>\n",
       "  <tbody>\n",
       "    <tr>\n",
       "      <th>2017-05-01</th>\n",
       "      <td>63.3</td>\n",
       "      <td>57.1</td>\n",
       "      <td>69.4</td>\n",
       "    </tr>\n",
       "    <tr>\n",
       "      <th>2017-06-01</th>\n",
       "      <td>66.7</td>\n",
       "      <td>60.9</td>\n",
       "      <td>72.6</td>\n",
       "    </tr>\n",
       "    <tr>\n",
       "      <th>2017-07-01</th>\n",
       "      <td>71.7</td>\n",
       "      <td>65.8</td>\n",
       "      <td>77.5</td>\n",
       "    </tr>\n",
       "    <tr>\n",
       "      <th>2017-08-01</th>\n",
       "      <td>72.0</td>\n",
       "      <td>66.8</td>\n",
       "      <td>77.3</td>\n",
       "    </tr>\n",
       "    <tr>\n",
       "      <th>2017-09-01</th>\n",
       "      <td>71.5</td>\n",
       "      <td>64.6</td>\n",
       "      <td>78.5</td>\n",
       "    </tr>\n",
       "    <tr>\n",
       "      <th>2017-10-01</th>\n",
       "      <td>71.5</td>\n",
       "      <td>62.5</td>\n",
       "      <td>80.4</td>\n",
       "    </tr>\n",
       "  </tbody>\n",
       "</table>\n",
       "</div>"
      ],
      "text/plain": [
       "            TAVG  TMIN  TMAX\n",
       "2017-05-01  63.3  57.1  69.4\n",
       "2017-06-01  66.7  60.9  72.6\n",
       "2017-07-01  71.7  65.8  77.5\n",
       "2017-08-01  72.0  66.8  77.3\n",
       "2017-09-01  71.5  64.6  78.5\n",
       "2017-10-01  71.5  62.5  80.4"
      ]
     },
     "execution_count": 90,
     "metadata": {},
     "output_type": "execute_result"
    }
   ],
   "source": [
    "# Slice rows by position: range of 5-10th rows (4th-9th indices)\n",
    "temp_df.iloc[4:10]"
   ]
  },
  {
   "cell_type": "code",
   "execution_count": 91,
   "metadata": {},
   "outputs": [
    {
     "data": {
      "text/plain": [
       "57.200000000000003"
      ]
     },
     "execution_count": 91,
     "metadata": {},
     "output_type": "execute_result"
    }
   ],
   "source": [
    "# Slice rows and columns by position: 2nd row, 1st column (1st row index, zeroth column index)\n",
    "temp_df.iloc[1,0]"
   ]
  },
  {
   "cell_type": "code",
   "execution_count": 92,
   "metadata": {},
   "outputs": [
    {
     "data": {
      "text/html": [
       "<div>\n",
       "<table border=\"1\" class=\"dataframe\">\n",
       "  <thead>\n",
       "    <tr style=\"text-align: right;\">\n",
       "      <th></th>\n",
       "      <th>TMIN</th>\n",
       "      <th>TMAX</th>\n",
       "    </tr>\n",
       "  </thead>\n",
       "  <tbody>\n",
       "    <tr>\n",
       "      <th>2017-01-01</th>\n",
       "      <td>48.8</td>\n",
       "      <td>62.7</td>\n",
       "    </tr>\n",
       "    <tr>\n",
       "      <th>2017-03-01</th>\n",
       "      <td>52.8</td>\n",
       "      <td>69.3</td>\n",
       "    </tr>\n",
       "  </tbody>\n",
       "</table>\n",
       "</div>"
      ],
      "text/plain": [
       "            TMIN  TMAX\n",
       "2017-01-01  48.8  62.7\n",
       "2017-03-01  52.8  69.3"
      ]
     },
     "execution_count": 92,
     "metadata": {},
     "output_type": "execute_result"
    }
   ],
   "source": [
    "# Slice rows and columns by position: 1st and 3rd rows, 2nd and 3rd columns (zeroth and 2nd row index, 1st and 2nd column index)\n",
    "temp_df.iloc[[0,2], [1,2]]"
   ]
  },
  {
   "cell_type": "code",
   "execution_count": 93,
   "metadata": {},
   "outputs": [
    {
     "data": {
      "text/html": [
       "<div>\n",
       "<table border=\"1\" class=\"dataframe\">\n",
       "  <thead>\n",
       "    <tr style=\"text-align: right;\">\n",
       "      <th></th>\n",
       "      <th>TAVG</th>\n",
       "      <th>TMIN</th>\n",
       "    </tr>\n",
       "  </thead>\n",
       "  <tbody>\n",
       "    <tr>\n",
       "      <th>2017-05-01</th>\n",
       "      <td>63.3</td>\n",
       "      <td>57.1</td>\n",
       "    </tr>\n",
       "    <tr>\n",
       "      <th>2017-06-01</th>\n",
       "      <td>66.7</td>\n",
       "      <td>60.9</td>\n",
       "    </tr>\n",
       "    <tr>\n",
       "      <th>2017-07-01</th>\n",
       "      <td>71.7</td>\n",
       "      <td>65.8</td>\n",
       "    </tr>\n",
       "    <tr>\n",
       "      <th>2017-08-01</th>\n",
       "      <td>72.0</td>\n",
       "      <td>66.8</td>\n",
       "    </tr>\n",
       "  </tbody>\n",
       "</table>\n",
       "</div>"
      ],
      "text/plain": [
       "            TAVG  TMIN\n",
       "2017-05-01  63.3  57.1\n",
       "2017-06-01  66.7  60.9\n",
       "2017-07-01  71.7  65.8\n",
       "2017-08-01  72.0  66.8"
      ]
     },
     "execution_count": 93,
     "metadata": {},
     "output_type": "execute_result"
    }
   ],
   "source": [
    "# Slice rows and columns by position: range of 5-8th rows, 1-2nd columns (4-7th row indices, 0-1 col indices)\n",
    "temp_df.iloc[4:8, 0:2]"
   ]
  },
  {
   "cell_type": "markdown",
   "metadata": {},
   "source": [
    "---\n",
    "** In-class exercise **\n",
    "\n",
    "1. Slice the 8th row in `temp_df`\n",
    "2. Slice the 1st, 3rd, and 11th row in `temp_df`\n",
    "3. Slice the range of 10th-12th rows in `temp_df`\n",
    "4. Slice the 7th row and 1st column in `temp_df`\n",
    "5. Slice the 2nd and 5th rows and 1st and 3rd columns in `temp_df`\n",
    "6. Slice the first five rows of first two columns in `temp_df`\n",
    "---"
   ]
  },
  {
   "cell_type": "markdown",
   "metadata": {},
   "source": [
    "** 2. Slicing by labels (df.loc) **\n",
    "\n",
    "The general syntax to slice by label is:\n",
    "\n",
    "`df.loc[{row_selection}]` \n",
    "\n",
    "or with row and column inputs:\n",
    "\n",
    "`df.loc[{row_selection}, {column_selection}]`\n",
    "\n",
    "where row/column selections can be:\n",
    "\n",
    "   * single index/label value, e.g. ['2017-01-01'] \n",
    "   * list of values, e.g. ['2017-01-01', '2017-01-02']\n",
    "   * range of values, e.g. ['2017-01-01':'2017-01-10']\n",
    "   \n",
    "Let's demonstate with examples on `temp_df`."
   ]
  },
  {
   "cell_type": "code",
   "execution_count": 22,
   "metadata": {},
   "outputs": [
    {
     "data": {
      "text/plain": [
       "TAVG    63.3\n",
       "TMIN    57.1\n",
       "TMAX    69.4\n",
       "Name: 2017-05-01 00:00:00, dtype: float64"
      ]
     },
     "execution_count": 22,
     "metadata": {},
     "output_type": "execute_result"
    }
   ],
   "source": [
    "# Slice rows by label: row of '2017-05-01'\n",
    "temp_df.loc['2017-05-01']"
   ]
  },
  {
   "cell_type": "code",
   "execution_count": 23,
   "metadata": {},
   "outputs": [
    {
     "ename": "KeyError",
     "evalue": "\"None of [['2017-01-01', '2017-05-01']] are in the [index]\"",
     "output_type": "error",
     "traceback": [
      "\u001b[0;31m---------------------------------------------------------------------------\u001b[0m",
      "\u001b[0;31mKeyError\u001b[0m                                  Traceback (most recent call last)",
      "\u001b[0;32m<ipython-input-23-c5ef3f7e3f14>\u001b[0m in \u001b[0;36m<module>\u001b[0;34m()\u001b[0m\n\u001b[1;32m      1\u001b[0m \u001b[0;31m# slice rows by label: rows of '2017-01-01' and '2017-15-01'\u001b[0m\u001b[0;34m\u001b[0m\u001b[0;34m\u001b[0m\u001b[0m\n\u001b[0;32m----> 2\u001b[0;31m \u001b[0mtemp_df\u001b[0m\u001b[0;34m.\u001b[0m\u001b[0mloc\u001b[0m\u001b[0;34m[\u001b[0m\u001b[0;34m[\u001b[0m\u001b[0;34m'2017-01-01'\u001b[0m\u001b[0;34m,\u001b[0m \u001b[0;34m'2017-05-01'\u001b[0m\u001b[0;34m]\u001b[0m\u001b[0;34m]\u001b[0m\u001b[0;34m\u001b[0m\u001b[0m\n\u001b[0m",
      "\u001b[0;32m/opt/conda/lib/python3.6/site-packages/pandas/core/indexing.py\u001b[0m in \u001b[0;36m__getitem__\u001b[0;34m(self, key)\u001b[0m\n\u001b[1;32m   1310\u001b[0m             \u001b[0;32mreturn\u001b[0m \u001b[0mself\u001b[0m\u001b[0;34m.\u001b[0m\u001b[0m_getitem_tuple\u001b[0m\u001b[0;34m(\u001b[0m\u001b[0mkey\u001b[0m\u001b[0;34m)\u001b[0m\u001b[0;34m\u001b[0m\u001b[0m\n\u001b[1;32m   1311\u001b[0m         \u001b[0;32melse\u001b[0m\u001b[0;34m:\u001b[0m\u001b[0;34m\u001b[0m\u001b[0m\n\u001b[0;32m-> 1312\u001b[0;31m             \u001b[0;32mreturn\u001b[0m \u001b[0mself\u001b[0m\u001b[0;34m.\u001b[0m\u001b[0m_getitem_axis\u001b[0m\u001b[0;34m(\u001b[0m\u001b[0mkey\u001b[0m\u001b[0;34m,\u001b[0m \u001b[0maxis\u001b[0m\u001b[0;34m=\u001b[0m\u001b[0;36m0\u001b[0m\u001b[0;34m)\u001b[0m\u001b[0;34m\u001b[0m\u001b[0m\n\u001b[0m\u001b[1;32m   1313\u001b[0m \u001b[0;34m\u001b[0m\u001b[0m\n\u001b[1;32m   1314\u001b[0m     \u001b[0;32mdef\u001b[0m \u001b[0m_getitem_axis\u001b[0m\u001b[0;34m(\u001b[0m\u001b[0mself\u001b[0m\u001b[0;34m,\u001b[0m \u001b[0mkey\u001b[0m\u001b[0;34m,\u001b[0m \u001b[0maxis\u001b[0m\u001b[0;34m=\u001b[0m\u001b[0;36m0\u001b[0m\u001b[0;34m)\u001b[0m\u001b[0;34m:\u001b[0m\u001b[0;34m\u001b[0m\u001b[0m\n",
      "\u001b[0;32m/opt/conda/lib/python3.6/site-packages/pandas/core/indexing.py\u001b[0m in \u001b[0;36m_getitem_axis\u001b[0;34m(self, key, axis)\u001b[0m\n\u001b[1;32m   1470\u001b[0m                     \u001b[0;32mraise\u001b[0m \u001b[0mValueError\u001b[0m\u001b[0;34m(\u001b[0m\u001b[0;34m'Cannot index with multidimensional key'\u001b[0m\u001b[0;34m)\u001b[0m\u001b[0;34m\u001b[0m\u001b[0m\n\u001b[1;32m   1471\u001b[0m \u001b[0;34m\u001b[0m\u001b[0m\n\u001b[0;32m-> 1472\u001b[0;31m                 \u001b[0;32mreturn\u001b[0m \u001b[0mself\u001b[0m\u001b[0;34m.\u001b[0m\u001b[0m_getitem_iterable\u001b[0m\u001b[0;34m(\u001b[0m\u001b[0mkey\u001b[0m\u001b[0;34m,\u001b[0m \u001b[0maxis\u001b[0m\u001b[0;34m=\u001b[0m\u001b[0maxis\u001b[0m\u001b[0;34m)\u001b[0m\u001b[0;34m\u001b[0m\u001b[0m\n\u001b[0m\u001b[1;32m   1473\u001b[0m \u001b[0;34m\u001b[0m\u001b[0m\n\u001b[1;32m   1474\u001b[0m             \u001b[0;31m# nested tuple slicing\u001b[0m\u001b[0;34m\u001b[0m\u001b[0;34m\u001b[0m\u001b[0m\n",
      "\u001b[0;32m/opt/conda/lib/python3.6/site-packages/pandas/core/indexing.py\u001b[0m in \u001b[0;36m_getitem_iterable\u001b[0;34m(self, key, axis)\u001b[0m\n\u001b[1;32m   1034\u001b[0m     \u001b[0;32mdef\u001b[0m \u001b[0m_getitem_iterable\u001b[0m\u001b[0;34m(\u001b[0m\u001b[0mself\u001b[0m\u001b[0;34m,\u001b[0m \u001b[0mkey\u001b[0m\u001b[0;34m,\u001b[0m \u001b[0maxis\u001b[0m\u001b[0;34m=\u001b[0m\u001b[0;36m0\u001b[0m\u001b[0;34m)\u001b[0m\u001b[0;34m:\u001b[0m\u001b[0;34m\u001b[0m\u001b[0m\n\u001b[1;32m   1035\u001b[0m         \u001b[0;32mif\u001b[0m \u001b[0mself\u001b[0m\u001b[0;34m.\u001b[0m\u001b[0m_should_validate_iterable\u001b[0m\u001b[0;34m(\u001b[0m\u001b[0maxis\u001b[0m\u001b[0;34m)\u001b[0m\u001b[0;34m:\u001b[0m\u001b[0;34m\u001b[0m\u001b[0m\n\u001b[0;32m-> 1036\u001b[0;31m             \u001b[0mself\u001b[0m\u001b[0;34m.\u001b[0m\u001b[0m_has_valid_type\u001b[0m\u001b[0;34m(\u001b[0m\u001b[0mkey\u001b[0m\u001b[0;34m,\u001b[0m \u001b[0maxis\u001b[0m\u001b[0;34m)\u001b[0m\u001b[0;34m\u001b[0m\u001b[0m\n\u001b[0m\u001b[1;32m   1037\u001b[0m \u001b[0;34m\u001b[0m\u001b[0m\n\u001b[1;32m   1038\u001b[0m         \u001b[0mlabels\u001b[0m \u001b[0;34m=\u001b[0m \u001b[0mself\u001b[0m\u001b[0;34m.\u001b[0m\u001b[0mobj\u001b[0m\u001b[0;34m.\u001b[0m\u001b[0m_get_axis\u001b[0m\u001b[0;34m(\u001b[0m\u001b[0maxis\u001b[0m\u001b[0;34m)\u001b[0m\u001b[0;34m\u001b[0m\u001b[0m\n",
      "\u001b[0;32m/opt/conda/lib/python3.6/site-packages/pandas/core/indexing.py\u001b[0m in \u001b[0;36m_has_valid_type\u001b[0;34m(self, key, axis)\u001b[0m\n\u001b[1;32m   1393\u001b[0m \u001b[0;34m\u001b[0m\u001b[0m\n\u001b[1;32m   1394\u001b[0m                 raise KeyError(\"None of [%s] are in the [%s]\" %\n\u001b[0;32m-> 1395\u001b[0;31m                                (key, self.obj._get_axis_name(axis)))\n\u001b[0m\u001b[1;32m   1396\u001b[0m \u001b[0;34m\u001b[0m\u001b[0m\n\u001b[1;32m   1397\u001b[0m             \u001b[0;32mreturn\u001b[0m \u001b[0;32mTrue\u001b[0m\u001b[0;34m\u001b[0m\u001b[0m\n",
      "\u001b[0;31mKeyError\u001b[0m: \"None of [['2017-01-01', '2017-05-01']] are in the [index]\""
     ]
    }
   ],
   "source": [
    "# slice rows by label: rows of '2017-01-01' and '2017-15-01'\n",
    "temp_df.loc[['2017-01-01', '2017-05-01']]"
   ]
  },
  {
   "cell_type": "markdown",
   "metadata": {},
   "source": [
    "What happened here? \n",
    "\n",
    "Sometimes, when you tell Pandas to search for a list of items that are strings (like '2017-05-01'), it does not know to convert them to Pandas Timestamps and search for those Timestamps in the Index. \n",
    "\n",
    "So, we need to convert these dates from a string to a Pandas [Timestamp](https://pandas.pydata.org/pandas-docs/stable/generated/pandas.Timestamp.html). "
   ]
  },
  {
   "cell_type": "code",
   "execution_count": 96,
   "metadata": {},
   "outputs": [
    {
     "data": {
      "text/html": [
       "<div>\n",
       "<table border=\"1\" class=\"dataframe\">\n",
       "  <thead>\n",
       "    <tr style=\"text-align: right;\">\n",
       "      <th></th>\n",
       "      <th>TAVG</th>\n",
       "      <th>TMIN</th>\n",
       "      <th>TMAX</th>\n",
       "    </tr>\n",
       "  </thead>\n",
       "  <tbody>\n",
       "    <tr>\n",
       "      <th>2017-01-01</th>\n",
       "      <td>55.8</td>\n",
       "      <td>48.8</td>\n",
       "      <td>62.7</td>\n",
       "    </tr>\n",
       "    <tr>\n",
       "      <th>2017-05-01</th>\n",
       "      <td>63.3</td>\n",
       "      <td>57.1</td>\n",
       "      <td>69.4</td>\n",
       "    </tr>\n",
       "  </tbody>\n",
       "</table>\n",
       "</div>"
      ],
      "text/plain": [
       "            TAVG  TMIN  TMAX\n",
       "2017-01-01  55.8  48.8  62.7\n",
       "2017-05-01  63.3  57.1  69.4"
      ]
     },
     "execution_count": 96,
     "metadata": {},
     "output_type": "execute_result"
    }
   ],
   "source": [
    "# slice rows by label: rows of '2017-01-01' and '2017-05-01'\n",
    "temp_df.loc[[pd.Timestamp('2017-01-01'), pd.Timestamp('2017-05-01')]]"
   ]
  },
  {
   "cell_type": "markdown",
   "metadata": {},
   "source": [
    "**Voila!**"
   ]
  },
  {
   "cell_type": "code",
   "execution_count": 49,
   "metadata": {},
   "outputs": [
    {
     "data": {
      "text/html": [
       "<div>\n",
       "<table border=\"1\" class=\"dataframe\">\n",
       "  <thead>\n",
       "    <tr style=\"text-align: right;\">\n",
       "      <th></th>\n",
       "      <th>TAVG</th>\n",
       "      <th>TMIN</th>\n",
       "      <th>TMAX</th>\n",
       "    </tr>\n",
       "  </thead>\n",
       "  <tbody>\n",
       "    <tr>\n",
       "      <th>2017-01-01</th>\n",
       "      <td>55.8</td>\n",
       "      <td>48.8</td>\n",
       "      <td>62.7</td>\n",
       "    </tr>\n",
       "    <tr>\n",
       "      <th>2017-02-01</th>\n",
       "      <td>57.2</td>\n",
       "      <td>51.8</td>\n",
       "      <td>62.6</td>\n",
       "    </tr>\n",
       "    <tr>\n",
       "      <th>2017-03-01</th>\n",
       "      <td>61.0</td>\n",
       "      <td>52.8</td>\n",
       "      <td>69.3</td>\n",
       "    </tr>\n",
       "    <tr>\n",
       "      <th>2017-04-01</th>\n",
       "      <td>63.6</td>\n",
       "      <td>55.4</td>\n",
       "      <td>71.9</td>\n",
       "    </tr>\n",
       "    <tr>\n",
       "      <th>2017-05-01</th>\n",
       "      <td>63.3</td>\n",
       "      <td>57.1</td>\n",
       "      <td>69.4</td>\n",
       "    </tr>\n",
       "  </tbody>\n",
       "</table>\n",
       "</div>"
      ],
      "text/plain": [
       "            TAVG  TMIN  TMAX\n",
       "2017-01-01  55.8  48.8  62.7\n",
       "2017-02-01  57.2  51.8  62.6\n",
       "2017-03-01  61.0  52.8  69.3\n",
       "2017-04-01  63.6  55.4  71.9\n",
       "2017-05-01  63.3  57.1  69.4"
      ]
     },
     "execution_count": 49,
     "metadata": {},
     "output_type": "execute_result"
    }
   ],
   "source": [
    "# Slice rows by label: range of months from 2017-01-01 to 2017-05-01\n",
    "temp_df.loc['2017-01-01':'2017-05-01']"
   ]
  },
  {
   "cell_type": "code",
   "execution_count": 58,
   "metadata": {},
   "outputs": [
    {
     "data": {
      "text/html": [
       "<div>\n",
       "<table border=\"1\" class=\"dataframe\">\n",
       "  <thead>\n",
       "    <tr style=\"text-align: right;\">\n",
       "      <th></th>\n",
       "      <th>TAVG</th>\n",
       "      <th>TMAX</th>\n",
       "    </tr>\n",
       "  </thead>\n",
       "  <tbody>\n",
       "    <tr>\n",
       "      <th>2017-01-01</th>\n",
       "      <td>55.8</td>\n",
       "      <td>62.7</td>\n",
       "    </tr>\n",
       "    <tr>\n",
       "      <th>2017-02-01</th>\n",
       "      <td>57.2</td>\n",
       "      <td>62.6</td>\n",
       "    </tr>\n",
       "    <tr>\n",
       "      <th>2017-03-01</th>\n",
       "      <td>61.0</td>\n",
       "      <td>69.3</td>\n",
       "    </tr>\n",
       "    <tr>\n",
       "      <th>2017-04-01</th>\n",
       "      <td>63.6</td>\n",
       "      <td>71.9</td>\n",
       "    </tr>\n",
       "    <tr>\n",
       "      <th>2017-05-01</th>\n",
       "      <td>63.3</td>\n",
       "      <td>69.4</td>\n",
       "    </tr>\n",
       "    <tr>\n",
       "      <th>2017-06-01</th>\n",
       "      <td>66.7</td>\n",
       "      <td>72.6</td>\n",
       "    </tr>\n",
       "  </tbody>\n",
       "</table>\n",
       "</div>"
      ],
      "text/plain": [
       "            TAVG  TMAX\n",
       "2017-01-01  55.8  62.7\n",
       "2017-02-01  57.2  62.6\n",
       "2017-03-01  61.0  69.3\n",
       "2017-04-01  63.6  71.9\n",
       "2017-05-01  63.3  69.4\n",
       "2017-06-01  66.7  72.6"
      ]
     },
     "execution_count": 58,
     "metadata": {},
     "output_type": "execute_result"
    }
   ],
   "source": [
    "# SLice rows and columns by label: range of months and columns TAVG, TMAX\n",
    "temp_df.loc['2017-01-01':'2017-06-01',['TAVG','TMAX']]"
   ]
  },
  {
   "cell_type": "markdown",
   "metadata": {},
   "source": [
    "---\n",
    "** In-class exericse **\n",
    "1. Using labels, slice row 2017-08-01 and column TMAX\n",
    "2. Using labels, slice the range of rows 2017-05-01 through 2017-10-01 and columns TAVG and TMIN\n",
    "3. Using labels, slice rows 2017-03-01, 2017-08-01, 2017-10-01 and column TMIN\n",
    "---"
   ]
  },
  {
   "cell_type": "markdown",
   "metadata": {},
   "source": [
    "# DataFrame Arithmetic\n",
    "\n",
    "Since Pandas is built on top of Numpy, all of the arithmetic we can do with Numpy is included as DataFrame attributes:\n",
    "\n",
    "   * df.mean(axis=0/1) - take the mean across rows (axis=0) or columns (axis=1)\n",
    "   * df.min(axis=0/1) - compute the min across rows (0) or columns (1)\n",
    "   * df.max(axis=0/1) - compute the max across rows (0) or columns (1)\n",
    "   \n",
    "For example, we can compute the 2017-mean TAVG, TMIN, and TMAX in `temp_df`:"
   ]
  },
  {
   "cell_type": "code",
   "execution_count": 127,
   "metadata": {},
   "outputs": [
    {
     "data": {
      "text/plain": [
       "TAVG    65.108333\n",
       "TMIN    57.841667\n",
       "TMAX    72.358333\n",
       "dtype: float64"
      ]
     },
     "execution_count": 127,
     "metadata": {},
     "output_type": "execute_result"
    }
   ],
   "source": [
    "temp_df.mean(axis=0)"
   ]
  },
  {
   "cell_type": "markdown",
   "metadata": {},
   "source": [
    "# Column Arithmetic\n",
    "\n",
    "Now that we know how to:\n",
    "   * Create columns in a DataFrame\n",
    "   * Extract coumns in a DataFrame\n",
    "   * Code arithmetic using numpy/basic Python\n",
    "  \n",
    "we can easily create new columns of data by performing arithmetic on existing columns.\n",
    "\n",
    "The general syntax is:\n",
    "\n",
    "df[{user-defined new column name}] = df[existing column] + {whatever you want to do with it!}\n",
    "\n",
    "For example, let's create new column called \"TAVG(C)\" where we convert \"TAVG\" (which is in units degrees F) to degrees C. "
   ]
  },
  {
   "cell_type": "code",
   "execution_count": 25,
   "metadata": {},
   "outputs": [
    {
     "data": {
      "text/html": [
       "<div>\n",
       "<table border=\"1\" class=\"dataframe\">\n",
       "  <thead>\n",
       "    <tr style=\"text-align: right;\">\n",
       "      <th></th>\n",
       "      <th>TAVG</th>\n",
       "      <th>TMIN</th>\n",
       "      <th>TMAX</th>\n",
       "      <th>TAVG(C)</th>\n",
       "    </tr>\n",
       "  </thead>\n",
       "  <tbody>\n",
       "    <tr>\n",
       "      <th>2017-01-01</th>\n",
       "      <td>55.8</td>\n",
       "      <td>48.8</td>\n",
       "      <td>62.7</td>\n",
       "      <td>13.222222</td>\n",
       "    </tr>\n",
       "    <tr>\n",
       "      <th>2017-02-01</th>\n",
       "      <td>57.2</td>\n",
       "      <td>51.8</td>\n",
       "      <td>62.6</td>\n",
       "      <td>14.000000</td>\n",
       "    </tr>\n",
       "    <tr>\n",
       "      <th>2017-03-01</th>\n",
       "      <td>61.0</td>\n",
       "      <td>52.8</td>\n",
       "      <td>69.3</td>\n",
       "      <td>16.111111</td>\n",
       "    </tr>\n",
       "    <tr>\n",
       "      <th>2017-04-01</th>\n",
       "      <td>63.6</td>\n",
       "      <td>55.4</td>\n",
       "      <td>71.9</td>\n",
       "      <td>17.555556</td>\n",
       "    </tr>\n",
       "    <tr>\n",
       "      <th>2017-05-01</th>\n",
       "      <td>63.3</td>\n",
       "      <td>57.1</td>\n",
       "      <td>69.4</td>\n",
       "      <td>17.388889</td>\n",
       "    </tr>\n",
       "    <tr>\n",
       "      <th>2017-06-01</th>\n",
       "      <td>66.7</td>\n",
       "      <td>60.9</td>\n",
       "      <td>72.6</td>\n",
       "      <td>19.277778</td>\n",
       "    </tr>\n",
       "    <tr>\n",
       "      <th>2017-07-01</th>\n",
       "      <td>71.7</td>\n",
       "      <td>65.8</td>\n",
       "      <td>77.5</td>\n",
       "      <td>22.055556</td>\n",
       "    </tr>\n",
       "    <tr>\n",
       "      <th>2017-08-01</th>\n",
       "      <td>72.0</td>\n",
       "      <td>66.8</td>\n",
       "      <td>77.3</td>\n",
       "      <td>22.222222</td>\n",
       "    </tr>\n",
       "    <tr>\n",
       "      <th>2017-09-01</th>\n",
       "      <td>71.5</td>\n",
       "      <td>64.6</td>\n",
       "      <td>78.5</td>\n",
       "      <td>21.944444</td>\n",
       "    </tr>\n",
       "    <tr>\n",
       "      <th>2017-10-01</th>\n",
       "      <td>71.5</td>\n",
       "      <td>62.5</td>\n",
       "      <td>80.4</td>\n",
       "      <td>21.944444</td>\n",
       "    </tr>\n",
       "    <tr>\n",
       "      <th>2017-11-01</th>\n",
       "      <td>65.6</td>\n",
       "      <td>57.3</td>\n",
       "      <td>73.7</td>\n",
       "      <td>18.666667</td>\n",
       "    </tr>\n",
       "    <tr>\n",
       "      <th>2017-12-01</th>\n",
       "      <td>61.4</td>\n",
       "      <td>50.3</td>\n",
       "      <td>72.4</td>\n",
       "      <td>16.333333</td>\n",
       "    </tr>\n",
       "  </tbody>\n",
       "</table>\n",
       "</div>"
      ],
      "text/plain": [
       "            TAVG  TMIN  TMAX    TAVG(C)\n",
       "2017-01-01  55.8  48.8  62.7  13.222222\n",
       "2017-02-01  57.2  51.8  62.6  14.000000\n",
       "2017-03-01  61.0  52.8  69.3  16.111111\n",
       "2017-04-01  63.6  55.4  71.9  17.555556\n",
       "2017-05-01  63.3  57.1  69.4  17.388889\n",
       "2017-06-01  66.7  60.9  72.6  19.277778\n",
       "2017-07-01  71.7  65.8  77.5  22.055556\n",
       "2017-08-01  72.0  66.8  77.3  22.222222\n",
       "2017-09-01  71.5  64.6  78.5  21.944444\n",
       "2017-10-01  71.5  62.5  80.4  21.944444\n",
       "2017-11-01  65.6  57.3  73.7  18.666667\n",
       "2017-12-01  61.4  50.3  72.4  16.333333"
      ]
     },
     "execution_count": 25,
     "metadata": {},
     "output_type": "execute_result"
    }
   ],
   "source": [
    "temp_df['TAVG(C)'] = (temp_df['TAVG']-32) * (5/9)\n",
    "temp_df"
   ]
  },
  {
   "cell_type": "markdown",
   "metadata": {},
   "source": [
    "---\n",
    "** In-class exercise **\n",
    "\n",
    "1. Create a new column called \"TMAX(K)\" that converts TMAX from Fahrenheit to Kelvin. \n",
    "\n",
    "   Note: T(K) = T(F) + 459.67 x (5/9)\n",
    "2. Create a new column called \"TMIN(C-1.2)\" that first converts TMIN from Fahrenheight to Celsius and then subtracts 1.2 degrees C from each item. \n",
    "---"
   ]
  },
  {
   "cell_type": "markdown",
   "metadata": {},
   "source": [
    "# Dropping Rows/Columns\n",
    "\n",
    "Like a houseplant, sometimes we need to prune the DataFrame.\n",
    "\n",
    "You can remove rows/columns in a DataFrame using the Pandas [drop](https://pandas.pydata.org/pandas-docs/stable/generated/pandas.DataFrame.drop.html) function. \n",
    "\n",
    "The general syntax is:\n",
    "\n",
    "df.drop(labels=[{list of rows or columns}], axis={0 for dropping on the index/row, 1 for dropping on the columns}\n",
    "\n",
    "Let's demonstrate dropping the \"TMIN(C-1.2)\" column:"
   ]
  },
  {
   "cell_type": "code",
   "execution_count": 72,
   "metadata": {},
   "outputs": [
    {
     "data": {
      "text/html": [
       "<div>\n",
       "<table border=\"1\" class=\"dataframe\">\n",
       "  <thead>\n",
       "    <tr style=\"text-align: right;\">\n",
       "      <th></th>\n",
       "      <th>TAVG</th>\n",
       "      <th>TMIN</th>\n",
       "      <th>TMAX</th>\n",
       "      <th>TAVG(C)</th>\n",
       "    </tr>\n",
       "  </thead>\n",
       "  <tbody>\n",
       "    <tr>\n",
       "      <th>2017-01-01</th>\n",
       "      <td>55.8</td>\n",
       "      <td>48.8</td>\n",
       "      <td>62.7</td>\n",
       "      <td>13.222222</td>\n",
       "    </tr>\n",
       "    <tr>\n",
       "      <th>2017-02-01</th>\n",
       "      <td>57.2</td>\n",
       "      <td>51.8</td>\n",
       "      <td>62.6</td>\n",
       "      <td>14.000000</td>\n",
       "    </tr>\n",
       "    <tr>\n",
       "      <th>2017-03-01</th>\n",
       "      <td>61.0</td>\n",
       "      <td>52.8</td>\n",
       "      <td>69.3</td>\n",
       "      <td>16.111111</td>\n",
       "    </tr>\n",
       "    <tr>\n",
       "      <th>2017-04-01</th>\n",
       "      <td>63.6</td>\n",
       "      <td>55.4</td>\n",
       "      <td>71.9</td>\n",
       "      <td>17.555556</td>\n",
       "    </tr>\n",
       "    <tr>\n",
       "      <th>2017-05-01</th>\n",
       "      <td>63.3</td>\n",
       "      <td>57.1</td>\n",
       "      <td>69.4</td>\n",
       "      <td>17.388889</td>\n",
       "    </tr>\n",
       "    <tr>\n",
       "      <th>2017-06-01</th>\n",
       "      <td>66.7</td>\n",
       "      <td>60.9</td>\n",
       "      <td>72.6</td>\n",
       "      <td>19.277778</td>\n",
       "    </tr>\n",
       "    <tr>\n",
       "      <th>2017-07-01</th>\n",
       "      <td>71.7</td>\n",
       "      <td>65.8</td>\n",
       "      <td>77.5</td>\n",
       "      <td>22.055556</td>\n",
       "    </tr>\n",
       "    <tr>\n",
       "      <th>2017-08-01</th>\n",
       "      <td>72.0</td>\n",
       "      <td>66.8</td>\n",
       "      <td>77.3</td>\n",
       "      <td>22.222222</td>\n",
       "    </tr>\n",
       "    <tr>\n",
       "      <th>2017-09-01</th>\n",
       "      <td>71.5</td>\n",
       "      <td>64.6</td>\n",
       "      <td>78.5</td>\n",
       "      <td>21.944444</td>\n",
       "    </tr>\n",
       "    <tr>\n",
       "      <th>2017-10-01</th>\n",
       "      <td>71.5</td>\n",
       "      <td>62.5</td>\n",
       "      <td>80.4</td>\n",
       "      <td>21.944444</td>\n",
       "    </tr>\n",
       "    <tr>\n",
       "      <th>2017-11-01</th>\n",
       "      <td>65.6</td>\n",
       "      <td>57.3</td>\n",
       "      <td>73.7</td>\n",
       "      <td>18.666667</td>\n",
       "    </tr>\n",
       "    <tr>\n",
       "      <th>2017-12-01</th>\n",
       "      <td>61.4</td>\n",
       "      <td>50.3</td>\n",
       "      <td>72.4</td>\n",
       "      <td>16.333333</td>\n",
       "    </tr>\n",
       "  </tbody>\n",
       "</table>\n",
       "</div>"
      ],
      "text/plain": [
       "            TAVG  TMIN  TMAX    TAVG(C)\n",
       "2017-01-01  55.8  48.8  62.7  13.222222\n",
       "2017-02-01  57.2  51.8  62.6  14.000000\n",
       "2017-03-01  61.0  52.8  69.3  16.111111\n",
       "2017-04-01  63.6  55.4  71.9  17.555556\n",
       "2017-05-01  63.3  57.1  69.4  17.388889\n",
       "2017-06-01  66.7  60.9  72.6  19.277778\n",
       "2017-07-01  71.7  65.8  77.5  22.055556\n",
       "2017-08-01  72.0  66.8  77.3  22.222222\n",
       "2017-09-01  71.5  64.6  78.5  21.944444\n",
       "2017-10-01  71.5  62.5  80.4  21.944444\n",
       "2017-11-01  65.6  57.3  73.7  18.666667\n",
       "2017-12-01  61.4  50.3  72.4  16.333333"
      ]
     },
     "execution_count": 72,
     "metadata": {},
     "output_type": "execute_result"
    }
   ],
   "source": [
    "pruned_df = temp_df.drop(labels=['TMIN(C-1.2)'], axis=1)\n",
    "pruned_df"
   ]
  },
  {
   "cell_type": "markdown",
   "metadata": {},
   "source": [
    "We can also drop rows:"
   ]
  },
  {
   "cell_type": "code",
   "execution_count": 101,
   "metadata": {},
   "outputs": [
    {
     "data": {
      "text/html": [
       "<div>\n",
       "<table border=\"1\" class=\"dataframe\">\n",
       "  <thead>\n",
       "    <tr style=\"text-align: right;\">\n",
       "      <th></th>\n",
       "      <th>TAVG</th>\n",
       "      <th>TMIN</th>\n",
       "      <th>TMAX</th>\n",
       "    </tr>\n",
       "  </thead>\n",
       "  <tbody>\n",
       "    <tr>\n",
       "      <th>2017-01-01</th>\n",
       "      <td>55.8</td>\n",
       "      <td>48.8</td>\n",
       "      <td>62.7</td>\n",
       "    </tr>\n",
       "    <tr>\n",
       "      <th>2017-02-01</th>\n",
       "      <td>57.2</td>\n",
       "      <td>51.8</td>\n",
       "      <td>62.6</td>\n",
       "    </tr>\n",
       "    <tr>\n",
       "      <th>2017-03-01</th>\n",
       "      <td>61.0</td>\n",
       "      <td>52.8</td>\n",
       "      <td>69.3</td>\n",
       "    </tr>\n",
       "    <tr>\n",
       "      <th>2017-04-01</th>\n",
       "      <td>63.6</td>\n",
       "      <td>55.4</td>\n",
       "      <td>71.9</td>\n",
       "    </tr>\n",
       "    <tr>\n",
       "      <th>2017-05-01</th>\n",
       "      <td>63.3</td>\n",
       "      <td>57.1</td>\n",
       "      <td>69.4</td>\n",
       "    </tr>\n",
       "    <tr>\n",
       "      <th>2017-06-01</th>\n",
       "      <td>66.7</td>\n",
       "      <td>60.9</td>\n",
       "      <td>72.6</td>\n",
       "    </tr>\n",
       "    <tr>\n",
       "      <th>2017-07-01</th>\n",
       "      <td>71.7</td>\n",
       "      <td>65.8</td>\n",
       "      <td>77.5</td>\n",
       "    </tr>\n",
       "    <tr>\n",
       "      <th>2017-08-01</th>\n",
       "      <td>72.0</td>\n",
       "      <td>66.8</td>\n",
       "      <td>77.3</td>\n",
       "    </tr>\n",
       "    <tr>\n",
       "      <th>2017-09-01</th>\n",
       "      <td>71.5</td>\n",
       "      <td>64.6</td>\n",
       "      <td>78.5</td>\n",
       "    </tr>\n",
       "    <tr>\n",
       "      <th>2017-10-01</th>\n",
       "      <td>71.5</td>\n",
       "      <td>62.5</td>\n",
       "      <td>80.4</td>\n",
       "    </tr>\n",
       "  </tbody>\n",
       "</table>\n",
       "</div>"
      ],
      "text/plain": [
       "            TAVG  TMIN  TMAX\n",
       "2017-01-01  55.8  48.8  62.7\n",
       "2017-02-01  57.2  51.8  62.6\n",
       "2017-03-01  61.0  52.8  69.3\n",
       "2017-04-01  63.6  55.4  71.9\n",
       "2017-05-01  63.3  57.1  69.4\n",
       "2017-06-01  66.7  60.9  72.6\n",
       "2017-07-01  71.7  65.8  77.5\n",
       "2017-08-01  72.0  66.8  77.3\n",
       "2017-09-01  71.5  64.6  78.5\n",
       "2017-10-01  71.5  62.5  80.4"
      ]
     },
     "execution_count": 101,
     "metadata": {},
     "output_type": "execute_result"
    }
   ],
   "source": [
    "pruned_df = temp_df.drop(labels=[pd.Timestamp('2017-11-01'), pd.Timestamp('2017-12-01')], axis=0)\n",
    "pruned_df"
   ]
  },
  {
   "cell_type": "markdown",
   "metadata": {},
   "source": [
    "# Plotting DataFrames\n",
    "\n",
    "Plotting DataFrames has the same syntax as plotting Series:\n",
    "\n",
    "df.plot(kind={kind of plot}, color={list of colors, length equal to number of columns}, title={give your plot a title!}"
   ]
  },
  {
   "cell_type": "code",
   "execution_count": 116,
   "metadata": {},
   "outputs": [
    {
     "data": {
      "text/plain": [
       "<matplotlib.axes._subplots.AxesSubplot at 0x7fc9cdcd7f98>"
      ]
     },
     "execution_count": 116,
     "metadata": {},
     "output_type": "execute_result"
    },
    {
     "data": {
      "image/png": "[encoded data removed]",
      "text/plain": [
       "<Figure size 432x288 with 1 Axes>"
      ]
     },
     "metadata": {},
     "output_type": "display_data"
    }
   ],
   "source": [
    "temp_df.plot(kind='line', color=['green', 'blue', 'red'], title='2017 LA Monthly Tavg, Tmax, Tmin (degrees F)')"
   ]
  },
  {
   "cell_type": "markdown",
   "metadata": {},
   "source": [
    "---\n",
    "**In-class exercise**\n",
    "\n",
    "Seasonality of precipitation is vasty different across the US. Here are 2017 monthly precipitation amounts (unit: inches) across a few US cities - San Diego (SD), Miami (MIA), Detroit (DET). \n",
    "\n",
    "| |SD|MIA|DET|\n",
    "|---|---|---|---|\n",
    "|201701|3.02|3.41|2.84|\n",
    "|201702|3.71|1.31|1.91|\n",
    "|201703|0.08|3.93|4.26|\n",
    "|201704|0.01|2.16|3.55|\n",
    "|201705|0.92|2.69|4.38|\n",
    "|201706|0.02|15.97|2.03|\n",
    "|201707|0.00|12.45|2.44|\n",
    "|201708|0.00|8.57|3.91|\n",
    "|201709|0.08|14.97|0.91|\n",
    "|201710|0.00|12.61|2.84|\n",
    "|201711|0.02|4.41|4.93|\n",
    "|201712|0.07|0.66|1.49|\n",
    "\n",
    "1. Create a DataFrame storing this information with a Datetime Index.\n",
    "2. Compute the mean precipitation during 2017 for each city. \n",
    "3. Create a bar chart of this data."
   ]
  }
 ],
 "metadata": {
  "kernelspec": {
   "display_name": "Python 3",
   "language": "python",
   "name": "python3"
  },
  "language_info": {
   "codemirror_mode": {
    "name": "ipython",
    "version": 3
   },
   "file_extension": ".py",
   "mimetype": "text/x-python",
   "name": "python",
   "nbconvert_exporter": "python",
   "pygments_lexer": "ipython3",
   "version": "3.5.4"
  }
 },
 "nbformat": 4,
 "nbformat_minor": 2
}
